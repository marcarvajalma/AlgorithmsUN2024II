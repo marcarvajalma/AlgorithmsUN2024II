{
  "cells": [
    {
      "cell_type": "markdown",
      "metadata": {
        "id": "view-in-github",
        "colab_type": "text"
      },
      "source": [
        "<a href=\"https://colab.research.google.com/github/marcarvajalma/AlgorithmsUN2024II/blob/main/Lab3/marcarvajalmaLab3.ipynb\" target=\"_parent\"><img src=\"https://colab.research.google.com/assets/colab-badge.svg\" alt=\"Open In Colab\"/></a>"
      ]
    },
    {
      "cell_type": "code",
      "execution_count": 1,
      "metadata": {
        "colab": {
          "base_uri": "https://localhost:8080/"
        },
        "id": "im-VVd1__7VU",
        "outputId": "d528017f-35ef-4d47-956b-504e0adf2344"
      },
      "outputs": [
        {
          "output_type": "stream",
          "name": "stdout",
          "text": [
            "processor\t: 0\n",
            "vendor_id\t: GenuineIntel\n",
            "cpu family\t: 6\n",
            "model\t\t: 79\n",
            "model name\t: Intel(R) Xeon(R) CPU @ 2.20GHz\n",
            "stepping\t: 0\n",
            "microcode\t: 0xffffffff\n",
            "cpu MHz\t\t: 2199.998\n",
            "cache size\t: 56320 KB\n",
            "physical id\t: 0\n",
            "siblings\t: 2\n",
            "core id\t\t: 0\n",
            "cpu cores\t: 1\n",
            "apicid\t\t: 0\n",
            "initial apicid\t: 0\n",
            "fpu\t\t: yes\n",
            "fpu_exception\t: yes\n",
            "cpuid level\t: 13\n",
            "wp\t\t: yes\n",
            "flags\t\t: fpu vme de pse tsc msr pae mce cx8 apic sep mtrr pge mca cmov pat pse36 clflush mmx fxsr sse sse2 ss ht syscall nx pdpe1gb rdtscp lm constant_tsc rep_good nopl xtopology nonstop_tsc cpuid tsc_known_freq pni pclmulqdq ssse3 fma cx16 pcid sse4_1 sse4_2 x2apic movbe popcnt aes xsave avx f16c rdrand hypervisor lahf_lm abm 3dnowprefetch invpcid_single ssbd ibrs ibpb stibp fsgsbase tsc_adjust bmi1 hle avx2 smep bmi2 erms invpcid rtm rdseed adx smap xsaveopt arat md_clear arch_capabilities\n",
            "bugs\t\t: cpu_meltdown spectre_v1 spectre_v2 spec_store_bypass l1tf mds swapgs taa mmio_stale_data retbleed bhi\n",
            "bogomips\t: 4399.99\n",
            "clflush size\t: 64\n",
            "cache_alignment\t: 64\n",
            "address sizes\t: 46 bits physical, 48 bits virtual\n",
            "power management:\n",
            "\n",
            "processor\t: 1\n",
            "vendor_id\t: GenuineIntel\n",
            "cpu family\t: 6\n",
            "model\t\t: 79\n",
            "model name\t: Intel(R) Xeon(R) CPU @ 2.20GHz\n",
            "stepping\t: 0\n",
            "microcode\t: 0xffffffff\n",
            "cpu MHz\t\t: 2199.998\n",
            "cache size\t: 56320 KB\n",
            "physical id\t: 0\n",
            "siblings\t: 2\n",
            "core id\t\t: 0\n",
            "cpu cores\t: 1\n",
            "apicid\t\t: 1\n",
            "initial apicid\t: 1\n",
            "fpu\t\t: yes\n",
            "fpu_exception\t: yes\n",
            "cpuid level\t: 13\n",
            "wp\t\t: yes\n",
            "flags\t\t: fpu vme de pse tsc msr pae mce cx8 apic sep mtrr pge mca cmov pat pse36 clflush mmx fxsr sse sse2 ss ht syscall nx pdpe1gb rdtscp lm constant_tsc rep_good nopl xtopology nonstop_tsc cpuid tsc_known_freq pni pclmulqdq ssse3 fma cx16 pcid sse4_1 sse4_2 x2apic movbe popcnt aes xsave avx f16c rdrand hypervisor lahf_lm abm 3dnowprefetch invpcid_single ssbd ibrs ibpb stibp fsgsbase tsc_adjust bmi1 hle avx2 smep bmi2 erms invpcid rtm rdseed adx smap xsaveopt arat md_clear arch_capabilities\n",
            "bugs\t\t: cpu_meltdown spectre_v1 spectre_v2 spec_store_bypass l1tf mds swapgs taa mmio_stale_data retbleed bhi\n",
            "bogomips\t: 4399.99\n",
            "clflush size\t: 64\n",
            "cache_alignment\t: 64\n",
            "address sizes\t: 46 bits physical, 48 bits virtual\n",
            "power management:\n",
            "\n"
          ]
        }
      ],
      "source": [
        "!cat /proc/cpuinfo"
      ]
    },
    {
      "cell_type": "markdown",
      "metadata": {
        "id": "N1ok_-56OjB1"
      },
      "source": [
        "# I Solving the Sum of Two Digits Programming Challenge"
      ]
    },
    {
      "cell_type": "markdown",
      "metadata": {
        "id": "MMY7kmDSO0KM"
      },
      "source": [
        "## C++"
      ]
    },
    {
      "cell_type": "code",
      "execution_count": 2,
      "metadata": {
        "colab": {
          "base_uri": "https://localhost:8080/"
        },
        "id": "2pGGf9BkPNIk",
        "outputId": "c3c8e548-c1ad-4d9c-b6e0-c3de90508122"
      },
      "outputs": [
        {
          "output_type": "stream",
          "name": "stdout",
          "text": [
            "Overwriting APlusB.cpp\n"
          ]
        }
      ],
      "source": [
        "%%writefile APlusB.cpp\n",
        "#include <iostream>\n",
        "\n",
        "int sum_of_two_digits(int first_digit, int second_digit) {\n",
        "    return first_digit + second_digit;\n",
        "}\n",
        "\n",
        "int main() {\n",
        "    int a = 0;\n",
        "    int b = 0;\n",
        "    std::cin >> a;\n",
        "    std::cin >> b;\n",
        "    std::cout << sum_of_two_digits(a, b);\n",
        "    return 0;\n",
        "}"
      ]
    },
    {
      "cell_type": "code",
      "execution_count": 3,
      "metadata": {
        "id": "0G3ZKOYAPXSU",
        "outputId": "5dce349b-dca3-47ea-8e7d-e902c8378a89",
        "colab": {
          "base_uri": "https://localhost:8080/"
        }
      },
      "outputs": [
        {
          "output_type": "stream",
          "name": "stdout",
          "text": [
            "2 2\n",
            "4"
          ]
        }
      ],
      "source": [
        "!g++ APlusB.cpp -o APlusB -std=c++11\n",
        "!./APlusB"
      ]
    },
    {
      "cell_type": "markdown",
      "metadata": {
        "id": "iNkG2HqfTl9c"
      },
      "source": [
        "### Test input output files"
      ]
    },
    {
      "cell_type": "code",
      "execution_count": 4,
      "metadata": {
        "id": "aTzU2efzMxly",
        "outputId": "ef12418f-8d74-4a63-fb63-2289d3f54e41",
        "colab": {
          "base_uri": "https://localhost:8080/"
        }
      },
      "outputs": [
        {
          "output_type": "stream",
          "name": "stdout",
          "text": [
            "Overwriting input1.txt\n"
          ]
        }
      ],
      "source": [
        "%%writefile input1.txt\n",
        "4 8"
      ]
    },
    {
      "cell_type": "code",
      "execution_count": 5,
      "metadata": {
        "id": "zBJ0Gc0NQRet",
        "outputId": "136fb5fa-4089-4fd9-c09b-8f9384ad17e5",
        "colab": {
          "base_uri": "https://localhost:8080/"
        }
      },
      "outputs": [
        {
          "output_type": "stream",
          "name": "stdout",
          "text": [
            "Overwriting output1.txt\n"
          ]
        }
      ],
      "source": [
        "%%writefile output1.txt\n",
        "12"
      ]
    },
    {
      "cell_type": "code",
      "execution_count": 6,
      "metadata": {
        "id": "IjEcIx63PJAN",
        "outputId": "874ac4c1-1b1b-415f-d230-a064fde8df54",
        "colab": {
          "base_uri": "https://localhost:8080/"
        }
      },
      "outputs": [
        {
          "output_type": "stream",
          "name": "stdout",
          "text": [
            "Overwriting input2.txt\n"
          ]
        }
      ],
      "source": [
        "%%writefile input2.txt\n",
        "0 9"
      ]
    },
    {
      "cell_type": "code",
      "execution_count": 7,
      "metadata": {
        "id": "Up9gOrxURTmd",
        "outputId": "1e545c53-eab2-4b27-cf02-68871e29ac61",
        "colab": {
          "base_uri": "https://localhost:8080/"
        }
      },
      "outputs": [
        {
          "output_type": "stream",
          "name": "stdout",
          "text": [
            "Overwriting output2.txt\n"
          ]
        }
      ],
      "source": [
        "%%writefile output2.txt\n",
        "9"
      ]
    },
    {
      "cell_type": "code",
      "execution_count": 8,
      "metadata": {
        "id": "PST6G-s-Pwgc",
        "outputId": "7a43b2fa-96ed-482f-96d3-97c29a6bbc3f",
        "colab": {
          "base_uri": "https://localhost:8080/"
        }
      },
      "outputs": [
        {
          "output_type": "stream",
          "name": "stdout",
          "text": [
            "12"
          ]
        }
      ],
      "source": [
        "!./APlusB < input1.txt"
      ]
    },
    {
      "cell_type": "code",
      "execution_count": 9,
      "metadata": {
        "id": "cKxZOjSlRfIN",
        "outputId": "48da338d-fa26-47ae-dab8-ac9b7fe3a72a",
        "colab": {
          "base_uri": "https://localhost:8080/"
        }
      },
      "outputs": [
        {
          "output_type": "stream",
          "name": "stdout",
          "text": [
            "9"
          ]
        }
      ],
      "source": [
        "!./APlusB < input2.txt"
      ]
    },
    {
      "cell_type": "markdown",
      "metadata": {
        "id": "Qw2TQWCCUwqk"
      },
      "source": [
        "### Comparing files with grep\n",
        "\n",
        "https://askubuntu.com/questions/546796/comparing-two-text-files"
      ]
    },
    {
      "cell_type": "code",
      "execution_count": 10,
      "metadata": {
        "id": "WVIaAmMKU4QM"
      },
      "outputs": [],
      "source": [
        "!grep -xvFf output1.txt output1.txt"
      ]
    },
    {
      "cell_type": "code",
      "execution_count": 11,
      "metadata": {
        "id": "MQU8gPPjQuYO",
        "outputId": "04b1470e-ca4e-4b50-8852-2459bc13c905",
        "colab": {
          "base_uri": "https://localhost:8080/"
        }
      },
      "outputs": [
        {
          "output_type": "stream",
          "name": "stdout",
          "text": [
            "9\n"
          ]
        }
      ],
      "source": [
        "!grep -xvFf output1.txt output2.txt"
      ]
    },
    {
      "cell_type": "code",
      "execution_count": 12,
      "metadata": {
        "id": "jYL9OuYBTD_l",
        "outputId": "dffc422e-efc2-47cf-9252-436c9ab5ab4c",
        "colab": {
          "base_uri": "https://localhost:8080/"
        }
      },
      "outputs": [
        {
          "output_type": "stream",
          "name": "stdout",
          "text": [
            "12\n"
          ]
        }
      ],
      "source": [
        "!grep -xvFf output2.txt output1.txt"
      ]
    },
    {
      "cell_type": "code",
      "execution_count": 13,
      "metadata": {
        "id": "Jlja0Xm4TX9M"
      },
      "outputs": [],
      "source": [
        "!./APlusB < input1.txt> ctest1.txt\n",
        "!grep -xvFf output1.txt ctest1.txt"
      ]
    },
    {
      "cell_type": "code",
      "execution_count": 14,
      "metadata": {
        "id": "g9OIUZA_QLCQ"
      },
      "outputs": [],
      "source": [
        "!./APlusB < input2.txt > ctest2.txt\n",
        "!grep -xvFf output2.txt ctest2.txt"
      ]
    },
    {
      "cell_type": "markdown",
      "metadata": {
        "id": "3BgOaDjUVJk6"
      },
      "source": [
        "## Python"
      ]
    },
    {
      "cell_type": "code",
      "execution_count": 15,
      "metadata": {
        "id": "DBvl-T0CTN_8",
        "outputId": "97ace756-6fd1-4376-9312-1573512a958a",
        "colab": {
          "base_uri": "https://localhost:8080/"
        }
      },
      "outputs": [
        {
          "output_type": "stream",
          "name": "stdout",
          "text": [
            "Overwriting sum.py\n"
          ]
        }
      ],
      "source": [
        "%%writefile sum.py\n",
        "# python3\n",
        "\n",
        "def sum_of_two_digits(first_digit, second_digit):\n",
        "    return first_digit + second_digit\n",
        "\n",
        "if __name__ == '__main__':\n",
        "    a, b = map(int, input().split())\n",
        "    print(sum_of_two_digits(a, b))"
      ]
    },
    {
      "cell_type": "code",
      "execution_count": 16,
      "metadata": {
        "id": "QKoKM11_WGyF",
        "outputId": "216cc1a7-2013-46eb-900b-9f0082a00a3a",
        "colab": {
          "base_uri": "https://localhost:8080/"
        }
      },
      "outputs": [
        {
          "output_type": "stream",
          "name": "stdout",
          "text": [
            "2 2\n",
            "4\n"
          ]
        }
      ],
      "source": [
        "!python sum.py"
      ]
    },
    {
      "cell_type": "code",
      "execution_count": 17,
      "metadata": {
        "id": "cocFbPRTWrqt"
      },
      "outputs": [],
      "source": [
        "!python sum.py  < input1.txt> ptest1.txt\n",
        "!grep -xvFf output1.txt ptest1.txt"
      ]
    },
    {
      "cell_type": "code",
      "execution_count": 18,
      "metadata": {
        "id": "MorKTa-XXASN"
      },
      "outputs": [],
      "source": [
        "!python sum.py  < input2.txt> ptest2.txt\n",
        "!grep -xvFf output2.txt ptest2.txt"
      ]
    },
    {
      "cell_type": "markdown",
      "metadata": {
        "id": "uvP-mOubW_5F"
      },
      "source": [
        "# II Solving The Maximum Pairwise Product Programming Challenge in C++"
      ]
    },
    {
      "cell_type": "markdown",
      "metadata": {
        "id": "C12yoFR6Xonl"
      },
      "source": [
        "## C++\n",
        "\n",
        "$$ T(n) < 6 n^2 = O(n^2)$$"
      ]
    },
    {
      "cell_type": "code",
      "execution_count": 19,
      "metadata": {
        "id": "3LpfoGv2Ae81",
        "outputId": "e0d0d373-7792-4ab0-c0ae-920123643a44",
        "colab": {
          "base_uri": "https://localhost:8080/"
        }
      },
      "outputs": [
        {
          "output_type": "stream",
          "name": "stdout",
          "text": [
            "Overwriting max_pairwise_product_full.cpp\n"
          ]
        }
      ],
      "source": [
        "%%writefile max_pairwise_product_full.cpp\n",
        "#include <iostream>\n",
        "#include <vector>\n",
        "#include <algorithm>\n",
        "\n",
        "int MaxPairwiseProduct(const std::vector<int>& numbers) {\n",
        "    int max_product = 0;\n",
        "    int aux_product = 0;\n",
        "    int n = numbers.size();\n",
        "\n",
        "    for (int first = 0; first < n; ++first) {\n",
        "        for (int second = 0; second < n; ++second) {\n",
        "          if ( first != second ){\n",
        "                aux_product = numbers[first] * numbers[second];\n",
        "                if (aux_product > max_product)  max_product = aux_product;\n",
        "          }\n",
        "        }\n",
        "    }\n",
        "\n",
        "    return max_product;\n",
        "}\n",
        "\n",
        "int main() {\n",
        "    int n;\n",
        "    std::cin >> n;\n",
        "    std::vector<int> numbers(n);\n",
        "    for (int i = 0; i < n; ++i) {\n",
        "        std::cin >> numbers[i];\n",
        "    }\n",
        "\n",
        "    std::cout << MaxPairwiseProduct(numbers) << \"\\n\";\n",
        "    return 0;\n",
        "}"
      ]
    },
    {
      "cell_type": "markdown",
      "metadata": {
        "id": "m75IQQPbEHBS"
      },
      "source": [
        "#### Time Complexity\n",
        "$$\\left. \\begin{array}{llc}\n",
        " \\text{INSTRUCTION} & \\text{TYPE}& \\text{# EXECUTIONS}\\\\\n",
        "\\text{first != second} &  \\text{comparisons} &n^2 \\\\\n",
        "\\text{numbers[first] * numbers[second]}& \\ \\text{ products}  &n^2 - n \\\\\n",
        "\\text{max_product = aux_product} &  \\text{assigments} & [1, \\frac{n^2 - n}{2})  \n",
        "\\end{array}\\right\\}  =  O(n^2)$$"
      ]
    },
    {
      "cell_type": "code",
      "execution_count": 20,
      "metadata": {
        "id": "PCVo1h6nCF9k",
        "outputId": "5164359b-7140-4d27-af9a-ebf2384aae75",
        "colab": {
          "base_uri": "https://localhost:8080/"
        }
      },
      "outputs": [
        {
          "output_type": "stream",
          "name": "stdout",
          "text": [
            "4\n",
            "1 2 3 4\n",
            "12\n"
          ]
        }
      ],
      "source": [
        "!g++ max_pairwise_product_full.cpp -o max_pairwise_product_full\n",
        "!./max_pairwise_product_full"
      ]
    },
    {
      "cell_type": "markdown",
      "metadata": {
        "id": "e7KhxHGNS3i0"
      },
      "source": [
        "### Test 1: Small numbers"
      ]
    },
    {
      "cell_type": "code",
      "execution_count": 21,
      "metadata": {
        "id": "17npyXt7lYzA",
        "outputId": "3d95e5b9-10d4-4608-d1c0-f22be2f2a1b0",
        "colab": {
          "base_uri": "https://localhost:8080/"
        }
      },
      "outputs": [
        {
          "output_type": "stream",
          "name": "stdout",
          "text": [
            "Overwriting input0.txt\n"
          ]
        }
      ],
      "source": [
        "%%writefile input0.txt\n",
        "10\n",
        "0 0 0 0 0 0 0 0 0 0"
      ]
    },
    {
      "cell_type": "code",
      "execution_count": 22,
      "metadata": {
        "id": "NooGEkJylezm",
        "outputId": "659ec3c0-0e6e-4a31-eacd-659a2b0c17a9",
        "colab": {
          "base_uri": "https://localhost:8080/"
        }
      },
      "outputs": [
        {
          "output_type": "stream",
          "name": "stdout",
          "text": [
            "Overwriting output0.txt\n"
          ]
        }
      ],
      "source": [
        "%%writefile output0.txt\n",
        "0"
      ]
    },
    {
      "cell_type": "code",
      "execution_count": 23,
      "metadata": {
        "id": "R0yFaAOrlqrE"
      },
      "outputs": [],
      "source": [
        "!./max_pairwise_product_full< input0.txt > ctest0.txt\n",
        "!grep -xvFf output0.txt ctest0.txt"
      ]
    },
    {
      "cell_type": "code",
      "execution_count": 24,
      "metadata": {
        "id": "e1mmTzBgShT-",
        "outputId": "6f040c4a-3715-48d2-839b-ccb1c8369c16",
        "colab": {
          "base_uri": "https://localhost:8080/"
        }
      },
      "outputs": [
        {
          "output_type": "stream",
          "name": "stdout",
          "text": [
            "Overwriting input1.txt\n"
          ]
        }
      ],
      "source": [
        "%%writefile input1.txt\n",
        "10\n",
        "1 2 3 4 5 6 7 8 9 10"
      ]
    },
    {
      "cell_type": "code",
      "execution_count": 25,
      "metadata": {
        "id": "vy_uI0x7TCId",
        "outputId": "1a86681e-3b5c-4827-96a1-f14c5bc5d515",
        "colab": {
          "base_uri": "https://localhost:8080/"
        }
      },
      "outputs": [
        {
          "output_type": "stream",
          "name": "stdout",
          "text": [
            "/bin/bash: line 1: ./max_pairwise_product: No such file or directory\n"
          ]
        }
      ],
      "source": [
        "!./max_pairwise_product < input1.txt"
      ]
    },
    {
      "cell_type": "code",
      "execution_count": 26,
      "metadata": {
        "id": "xaj6f9bxC6D6",
        "outputId": "6cae2cf1-159f-41b9-a8ba-0d026a987bbe",
        "colab": {
          "base_uri": "https://localhost:8080/"
        }
      },
      "outputs": [
        {
          "output_type": "stream",
          "name": "stdout",
          "text": [
            "Overwriting output1.txt\n"
          ]
        }
      ],
      "source": [
        "%%writefile output1.txt\n",
        "90"
      ]
    },
    {
      "cell_type": "code",
      "execution_count": 27,
      "metadata": {
        "id": "fYCjAdA_C-wy"
      },
      "outputs": [],
      "source": [
        "!./max_pairwise_product_full< input1.txt > ctest1.txt\n",
        "!grep -xvFf output1.txt ctest1.txt"
      ]
    },
    {
      "cell_type": "code",
      "execution_count": 28,
      "metadata": {
        "id": "ZPe40LY14_6f",
        "outputId": "2e245520-10e7-447d-c10f-7eadc642a460",
        "colab": {
          "base_uri": "https://localhost:8080/"
        }
      },
      "outputs": [
        {
          "output_type": "stream",
          "name": "stdout",
          "text": [
            "Overwriting input2.txt\n"
          ]
        }
      ],
      "source": [
        "%%writefile input2.txt\n",
        "10\n",
        "10 9 8 7 6 5 4 3 2 1"
      ]
    },
    {
      "cell_type": "code",
      "execution_count": 29,
      "metadata": {
        "id": "xiHmF7HA5Faa",
        "outputId": "d86a1c65-70ac-49de-90a9-cb274dbb43b0",
        "colab": {
          "base_uri": "https://localhost:8080/"
        }
      },
      "outputs": [
        {
          "output_type": "stream",
          "name": "stdout",
          "text": [
            "Overwriting output2.txt\n"
          ]
        }
      ],
      "source": [
        "%%writefile output2.txt\n",
        "90"
      ]
    },
    {
      "cell_type": "code",
      "execution_count": 30,
      "metadata": {
        "id": "jjwc9kwb5t_k"
      },
      "outputs": [],
      "source": [
        "!./max_pairwise_product_full< input2.txt > ctest2.txt\n",
        "!grep -xvFf output2.txt ctest2.txt"
      ]
    },
    {
      "cell_type": "markdown",
      "metadata": {
        "id": "IeZ3kTjpYmR9"
      },
      "source": [
        "### Test 2: largest input numbers 200000 200000 to check possible intger overflow"
      ]
    },
    {
      "cell_type": "code",
      "execution_count": 31,
      "metadata": {
        "id": "LQNlZqaqYt7U",
        "outputId": "a3ec5938-f01f-4f9c-9b32-804ba8bc55f0",
        "colab": {
          "base_uri": "https://localhost:8080/"
        }
      },
      "outputs": [
        {
          "output_type": "stream",
          "name": "stdout",
          "text": [
            "Overwriting input3.txt\n"
          ]
        }
      ],
      "source": [
        "%%writefile input3.txt\n",
        "6\n",
        "1 3 200000 9 200000 23"
      ]
    },
    {
      "cell_type": "code",
      "execution_count": 32,
      "metadata": {
        "id": "GjQq7QOUCw-9",
        "outputId": "f45c0711-4e1c-4d66-c57e-15b3e835124b",
        "colab": {
          "base_uri": "https://localhost:8080/"
        }
      },
      "outputs": [
        {
          "output_type": "execute_result",
          "data": {
            "text/plain": [
              "40000000000"
            ]
          },
          "metadata": {},
          "execution_count": 32
        }
      ],
      "source": [
        "200000*200000"
      ]
    },
    {
      "cell_type": "code",
      "execution_count": 33,
      "metadata": {
        "id": "EuS6n3jtDK5C",
        "outputId": "c6893ead-9dca-4277-b626-dde0379d8162",
        "colab": {
          "base_uri": "https://localhost:8080/"
        }
      },
      "outputs": [
        {
          "output_type": "stream",
          "name": "stdout",
          "text": [
            "Overwriting output3.txt\n"
          ]
        }
      ],
      "source": [
        "%%writefile output3.txt\n",
        "40000000000"
      ]
    },
    {
      "cell_type": "code",
      "execution_count": 34,
      "metadata": {
        "id": "2Wad2VZUZDxR",
        "outputId": "2740354b-69f4-4045-86fe-004c8ece8650",
        "colab": {
          "base_uri": "https://localhost:8080/"
        }
      },
      "outputs": [
        {
          "output_type": "stream",
          "name": "stdout",
          "text": [
            "1345294336\n"
          ]
        }
      ],
      "source": [
        "!./max_pairwise_product_full < input3.txt"
      ]
    },
    {
      "cell_type": "code",
      "execution_count": 35,
      "metadata": {
        "id": "pEvp1ieyDJGq",
        "outputId": "c254fcd1-8038-4880-d9a9-370c3ddbf39e",
        "colab": {
          "base_uri": "https://localhost:8080/"
        }
      },
      "outputs": [
        {
          "output_type": "stream",
          "name": "stdout",
          "text": [
            "1345294336\n"
          ]
        }
      ],
      "source": [
        "!./max_pairwise_product_full < input3.txt > ctest3.txt\n",
        "!grep -xvFf output3.txt ctest3.txt"
      ]
    },
    {
      "cell_type": "code",
      "execution_count": 36,
      "metadata": {
        "id": "SrtJrKqM-God",
        "outputId": "32000cd8-dd7b-4a45-c6c5-9987aa9e43a0",
        "colab": {
          "base_uri": "https://localhost:8080/"
        }
      },
      "outputs": [
        {
          "output_type": "stream",
          "name": "stdout",
          "text": [
            "Overwriting run_all_test.sh\n"
          ]
        }
      ],
      "source": [
        " %%writefile run_all_test.sh\n",
        "#!/bin/bash\n",
        "g++ max_pairwise_product_full.cpp -o max_pairwise_product_full\n",
        "for i in {0..3}\n",
        "do\n",
        "    ./max_pairwise_product_full < input$i.txt > ctest$i.txt\n",
        "    grep -xvFf output$i.txt ctest$i.txt\n",
        "done"
      ]
    },
    {
      "cell_type": "code",
      "execution_count": 37,
      "metadata": {
        "id": "wGWMHtzS-QnA",
        "outputId": "a24a01d1-99b4-4a1d-f50a-c9bdd44111a8",
        "colab": {
          "base_uri": "https://localhost:8080/"
        }
      },
      "outputs": [
        {
          "output_type": "stream",
          "name": "stdout",
          "text": [
            "1345294336\n"
          ]
        }
      ],
      "source": [
        "!chmod u+x run_all_test.sh\n",
        "!./run_all_test.sh"
      ]
    },
    {
      "cell_type": "markdown",
      "metadata": {
        "id": "H2SC0Qt5HCzz"
      },
      "source": [
        "### Changing the variables to long long"
      ]
    },
    {
      "cell_type": "code",
      "execution_count": 38,
      "metadata": {
        "id": "MPcmsxiQZSfE",
        "outputId": "55eb1b2a-6f7c-4874-de3d-3f005a417901",
        "colab": {
          "base_uri": "https://localhost:8080/"
        }
      },
      "outputs": [
        {
          "output_type": "stream",
          "name": "stdout",
          "text": [
            "Overwriting max_pairwise_product_long_full.cpp\n"
          ]
        }
      ],
      "source": [
        "%%writefile max_pairwise_product_long_full.cpp\n",
        "#include <iostream>\n",
        "#include <vector>\n",
        "#include <algorithm>\n",
        "\n",
        "long long MaxPairwiseProduct(const std::vector<int>& numbers) {\n",
        "    long long max_product = 0LL;\n",
        "\t  long long aux_product = 0LL;\n",
        "    int n = numbers.size();\n",
        "\n",
        "    for (int first = 0; first < n; ++first) {\n",
        "        for (int second = 0; second < n; ++second) {\n",
        "          if ( first != second){\n",
        "                aux_product = (long long) numbers[first] * numbers[second];\n",
        "                if (aux_product > max_product)  max_product = aux_product;\n",
        "          }\n",
        "        }\n",
        "    }\n",
        "\n",
        "\n",
        "    return max_product;\n",
        "}\n",
        "\n",
        "int main() {\n",
        "    int n;\n",
        "    std::cin >> n;\n",
        "    std::vector<int> numbers(n);\n",
        "    for (int i = 0; i < n; ++i) {\n",
        "        std::cin >> numbers[i];\n",
        "    }\n",
        "\n",
        "    std::cout << MaxPairwiseProduct(numbers) << \"\\n\";\n",
        "    return 0;\n",
        "}\n"
      ]
    },
    {
      "cell_type": "code",
      "execution_count": 39,
      "metadata": {
        "id": "W3xQpFXL6wjO"
      },
      "outputs": [],
      "source": [
        "!g++ max_pairwise_product_long_full.cpp -o max_pairwise_product_long_full"
      ]
    },
    {
      "cell_type": "code",
      "execution_count": 40,
      "metadata": {
        "id": "H5dvN9M3R9sV",
        "outputId": "c154fe72-c931-4919-c369-6210371509fb",
        "colab": {
          "base_uri": "https://localhost:8080/"
        }
      },
      "outputs": [
        {
          "output_type": "stream",
          "name": "stdout",
          "text": [
            "40000000000\n"
          ]
        }
      ],
      "source": [
        "!./max_pairwise_product_long_full < input3.txt"
      ]
    },
    {
      "cell_type": "markdown",
      "metadata": {
        "id": "gx-sEYdfQ8f8"
      },
      "source": [
        "### Runing multuple test with a bash shell"
      ]
    },
    {
      "cell_type": "code",
      "execution_count": 41,
      "metadata": {
        "id": "O9qsq2nn7elw",
        "outputId": "bc6b0e25-219e-41dc-bbbc-a25aaa4b9c03",
        "colab": {
          "base_uri": "https://localhost:8080/"
        }
      },
      "outputs": [
        {
          "output_type": "stream",
          "name": "stdout",
          "text": [
            "Overwriting run_all_test.sh\n"
          ]
        }
      ],
      "source": [
        " %%writefile run_all_test.sh\n",
        "#!/bin/bash\n",
        "g++ max_pairwise_product_long_full.cpp -o max_pairwise_product_long_full\n",
        "for i in {1..3}\n",
        "do\n",
        "    ./max_pairwise_product_long_full < input$i.txt > ctest$i.txt\n",
        "    grep -xvFf output$i.txt ctest$i.txt\n",
        "done"
      ]
    },
    {
      "cell_type": "code",
      "execution_count": 42,
      "metadata": {
        "id": "0g5kKVph7xIA"
      },
      "outputs": [],
      "source": [
        "!chmod u+x run_all_test.sh\n",
        "!./run_all_test.sh"
      ]
    },
    {
      "cell_type": "markdown",
      "metadata": {
        "id": "XPVHkHxH6_7s"
      },
      "source": [
        "### Test 3  stress tests, 6 testing cases files input4.txt/output4.txt .. input10.txt/output10.txt\n",
        "\n",
        "---\n",
        "\n"
      ]
    },
    {
      "cell_type": "code",
      "execution_count": 43,
      "metadata": {
        "id": "PwqpBmYr69fu",
        "outputId": "d3573f79-72e6-462b-cbf2-f4fbbee63f43",
        "colab": {
          "base_uri": "https://localhost:8080/"
        }
      },
      "outputs": [
        {
          "output_type": "stream",
          "name": "stdout",
          "text": [
            "Overwriting input3.txt\n"
          ]
        }
      ],
      "source": [
        "%%writefile input3.txt\n",
        "6\n",
        "1 3001 2020 8 22 38"
      ]
    },
    {
      "cell_type": "code",
      "execution_count": 44,
      "metadata": {
        "id": "jBCkMeR6Fw4y",
        "outputId": "317cec24-8fec-45b0-b09b-a707e8479378",
        "colab": {
          "base_uri": "https://localhost:8080/"
        }
      },
      "outputs": [
        {
          "output_type": "stream",
          "name": "stdout",
          "text": [
            "Overwriting input4.txt\n"
          ]
        }
      ],
      "source": [
        "%%writefile input4.txt\n",
        "7\n",
        "10 437 798 101112 121415 151918 194036"
      ]
    },
    {
      "cell_type": "code",
      "execution_count": 45,
      "metadata": {
        "id": "zED8V8wu-eoM",
        "outputId": "e9035b47-27bf-4786-b414-4a3368417db0",
        "colab": {
          "base_uri": "https://localhost:8080/"
        }
      },
      "outputs": [
        {
          "output_type": "stream",
          "name": "stdout",
          "text": [
            "Overwriting input5.txt\n"
          ]
        }
      ],
      "source": [
        "%%writefile input5.txt\n",
        "5\n",
        "951 753 654 852 379"
      ]
    },
    {
      "cell_type": "code",
      "execution_count": 46,
      "metadata": {
        "id": "oo0XvVEllf_-",
        "outputId": "e77669f0-46c1-494b-d5f2-d58a46b6f41a",
        "colab": {
          "base_uri": "https://localhost:8080/"
        }
      },
      "outputs": [
        {
          "output_type": "stream",
          "name": "stdout",
          "text": [
            "Overwriting input6.txt\n"
          ]
        }
      ],
      "source": [
        "%%writefile input6.txt\n",
        "8\n",
        "902 1009 1111 1024 792 564 798 222"
      ]
    },
    {
      "cell_type": "code",
      "execution_count": 47,
      "metadata": {
        "id": "vrnAjqTRli-I",
        "outputId": "2a0c923b-3398-44e3-87c6-8a69f069fdb1",
        "colab": {
          "base_uri": "https://localhost:8080/"
        }
      },
      "outputs": [
        {
          "output_type": "stream",
          "name": "stdout",
          "text": [
            "Overwriting input7.txt\n"
          ]
        }
      ],
      "source": [
        "%%writefile input7.txt\n",
        "4\n",
        "741 852 963 684"
      ]
    },
    {
      "cell_type": "code",
      "execution_count": 48,
      "metadata": {
        "id": "oS2QgaTultDv",
        "outputId": "06a24372-e7e7-435c-a0fa-bdac0f73604e",
        "colab": {
          "base_uri": "https://localhost:8080/"
        }
      },
      "outputs": [
        {
          "output_type": "stream",
          "name": "stdout",
          "text": [
            "Overwriting input8.txt\n"
          ]
        }
      ],
      "source": [
        "%%writefile input8.txt\n",
        "5\n",
        "176 935 378 937 210790"
      ]
    },
    {
      "cell_type": "code",
      "execution_count": 49,
      "metadata": {
        "id": "B-VGJS-Wo2oW",
        "outputId": "258acca0-b298-4f10-f7ef-f7f43dce4d32",
        "colab": {
          "base_uri": "https://localhost:8080/"
        }
      },
      "outputs": [
        {
          "output_type": "stream",
          "name": "stdout",
          "text": [
            "Overwriting input9.txt\n"
          ]
        }
      ],
      "source": [
        "%%writefile input9.txt\n",
        "6\n",
        "1 3343 2003 9 2222 43"
      ]
    },
    {
      "cell_type": "code",
      "execution_count": 50,
      "metadata": {
        "id": "MLKlBUElpHBd",
        "outputId": "5a7817de-4af9-4242-eb37-7a8d791fb020",
        "colab": {
          "base_uri": "https://localhost:8080/"
        }
      },
      "outputs": [
        {
          "output_type": "stream",
          "name": "stdout",
          "text": [
            "Overwriting input10.txt\n"
          ]
        }
      ],
      "source": [
        "%%writefile input10.txt\n",
        "6\n",
        "1111 2222 3333 4444 5555 6666"
      ]
    },
    {
      "cell_type": "code",
      "execution_count": 51,
      "metadata": {
        "id": "VdN9ppc6pOKM",
        "outputId": "5e3d49ae-8cc7-4a4d-e71a-f54c84127979",
        "colab": {
          "base_uri": "https://localhost:8080/"
        }
      },
      "outputs": [
        {
          "output_type": "stream",
          "name": "stdout",
          "text": [
            "90\n",
            "90\n"
          ]
        }
      ],
      "source": [
        "!./max_pairwise_product_long_full < input1.txt\n",
        "!./max_pairwise_product_long_full < input2.txt\n",
        "!./max_pairwise_product_long_full < input3.txt > output3.txt\n",
        "!./max_pairwise_product_long_full < input4.txt > output4.txt\n",
        "!./max_pairwise_product_long_full < input5.txt > output5.txt\n",
        "!./max_pairwise_product_long_full < input6.txt > output6.txt\n",
        "!./max_pairwise_product_long_full < input7.txt > output7.txt\n",
        "!./max_pairwise_product_long_full < input8.txt > output8.txt\n",
        "!./max_pairwise_product_long_full < input9.txt > output9.txt\n",
        "!./max_pairwise_product_long_full < input10.txt > output10.txt"
      ]
    },
    {
      "cell_type": "markdown",
      "metadata": {
        "id": "9z9yr5QkeyJF"
      },
      "source": [
        "### Test 4  time test  measure the execution time running with the the largest worst cases input11.txt  (200000 increasing numbers) and input12.txt (199998 increasing numbers and  200000, 200000 at the end)"
      ]
    },
    {
      "cell_type": "code",
      "execution_count": 52,
      "metadata": {
        "id": "UmB1ipWM_nSk",
        "outputId": "6c919f4a-accc-4c58-c4f7-3a422a1e0f86",
        "colab": {
          "base_uri": "https://localhost:8080/"
        }
      },
      "outputs": [
        {
          "output_type": "stream",
          "name": "stdout",
          "text": [
            "Overwriting WriteTest.cpp\n"
          ]
        }
      ],
      "source": [
        "# input11.txt 200000 increasing numbers:  1 2 .. 200000\n",
        "\n",
        "%%writefile WriteTest.cpp\n",
        "\n",
        "#include <iostream>\n",
        "#include <fstream>\n",
        "#include <cstdlib>\n",
        "\n",
        "using namespace std;\n",
        "\n",
        "int main() {\n",
        "  // Create and open a text file\n",
        "  ofstream MyFile(\"input11.txt\");\n",
        "\n",
        " MyFile << 200000 <<\"\\n\";  // n\n",
        " for (int i=1; i <200001; i++){\n",
        "     MyFile << i <<\" \";\n",
        " }\n",
        "\n",
        "  // Close the file\n",
        "  MyFile.close();\n",
        "}"
      ]
    },
    {
      "cell_type": "code",
      "execution_count": 53,
      "metadata": {
        "id": "EH25TkOkZfD9"
      },
      "outputs": [],
      "source": [
        "!g++ WriteTest.cpp -o WriteTest\n",
        "!./WriteTest"
      ]
    },
    {
      "cell_type": "code",
      "execution_count": 54,
      "metadata": {
        "id": "j0mokSOnCCtZ",
        "outputId": "98f3d622-4cee-4c1f-fcda-453f9e7e72d4",
        "colab": {
          "base_uri": "https://localhost:8080/"
        }
      },
      "outputs": [
        {
          "output_type": "execute_result",
          "data": {
            "text/plain": [
              "39999800000"
            ]
          },
          "metadata": {},
          "execution_count": 54
        }
      ],
      "source": [
        "199999 * 200000"
      ]
    },
    {
      "cell_type": "code",
      "execution_count": 55,
      "metadata": {
        "id": "VoDhDV73B5Mo",
        "outputId": "4267d592-7643-486f-d173-87d209b63af8",
        "colab": {
          "base_uri": "https://localhost:8080/"
        }
      },
      "outputs": [
        {
          "output_type": "stream",
          "name": "stdout",
          "text": [
            "Overwriting output11.txt\n"
          ]
        }
      ],
      "source": [
        "%%writefile output11.txt\n",
        "39999800000"
      ]
    },
    {
      "cell_type": "code",
      "execution_count": 56,
      "metadata": {
        "id": "oLiMjbAIfPlX",
        "outputId": "8a148c9f-3081-440f-bfcb-3d453508e351",
        "colab": {
          "base_uri": "https://localhost:8080/"
        }
      },
      "outputs": [
        {
          "output_type": "stream",
          "name": "stdout",
          "text": [
            "Overwriting WriteTest.cpp\n"
          ]
        }
      ],
      "source": [
        "# input12.txt 200000 decreasing numbers and 200000, 199999 ...  2 1\n",
        "\n",
        "%%writefile WriteTest.cpp\n",
        "\n",
        "#include <iostream>\n",
        "#include <fstream>\n",
        "#include <cstdlib>\n",
        "\n",
        "using namespace std;\n",
        "\n",
        "int main() {\n",
        "  // Create and open a text file\n",
        "  ofstream MyFile(\"input12.txt\");\n",
        "\n",
        " MyFile << 200000 <<\"\\n\";  // n\n",
        " for (int i=1; i <200001; i++){\n",
        "     MyFile << 200001-i <<\" \";\n",
        " }\n",
        "\n",
        "  // Close the file\n",
        "  MyFile.close();\n",
        "}"
      ]
    },
    {
      "cell_type": "code",
      "execution_count": 57,
      "metadata": {
        "id": "oULNBr_zAd9c"
      },
      "outputs": [],
      "source": [
        "!g++ WriteTest.cpp -o WriteTest\n",
        "!./WriteTest"
      ]
    },
    {
      "cell_type": "code",
      "execution_count": 58,
      "metadata": {
        "id": "PQLyocaFB-y4",
        "outputId": "6e75b374-af23-4264-e44e-c8255b82546b",
        "colab": {
          "base_uri": "https://localhost:8080/"
        }
      },
      "outputs": [
        {
          "output_type": "stream",
          "name": "stdout",
          "text": [
            "Overwriting output12.txt\n"
          ]
        }
      ],
      "source": [
        "%%writefile output12.txt\n",
        "39999800000"
      ]
    },
    {
      "cell_type": "markdown",
      "metadata": {
        "id": "JB6f03qO-lj9"
      },
      "source": [
        "### Measure time\n",
        "\n",
        "https://askubuntu.com/questions/53444/how-can-i-measure-the-execution-time-of-a-terminal-process"
      ]
    },
    {
      "cell_type": "code",
      "execution_count": 59,
      "metadata": {
        "id": "6p2QLEr576zk",
        "outputId": "b6ded16e-b951-4b33-f7fc-9266160653fd",
        "colab": {
          "base_uri": "https://localhost:8080/"
        }
      },
      "outputs": [
        {
          "output_type": "stream",
          "name": "stdout",
          "text": [
            "39999800000\n",
            "\n",
            "real\t5m2.467s\n",
            "user\t4m59.334s\n",
            "sys\t0m0.095s\n"
          ]
        }
      ],
      "source": [
        "!g++ max_pairwise_product_long_full.cpp -o max_pairwise_product_long_full\n",
        "!time ./max_pairwise_product_long_full< input11.txt"
      ]
    },
    {
      "cell_type": "code",
      "execution_count": 60,
      "metadata": {
        "id": "cnjCyeUdAnZj",
        "outputId": "ad7068a4-ded6-4071-9cb8-7a9c9e91d290",
        "colab": {
          "base_uri": "https://localhost:8080/"
        }
      },
      "outputs": [
        {
          "output_type": "stream",
          "name": "stdout",
          "text": [
            "39999800000\n",
            "\n",
            "real\t5m1.718s\n",
            "user\t4m59.090s\n",
            "sys\t0m0.079s\n"
          ]
        }
      ],
      "source": [
        "!g++ max_pairwise_product_long_full.cpp -o max_pairwise_product_long_full\n",
        "!time ./max_pairwise_product_long_full< input12.txt"
      ]
    },
    {
      "cell_type": "markdown",
      "metadata": {
        "id": "FXClpBsUJuXC"
      },
      "source": [
        "### Calculate the number or and upper bound to the number of instructions executed by the algorithm as a function of n, add in each line a comment with the number of instructions that are executed in that line."
      ]
    },
    {
      "cell_type": "code",
      "execution_count": 61,
      "metadata": {
        "id": "uG6Mv-Pwlkii",
        "outputId": "2ff69f3b-8389-4788-e094-ee685357b5d0",
        "colab": {
          "base_uri": "https://localhost:8080/"
        }
      },
      "outputs": [
        {
          "output_type": "stream",
          "name": "stdout",
          "text": [
            "Overwriting max_pairwise_product_long_full.cpp\n"
          ]
        }
      ],
      "source": [
        "%%writefile max_pairwise_product_long_full.cpp\n",
        "#include <iostream>\n",
        "#include <vector>\n",
        "#include <algorithm>\n",
        "\n",
        "long long MaxPairwiseProduct(const std::vector<int>& numbers) {              //INSTRUCTIONS executed by line\n",
        "    long long max_product = 0LL;                                             //1\n",
        "\t  long long aux_product = 0LL;                                             //1\n",
        "    int n = numbers.size();                                                  //1\n",
        "\n",
        "    for (int first = 0; first < n; ++first) {                                //2+2n\n",
        "        for (int second = 0; second < n; ++second) {                         //2n + 2n**2\n",
        "          if ( first != second ){                                            //n**2\n",
        "                aux_product = numbers[first] * numbers[second];              //n**2 -n\n",
        "                if (aux_product > max_product)                               //n**2 -n\n",
        "                    max_product = aux_product;                               //[0, n**2/2 - n/2] upper bound\n",
        "          }\n",
        "        }\n",
        "    }\n",
        "\n",
        "                                                                             // --------------\n",
        "    return max_product;                                                      // 5 + 2*n + [5*n**2, 11*n**2/2  - n/2]  upper bound\n",
        "}\n",
        "\n",
        "int main() {                                              //INSTRUCTIONS executed by line\n",
        "    int n;                                                //1\n",
        "    std::cin >> n;                                        //1\n",
        "    std::vector<int> numbers(n);                          //n\n",
        "    for (int i = 0; i < n; ++i) {                         //2 + 2n\n",
        "        std::cin >> numbers[i];                           //n\n",
        "    }\n",
        "\n",
        "    std::cout << MaxPairwiseProduct(numbers) << \"\\n\";     //1 + 1  + 5 + 2*n + [5*n**2, 11*n**2/2  - n/2]\n",
        "\n",
        "    return 0;                                             // --------------\n",
        "}                                                         //  11 + 6*n + [5*n**2, 11*n**2/2  - n/2]  upper bound\n"
      ]
    },
    {
      "cell_type": "markdown",
      "metadata": {
        "id": "0vTsUg8OwcHs"
      },
      "source": [
        "### Count executed intructions in code"
      ]
    },
    {
      "cell_type": "code",
      "execution_count": 62,
      "metadata": {
        "id": "CuRKkqQc137V",
        "outputId": "57ab6be2-2e37-4cc9-e20c-af2e72514d99",
        "colab": {
          "base_uri": "https://localhost:8080/"
        }
      },
      "outputs": [
        {
          "output_type": "stream",
          "name": "stdout",
          "text": [
            "Overwriting max_pairwise_product_long_full_execints.cpp\n"
          ]
        }
      ],
      "source": [
        "%%writefile max_pairwise_product_long_full_execints.cpp\n",
        "#include <iostream>\n",
        "#include <vector>\n",
        "#include <algorithm>\n",
        "\n",
        "long long MaxPairwiseProduct(const std::vector<int>& numbers, long long &execints) {      //INSTRUCTIONS executed by line\n",
        "\n",
        "    long long max_product = 0LL;                                                          //1\n",
        "    execints++;\n",
        "\n",
        "\t  long long aux_product = 0LL;                                                          //1\n",
        "    execints++;\n",
        "\n",
        "    int n = numbers.size();                                                               //1\n",
        "    execints++;\n",
        "\n",
        "    execints++;\n",
        "    for (int first = 0; first < n; ++first) {                                             //2+2n\n",
        "        execints += 2;\n",
        "\n",
        "        execints++;\n",
        "        for (int second = 0; second < n; ++second) {                                       //2n + 2n**2\n",
        "          execints += 2;\n",
        "\n",
        "          execints++;\n",
        "          if ( first != second ){                                                         //n**2\n",
        "                aux_product = numbers[first] * numbers[second];                           //n**2 -n\n",
        "                execints++;\n",
        "\n",
        "                execints++;\n",
        "                if (aux_product > max_product){                                           //n**2 -n\n",
        "                    max_product = aux_product;                                            //[0,n**2/2 - n/2)  upper bound\n",
        "                    execints++;\n",
        "\n",
        "                }\n",
        "        }\n",
        "\n",
        "      }\n",
        "      execints++;\n",
        "    }\n",
        "    execints++;\n",
        "                                                                                        // --------------\n",
        "    return max_product;                                                                 // 5 + 2*n + [5*n**2, 11*n**2/2  - n/2] upper bound\n",
        "}\n",
        "\n",
        "int main() {                                                 //INSTRUCTIONS executed by line\n",
        "\n",
        "    long long execints =0LL;\n",
        "\n",
        "    int n;                                                   //1\n",
        "    execints++;\n",
        "\n",
        "    std::cin >> n;                                           //1\n",
        "    execints++;\n",
        "\n",
        "    std::vector<int> numbers(n);                             //n\n",
        "    execints += n;\n",
        "\n",
        "    execints++;\n",
        "    for (int i = 0; i < n; ++i) {                            //2 + 2n\n",
        "        execints += 2;\n",
        "\n",
        "        std::cin >> numbers[i];\n",
        "        execints++;                                          //n\n",
        "\n",
        "    }\n",
        "\n",
        "\n",
        "    //std::cout << MaxPairwiseProduct(numbers) << \"\\n\";      //1 + 1  + 5 + 2*n + [5*n**2, 11*n**2/2  - n/2] upper bound\n",
        "\n",
        "    execints++;\n",
        "    int M = MaxPairwiseProduct(numbers,execints);\n",
        "\n",
        "    execints++;\n",
        "    std::cout <<  execints << \"\\n\";\n",
        "    return 0;                                                // --------------\n",
        "}                                                            // 11 + 6*n + [5*n**2, 11*n**2/2  - n/2]"
      ]
    },
    {
      "cell_type": "markdown",
      "metadata": {
        "id": "cUjHtvtdDsmr"
      },
      "source": [
        "The number of instructions executed by the algooirithm with a list of size $n$ is  \n",
        "\n",
        "$$T (n) = 11 + 6n + \\left[5n^2, 11\\frac{n^2}{2}  - \\frac{n}{2}\\right)  >  6n^2 = O(n^2)$$\n",
        "\n",
        "It depends on the size of the lists and  the order of the list.\n",
        "\n",
        "For the input0.txt\n",
        "```\n",
        "10\n",
        "0 0 0 0 0 0 0 0 0 0\n",
        "```\n",
        "$$T = 11 + 6(10) + 5(10)^2   = 561 $$\n",
        "\n",
        "$$T(10) \\in [571, 621)  $$\n"
      ]
    },
    {
      "cell_type": "code",
      "execution_count": 63,
      "metadata": {
        "id": "Om9Fevb0miAT",
        "outputId": "a507412d-48d0-4a5a-f55f-5eb5b99eed7a",
        "colab": {
          "base_uri": "https://localhost:8080/"
        }
      },
      "outputs": [
        {
          "output_type": "stream",
          "name": "stdout",
          "text": [
            "570\n"
          ]
        }
      ],
      "source": [
        "!g++ max_pairwise_product_long_full_execints.cpp -o max_pairwise_product_long_full_execints\n",
        "!./max_pairwise_product_long_full_execints < input0.txt"
      ]
    },
    {
      "cell_type": "markdown",
      "metadata": {
        "id": "FwJzZ6VzmArY"
      },
      "source": [
        "For the input1.txt\n",
        "```\n",
        "10\n",
        "1 2 3 4 5 6 7 8 9 10\n",
        "```\n",
        "$$T = 11 + 6(10) + 5(10)^2 +  9 + 5 + 4 + 3 + 2 + 2 + 2 + 2 + 1 + 0  = 601 $$\n",
        "\n",
        "$$T(10) \\in [572, 622)  $$\n"
      ]
    },
    {
      "cell_type": "code",
      "execution_count": 64,
      "metadata": {
        "id": "K59xQMWiBNFj"
      },
      "outputs": [],
      "source": [
        "#The number of times that  max_product = aux_product; in the worst case is less than (n**2 -n)/2 -  upper bound\n",
        "\n",
        "#     1  2  3  4  5  6  7  8  9  10\n",
        "#  1  x  2  3  4  5  6  7  8  9  10         9\n",
        "#  2  2  x  6  8  10 12 14 16 18 20         5 14\n",
        "#  3  3  6  x  12 15 18 21 24 27 30         4 18\n",
        "#  4  4  8  12 x  20 24 28 32 36 40         3 21\n",
        "#  5  5  10 15 20 x  30 35 40 45 50         2 23\n",
        "#  6  6  12 18 24 30 x  42 48 54 60         2 25\n",
        "#  7  7  14 21 28 35 42 x  56 63 70         2 27\n",
        "#  8  8  18 27 36 45 54 63 72 x  90         1 30\n",
        "#  10 10 20 30 40 50 60 70 60 90 x          0"
      ]
    },
    {
      "cell_type": "code",
      "execution_count": 65,
      "metadata": {
        "id": "E3O8dzFfEgir",
        "outputId": "a10b98d2-debd-4306-fca5-a5d54662eec1",
        "colab": {
          "base_uri": "https://localhost:8080/"
        }
      },
      "outputs": [
        {
          "output_type": "execute_result",
          "data": {
            "text/plain": [
              "601"
            ]
          },
          "metadata": {},
          "execution_count": 65
        }
      ],
      "source": [
        "11 + 6*(10) + 5*(10)*(10) +  9 + 5 + 4 + 3 + 2 + 2 + 2 + 2 + 1 + 0"
      ]
    },
    {
      "cell_type": "code",
      "execution_count": 66,
      "metadata": {
        "id": "TCpdl5u_Gq1a",
        "outputId": "69bab12b-24f9-4851-f068-807e8cb775f7",
        "colab": {
          "base_uri": "https://localhost:8080/"
        }
      },
      "outputs": [
        {
          "output_type": "stream",
          "name": "stdout",
          "text": [
            "[ 571 , 621.0 )\n"
          ]
        }
      ],
      "source": [
        "n = 10\n",
        "print( \"[\", 11 + 6*n + 5*n**2,  \",\", 11 + 6*n  + 5.5*n**2, \")\")"
      ]
    },
    {
      "cell_type": "code",
      "execution_count": 67,
      "metadata": {
        "id": "Kuvm1C05ly2a",
        "outputId": "d0aed05f-0a6d-4567-bdb0-984749a3eee4",
        "colab": {
          "base_uri": "https://localhost:8080/"
        }
      },
      "outputs": [
        {
          "output_type": "stream",
          "name": "stdout",
          "text": [
            "600\n"
          ]
        }
      ],
      "source": [
        "!g++ max_pairwise_product_long_full_execints.cpp -o max_pairwise_product_long_full_execints\n",
        "!./max_pairwise_product_long_full_execints < input1.txt"
      ]
    },
    {
      "cell_type": "markdown",
      "metadata": {
        "id": "Yr_Lb7CaHfxB"
      },
      "source": [
        "\n",
        "For the input2.txt\n",
        "```\n",
        "10\n",
        "10 9 8 7 6 5 4 3 2 1\n",
        "```\n",
        "$$T = 11 + 6*(10) + 5*(10)**2 +  1  = 571 $$"
      ]
    },
    {
      "cell_type": "code",
      "execution_count": 68,
      "metadata": {
        "id": "HOdqlwJiZUIp",
        "outputId": "e2d2a81f-de76-4bd2-a4be-26963e79ee49",
        "colab": {
          "base_uri": "https://localhost:8080/"
        }
      },
      "outputs": [
        {
          "output_type": "execute_result",
          "data": {
            "text/plain": [
              "572"
            ]
          },
          "metadata": {},
          "execution_count": 68
        }
      ],
      "source": [
        "11 + 6*(10) + 5*(10)**2 +  1"
      ]
    },
    {
      "cell_type": "code",
      "execution_count": 69,
      "metadata": {
        "id": "_znzLectjFSe",
        "outputId": "0fa52ee4-c026-4dc3-8bf5-6c556fa40b4e",
        "colab": {
          "base_uri": "https://localhost:8080/"
        }
      },
      "outputs": [
        {
          "output_type": "stream",
          "name": "stdout",
          "text": [
            "571\n"
          ]
        }
      ],
      "source": [
        "!g++ max_pairwise_product_long_full_execints.cpp -o max_pairwise_product_long_full_execints\n",
        "!./max_pairwise_product_long_full_execints < input2.txt"
      ]
    },
    {
      "cell_type": "markdown",
      "metadata": {
        "id": "NXW7QkoBL6xH"
      },
      "source": [
        "Calculate estimated time by instruction and number of instructions by second"
      ]
    },
    {
      "cell_type": "markdown",
      "metadata": {
        "id": "dlyRjaohz-YH"
      },
      "source": [
        "For the input11.txt\n",
        "```\n",
        "200000\n",
        "1 2 ..  199999 2000\n",
        "```\n",
        "$$T = 11 + 6*(200000) + 5.5*(200000)**2  = 200001200012  $$"
      ]
    },
    {
      "cell_type": "code",
      "execution_count": 70,
      "metadata": {
        "id": "cuZe7fXwuQtO",
        "outputId": "d48c28a7-0a15-456c-f907-eadc6a9a191e",
        "colab": {
          "base_uri": "https://localhost:8080/"
        }
      },
      "outputs": [
        {
          "output_type": "execute_result",
          "data": {
            "text/plain": [
              "200001000010"
            ]
          },
          "metadata": {},
          "execution_count": 70
        }
      ],
      "source": [
        "9 + 5*(200000) + 5*(200000)**2 +1"
      ]
    },
    {
      "cell_type": "code",
      "execution_count": 71,
      "metadata": {
        "id": "BMH8mF3EKn2w",
        "outputId": "892af22a-a360-4843-d049-f42135be5087",
        "colab": {
          "base_uri": "https://localhost:8080/"
        }
      },
      "outputs": [
        {
          "output_type": "stream",
          "name": "stdout",
          "text": [
            "200003177091\n"
          ]
        }
      ],
      "source": [
        "!g++ max_pairwise_product_long_full_execints.cpp -o max_pairwise_product_long_full_execints\n",
        "!./max_pairwise_product_long_full_execints < input11.txt"
      ]
    },
    {
      "cell_type": "code",
      "execution_count": 72,
      "metadata": {
        "id": "pKqB3i7dIxnc",
        "outputId": "b4f60887-4d4d-4141-966c-ab96aebe5c9c",
        "colab": {
          "base_uri": "https://localhost:8080/"
        }
      },
      "outputs": [
        {
          "data": {
            "text/plain": [
              "1.474976569326082e-09"
            ]
          },
          "execution_count": 72,
          "metadata": {},
          "output_type": "execute_result"
        }
      ],
      "source": [
        "# Estimated time by instruction\n",
        "\n",
        "295/200003177091\n"
      ]
    },
    {
      "cell_type": "code",
      "execution_count": 73,
      "metadata": {
        "id": "18N1ouqeMhE1",
        "outputId": "72af93a6-5014-4b16-97c5-33a2d7fabe2d",
        "colab": {
          "base_uri": "https://localhost:8080/"
        }
      },
      "outputs": [
        {
          "data": {
            "text/plain": [
              "677976871.4949152"
            ]
          },
          "execution_count": 73,
          "metadata": {},
          "output_type": "execute_result"
        }
      ],
      "source": [
        "# Estimated number of instructions by second\n",
        "\n",
        "200003177091/295"
      ]
    },
    {
      "cell_type": "markdown",
      "metadata": {
        "id": "KyuxejFkL5X_"
      },
      "source": [
        "### Estimate and verify the maximun n that can be solved in 1 second\n",
        "\n",
        "$$(5.5n^2 + 5.5n + 11) \\times 1.47*10^{-9} s = 1 s$$\n",
        "\n",
        "$$ n \\approx 11000$$\n"
      ]
    },
    {
      "cell_type": "code",
      "execution_count": 74,
      "metadata": {
        "id": "WXu5jp-DLTOI",
        "outputId": "29573030-f239-406b-bd3a-e0ca4bb70dee",
        "colab": {
          "base_uri": "https://localhost:8080/"
        }
      },
      "outputs": [
        {
          "metadata": {
            "tags": null
          },
          "name": "stdout",
          "output_type": "stream",
          "text": [
            "Overwriting WriteTest.cpp\n"
          ]
        }
      ],
      "source": [
        "# Verify input13.txt\n",
        "%%writefile WriteTest.cpp\n",
        "\n",
        "#include <iostream>\n",
        "#include <fstream>\n",
        "#include <cstdlib>\n",
        "\n",
        "using namespace std;\n",
        "\n",
        "int main() {\n",
        "  // Create and open a text file\n",
        "  ofstream MyFile(\"input13.txt\");\n",
        "\n",
        " MyFile << 11000 <<\"\\n\";  // n\n",
        " for (int i=1; i <11001; i++){\n",
        "     MyFile << i <<\" \";\n",
        " }\n",
        "\n",
        "  // Close the file\n",
        "  MyFile.close();\n",
        "}"
      ]
    },
    {
      "cell_type": "code",
      "execution_count": 75,
      "metadata": {
        "id": "AQ8N52pUMCeT"
      },
      "outputs": [],
      "source": [
        "!g++ WriteTest.cpp -o WriteTest\n",
        "!./WriteTest"
      ]
    },
    {
      "cell_type": "code",
      "execution_count": 76,
      "metadata": {
        "id": "2iIOdbTrEtBx",
        "outputId": "d872c665-9a04-433c-e80b-ad1ab8de759f",
        "colab": {
          "base_uri": "https://localhost:8080/"
        }
      },
      "outputs": [
        {
          "output_type": "execute_result",
          "data": {
            "text/plain": [
              "120989000"
            ]
          },
          "metadata": {},
          "execution_count": 76
        }
      ],
      "source": [
        "10999 * 11000"
      ]
    },
    {
      "cell_type": "code",
      "execution_count": 77,
      "metadata": {
        "id": "ussuAokfM2du",
        "outputId": "33262d49-65a5-4244-9d5f-b12711821519",
        "colab": {
          "base_uri": "https://localhost:8080/"
        }
      },
      "outputs": [
        {
          "output_type": "stream",
          "name": "stdout",
          "text": [
            "120989000\n",
            "\n",
            "real\t0m1.500s\n",
            "user\t0m1.428s\n",
            "sys\t0m0.006s\n"
          ]
        }
      ],
      "source": [
        "!g++ max_pairwise_product_long_full.cpp -o max_pairwise_product_long_full\n",
        "!time ./max_pairwise_product_long_full< input13.txt"
      ]
    },
    {
      "cell_type": "markdown",
      "metadata": {
        "id": "Tm_AVmt-QQH4"
      },
      "source": [
        "## Python"
      ]
    },
    {
      "cell_type": "code",
      "execution_count": 78,
      "metadata": {
        "id": "gRCCcd7IQTKZ",
        "outputId": "2ae78732-9e53-4bf9-8701-11ed506a558d",
        "colab": {
          "base_uri": "https://localhost:8080/"
        }
      },
      "outputs": [
        {
          "output_type": "stream",
          "name": "stdout",
          "text": [
            "Overwriting max_pairwise_product_full.py\n"
          ]
        }
      ],
      "source": [
        "%%writefile max_pairwise_product_full.py\n",
        "n = int(input())                        #1\n",
        "list = input().split()                  #1\n",
        "list = [int(x) for x in list]           #n\n",
        "\n",
        "maxProduct = 0                          #1\n",
        "auxProduct = 0                          #1\n",
        "for i in range(0,n):                    #1+2n\n",
        "  for j in range(0,n):                #n+2n^2\n",
        "    if i!=j:                            #n^2\n",
        "      auxProduct = list[i]*list[j]      #n^2 -n\n",
        "    if maxProduct < auxProduct:         #n**2 -n\n",
        "      maxProduct = auxProduct           #[1, n^2/2 - n/2] upper bound\n",
        "\n",
        "                                        # --------------\n",
        "print(maxProduct)                       #5 + 3n + [5*n^2+1, 11*n^2/2  - n/2]  upper bound"
      ]
    },
    {
      "cell_type": "markdown",
      "metadata": {
        "id": "pHsFl3Xyv-Ah"
      },
      "source": [
        "PROBAR CON ENTRADAS DE ARCHIVOS DE TEXTO ANTERIORES"
      ]
    },
    {
      "cell_type": "code",
      "execution_count": 79,
      "metadata": {
        "id": "7o-qeYSXv7f4"
      },
      "outputs": [],
      "source": [
        "!chmod +x max_pairwise_product_full.py\n",
        "\n",
        "!python max_pairwise_product_full.py < input3.txt > output3.txt\n",
        "!python max_pairwise_product_full.py < input4.txt > output4.txt\n",
        "!python max_pairwise_product_full.py < input5.txt > output5.txt\n",
        "!python max_pairwise_product_full.py < input6.txt > output6.txt\n",
        "!python max_pairwise_product_full.py < input7.txt > output7.txt\n",
        "!python max_pairwise_product_full.py < input8.txt > output8.txt\n",
        "!python max_pairwise_product_full.py < input9.txt > output9.txt\n",
        "!python max_pairwise_product_full.py < input10.txt > output10.txt"
      ]
    },
    {
      "cell_type": "markdown",
      "metadata": {
        "id": "JlsPNDPDxLBV"
      },
      "source": [
        "CREAR UN ARCHIVO DE ENTRADA CONSIDERABLEMENTE GRANDE\n",
        "\n",
        "\n",
        "\n"
      ]
    },
    {
      "cell_type": "code",
      "execution_count": 80,
      "metadata": {
        "id": "kAEAoNZEQTCw"
      },
      "outputs": [],
      "source": [
        "fileName = \"input13Py.txt\"\n",
        "\n",
        "with open(fileName, \"w\") as file:\n",
        "    file.write(\"20000\"+ \"\\n\")\n",
        "    for i in range(1,20001):\n",
        "        file.write(str(i) + \" \")"
      ]
    },
    {
      "cell_type": "markdown",
      "metadata": {
        "id": "YsA_EWnHxVdW"
      },
      "source": [
        "MEDIR EL TIEMPO"
      ]
    },
    {
      "cell_type": "code",
      "execution_count": 81,
      "metadata": {
        "id": "hjw7TJrDL0d-",
        "outputId": "6d263215-bd76-4399-fb4a-451b9c853822",
        "colab": {
          "base_uri": "https://localhost:8080/"
        }
      },
      "outputs": [
        {
          "output_type": "stream",
          "name": "stdout",
          "text": [
            "399980000\n",
            "Tiempo de ejecución en segundos: 136.66558170318604\n",
            "Tiempo de ejecución en minutos: 2.2777596950531005\n"
          ]
        }
      ],
      "source": [
        "import time\n",
        "\n",
        "start_time = time.time()\n",
        "!python max_pairwise_product_full.py < input13Py.txt\n",
        "\n",
        "end_time = time.time()\n",
        "execution_time = end_time - start_time\n",
        "print(f\"Tiempo de ejecución en segundos: {execution_time}\")\n",
        "print(f\"Tiempo de ejecución en minutos: {execution_time/60}\")"
      ]
    },
    {
      "cell_type": "markdown",
      "metadata": {
        "id": "HhvacpkM3x8p"
      },
      "source": [
        "CONTAR NUMERO DE PASOS"
      ]
    },
    {
      "cell_type": "code",
      "execution_count": 82,
      "metadata": {
        "id": "a3IhQd1_3xV0",
        "outputId": "2e727464-baf3-4804-a07b-1f6f2a03852e",
        "colab": {
          "base_uri": "https://localhost:8080/"
        }
      },
      "outputs": [
        {
          "metadata": {
            "tags": null
          },
          "name": "stdout",
          "output_type": "stream",
          "text": [
            "Overwriting max_pairwise_product_full_count.py\n"
          ]
        }
      ],
      "source": [
        "%%writefile max_pairwise_product_full_count.py\n",
        "contador_instrucciones = 0\n",
        "cantidad_numeros = int(input())                        #1\n",
        "contador_instrucciones += 1\n",
        "lista_numeros = input().split()                        #1\n",
        "contador_instrucciones += 1\n",
        "lista_numeros = [int(x) for x in lista_numeros]        #n\n",
        "contador_instrucciones += cantidad_numeros\n",
        "\n",
        "producto_maximo = 0                                   #1\n",
        "contador_instrucciones += 1\n",
        "producto_auxiliar = 0                                 #1\n",
        "contador_instrucciones += 1\n",
        "for i in range(0, cantidad_numeros):                  #1+2n\n",
        "  contador_instrucciones += 1\n",
        "  contador_instrucciones += 2\n",
        "  for j in range(0, cantidad_numeros):                #n + 2n^2\n",
        "    contador_instrucciones += 2\n",
        "    contador_instrucciones += 1\n",
        "    if i != j:                                        #n^2\n",
        "      producto_auxiliar = lista_numeros[i]*lista_numeros[j]      #n^2 -n\n",
        "      contador_instrucciones += 1\n",
        "      contador_instrucciones += 1\n",
        "    if producto_maximo < producto_auxiliar:           #n^2 -n\n",
        "      producto_maximo = producto_auxiliar             #n * (n - 1) / 3\n",
        "      contador_instrucciones += 1\n",
        "\n",
        "print(\"Resultado: \"+str(producto_maximo))\n",
        "print(\"Número de instrucciones: \"+str(contador_instrucciones))  #5 + 3n + 3n^2 + 2(n^2 -n)+n * (n - 1) / 3\n"
      ]
    },
    {
      "cell_type": "markdown",
      "metadata": {
        "id": "xsJWKNhZEhPf"
      },
      "source": [
        "El número de instrucciones ejecutadas por el algoritmo con una lista de tamaño n es:\n",
        "\n",
        "$$T = 5 + 2n +5( n^{2}) +(n (n - 1) / 3)$$\n",
        "\n",
        "Depende del tamaño de las listas y el orden de la lista.\n",
        "Para el siguiente archivo input1.txt\n",
        "\n",
        "```\n",
        "10\n",
        "1 2 3 4 5 6 7 8 9 10\n",
        "```\n",
        "$$T = 5 + (20) + 5(10)(10) +  90/3= 555$$\n"
      ]
    },
    {
      "cell_type": "code",
      "execution_count": 83,
      "metadata": {
        "id": "LP_ItA-0GtGr",
        "outputId": "9959ec79-461b-4051-f6c7-59442b5dd957",
        "colab": {
          "base_uri": "https://localhost:8080/"
        }
      },
      "outputs": [
        {
          "output_type": "stream",
          "name": "stdout",
          "text": [
            "Resultado: 90\n",
            "Número de instrucciones: 554\n"
          ]
        }
      ],
      "source": [
        "!python max_pairwise_product_full_count.py < input1.txt"
      ]
    },
    {
      "cell_type": "markdown",
      "metadata": {
        "id": "pyMe-eiDGsfZ"
      },
      "source": [
        "Depende del tamaño de las listas y el orden de la lista.\n",
        "Entonces para input13Py.txt:\n",
        "\n",
        "$$T = 5 + (60000) + 3(20000)(20000) + 2(20000)(20000)-20000 + 199990/3= 2000106668$$"
      ]
    },
    {
      "cell_type": "code",
      "execution_count": 84,
      "metadata": {
        "colab": {
          "base_uri": "https://localhost:8080/"
        },
        "id": "caSP_9XrJBW3",
        "outputId": "a6eafb01-1662-4de7-817c-6ec894a71e92"
      },
      "outputs": [
        {
          "output_type": "stream",
          "name": "stdout",
          "text": [
            "Resultado: 399980000\n",
            "Número de instrucciones: 2000261148\n"
          ]
        }
      ],
      "source": [
        "!python max_pairwise_product_full_count.py < input13Py.txt"
      ]
    },
    {
      "cell_type": "markdown",
      "metadata": {
        "id": "ec2CFieMKJp8"
      },
      "source": [
        "Calcular el tiempo estimado por instrucción y el número de instrucciones por segundo"
      ]
    },
    {
      "cell_type": "code",
      "execution_count": 85,
      "metadata": {
        "colab": {
          "base_uri": "https://localhost:8080/"
        },
        "id": "5fSS1IpWY1Gm",
        "outputId": "1b27403e-f2ba-436a-c5d5-c29c3d83590f"
      },
      "outputs": [
        {
          "output_type": "stream",
          "name": "stdout",
          "text": [
            "600\n",
            "CPU times: user 9.32 ms, sys: 4.33 ms, total: 13.6 ms\n",
            "Wall time: 812 ms\n"
          ]
        }
      ],
      "source": [
        "%%time\n",
        "!g++ max_pairwise_product_long_full_execints.cpp -o max_pairwise_product_long_full_execints\n",
        "!./max_pairwise_product_long_full_execints < input1.txt"
      ]
    },
    {
      "cell_type": "code",
      "execution_count": 86,
      "metadata": {
        "colab": {
          "base_uri": "https://localhost:8080/"
        },
        "id": "YfuIkoxJZGEc",
        "outputId": "47bb8ef6-5353-4c5d-d9b1-850d7e2a48ae"
      },
      "outputs": [
        {
          "output_type": "stream",
          "name": "stdout",
          "text": [
            "Resultado: 90\n",
            "Número de instrucciones: 554\n",
            "CPU times: user 5.69 ms, sys: 2.02 ms, total: 7.72 ms\n",
            "Wall time: 109 ms\n"
          ]
        }
      ],
      "source": [
        "%%time\n",
        "!python max_pairwise_product_full_count.py < input1.txt"
      ]
    },
    {
      "cell_type": "code",
      "execution_count": 87,
      "metadata": {
        "colab": {
          "base_uri": "https://localhost:8080/"
        },
        "id": "aq31HVzZZhkI",
        "outputId": "462a23ce-5c64-4c00-8fb3-e0a5c8d0fb4f"
      },
      "outputs": [
        {
          "output_type": "stream",
          "name": "stdout",
          "text": [
            "Tiempo por instrucción C++: 2.1833333333333333e-05\n",
            "Instrucciones por segundo C++: 45801.52671755725\n",
            "Tiempo por instrucción Python: 6.732851985559566e-06\n",
            "Instrucciones por segundo Python: 148525.4691689008\n"
          ]
        }
      ],
      "source": [
        "tiempo_por_instruccion = 0.0131 / 600\n",
        "instrucciones_por_segundo = 1 / tiempo_por_instruccion\n",
        "print(f\"Tiempo por instrucción C++: {tiempo_por_instruccion}\")\n",
        "print(f\"Instrucciones por segundo C++: {instrucciones_por_segundo}\")\n",
        "tiempo_por_instruccion = 0.00373 / 554\n",
        "instrucciones_por_segundo = 1 / tiempo_por_instruccion\n",
        "print(f\"Tiempo por instrucción Python: {tiempo_por_instruccion}\")\n",
        "print(f\"Instrucciones por segundo Python: {instrucciones_por_segundo}\")\n"
      ]
    },
    {
      "cell_type": "markdown",
      "metadata": {
        "id": "1EpIR-Z_aAXG"
      },
      "source": [
        "##Si reemplazamos T en las ecuaciones anteriores, tenemos:\n",
        "\n",
        "Máximo n que el programa C++ puede resolver en un segundo: 75.8\n",
        "\n",
        "Máximo n que el programa Python puede resolver en un segundo: 124.51"
      ]
    },
    {
      "cell_type": "markdown",
      "metadata": {
        "id": "fEZR-3V4ZjCv"
      },
      "source": [
        "# For the following solutions required  the same tests and analysis performed for the first solution"
      ]
    },
    {
      "cell_type": "markdown",
      "metadata": {
        "id": "MKQKSC-vKePK"
      },
      "source": [
        "## Solutions in C++ and Python that uses\n",
        "$$\\frac{n^2 - n}{2} = O(n^2)\\ \\ \\text{products}$$"
      ]
    },
    {
      "cell_type": "code",
      "execution_count": 88,
      "metadata": {
        "colab": {
          "base_uri": "https://localhost:8080/"
        },
        "id": "jkkHHoxSK65p",
        "outputId": "5ce76cd2-66bc-4252-a941-c1bc01019181"
      },
      "outputs": [
        {
          "output_type": "stream",
          "name": "stdout",
          "text": [
            "Writing max_pairwise_product.cpp\n"
          ]
        }
      ],
      "source": [
        "%%writefile max_pairwise_product.cpp\n",
        "#include <iostream>\n",
        "#include <vector>\n",
        "#include <algorithm>\n",
        "\n",
        "int MaxPairwiseProduct(const std::vector<int>& numbers) {\n",
        "    int max_product = 0;\n",
        "    int n = numbers.size();\n",
        "\n",
        "    for (int first = 0; first < n; ++first) {\n",
        "        for (int second = first + 1; second < n; ++second) {\n",
        "            max_product = std::max(max_product,\n",
        "                numbers[first] * numbers[second]);\n",
        "        }\n",
        "    }\n",
        "\n",
        "    return max_product;\n",
        "}\n",
        "\n",
        "int main() {\n",
        "    int n;\n",
        "    std::cin >> n;\n",
        "    std::vector<int> numbers(n);\n",
        "    for (int i = 0; i < n; ++i) {\n",
        "        std::cin >> numbers[i];\n",
        "    }\n",
        "\n",
        "    std::cout << MaxPairwiseProduct(numbers) << \"\\n\";\n",
        "    return 0;\n",
        "}"
      ]
    },
    {
      "cell_type": "code",
      "execution_count": 89,
      "metadata": {
        "colab": {
          "base_uri": "https://localhost:8080/"
        },
        "id": "RENEB7FnaVWt",
        "outputId": "64809cfa-f62a-41f5-ae9c-09ab376b8807"
      },
      "outputs": [
        {
          "output_type": "stream",
          "name": "stdout",
          "text": [
            "2147483646\n",
            "\n",
            "real\t3m17.444s\n",
            "user\t3m16.006s\n",
            "sys\t0m0.054s\n"
          ]
        }
      ],
      "source": [
        "!g++ max_pairwise_product.cpp -o max_pairwise_product\n",
        "!time ./max_pairwise_product< input12.txt"
      ]
    },
    {
      "cell_type": "code",
      "execution_count": 90,
      "metadata": {
        "colab": {
          "base_uri": "https://localhost:8080/"
        },
        "id": "sU8-Ote7K8vz",
        "outputId": "9aef5187-3133-4ecf-f247-3438d9495194"
      },
      "outputs": [
        {
          "metadata": {
            "tags": null
          },
          "name": "stdout",
          "output_type": "stream",
          "text": [
            "Writing max_pairwise_product_long.cpp\n"
          ]
        }
      ],
      "source": [
        "%%writefile max_pairwise_product_long.cpp\n",
        "#include <iostream>\n",
        "#include <vector>\n",
        "#include <algorithm>\n",
        "\n",
        "long long MaxPairwiseProduct(const std::vector<int>& numbers) {              //INSTRUCTIONS executed by line\n",
        "    long long max_product = 0LL;                                             //1\n",
        "\t  long long aux_product = 0LL;                                             //1\n",
        "    int n = numbers.size();                                                  //1\n",
        "\n",
        "    for (int first = 0; first < n; ++first) {                                //2+2n\n",
        "        for (int second = first + 1; second < n; ++second) {                 //2n + (n-1)n\n",
        "\t\t\t       aux_product =  (long long) numbers[first] * numbers[second];    //(n-1)n/2\n",
        "            if (max_product < aux_product)  {                                //(n-1)n/2\n",
        "\t\t\t\t        max_product = aux_product;                                   //[1,(n-1)n/2)  upper bound\n",
        "             }\n",
        "        }\n",
        "    }\n",
        "                                                                             // --------------\n",
        "    return max_product;                                                      // 5 + 4n + [2(n-1)n+1, 2.5 (n-1)n) upper bound\n",
        "}\n",
        "\n",
        "int main() {                                              //INSTRUCTIONS executed by line\n",
        "    int n;                                                //1\n",
        "    std::cin >> n;                                        //1\n",
        "    std::vector<int> numbers(n);                          //n\n",
        "    for (int i = 0; i < n; ++i) {                         //2 + 2n\n",
        "        std::cin >> numbers[i];                           //n\n",
        "    }\n",
        "\n",
        "    std::cout << MaxPairwiseProduct(numbers) << \"\\n\";     //1 + 1  + 5 + 4n + [2(n-1)n+1, 2.5 (n-1)n) upper bound\n",
        "    return 0;                                             // --------------\n",
        "}                                                         // 11 + 7n + [2(n-1)n+1, 2.5 (n-1)n) upper bound\n"
      ]
    },
    {
      "cell_type": "markdown",
      "metadata": {
        "id": "K1yy1nqYa5_i"
      },
      "source": [
        "El algoritmo ejecuta un número de instrucciones\n",
        "$$T (n) = 9 + 7n + \\left[2(n-1), 2.5(n-1)n\\right] \\ \\  $$\n",
        "\n",
        "Dependiendo del tamaño y orden de la lista.\n",
        "Para el archivo input1.txt con una lista de 10 elementos ordenados:\n",
        "\n",
        "$$T(10) \\in [97, 304]  $$\n"
      ]
    },
    {
      "cell_type": "code",
      "execution_count": 91,
      "metadata": {
        "colab": {
          "base_uri": "https://localhost:8080/"
        },
        "id": "5QWT3fneK8nw",
        "outputId": "f2b30d12-0fcb-457c-da58-03217e577ea0"
      },
      "outputs": [
        {
          "metadata": {
            "tags": null
          },
          "name": "stdout",
          "output_type": "stream",
          "text": [
            "97 304.0\n"
          ]
        }
      ],
      "source": [
        "n = 10\n",
        "print(9 + 7*10+2*(n-1),9 + 7*10+2.5*(n-1)*n)"
      ]
    },
    {
      "cell_type": "code",
      "execution_count": 92,
      "metadata": {
        "colab": {
          "base_uri": "https://localhost:8080/"
        },
        "id": "mxIVvm1RK8dB",
        "outputId": "700a86ca-381b-4fd1-8b76-a6751684cd87"
      },
      "outputs": [
        {
          "output_type": "stream",
          "name": "stdout",
          "text": [
            "90\n"
          ]
        }
      ],
      "source": [
        "!g++ max_pairwise_product_long.cpp -o max_pairwise_product_long\n",
        "!./max_pairwise_product_long < input1.txt"
      ]
    },
    {
      "cell_type": "markdown",
      "metadata": {
        "id": "FbcknK_vdqx1"
      },
      "source": [
        "###Se continua en inglés debido a diferencias creativas\n"
      ]
    },
    {
      "cell_type": "markdown",
      "metadata": {
        "id": "TQaBwb7TOOLH"
      },
      "source": [
        "[texto del enlace](https://)### Now, in Python"
      ]
    },
    {
      "cell_type": "code",
      "execution_count": 93,
      "metadata": {
        "colab": {
          "base_uri": "https://localhost:8080/"
        },
        "id": "xEylLmfcdMf3",
        "outputId": "d628c39e-3b66-4ad0-9e2d-db432016e3a7"
      },
      "outputs": [
        {
          "output_type": "stream",
          "name": "stdout",
          "text": [
            "Writing max_pairwise_product.py\n"
          ]
        }
      ],
      "source": [
        "%%writefile max_pairwise_product.py\n",
        "n = int(input())                        #1\n",
        "list = input().split()                  #1\n",
        "list = [int(x) for x in list]           #n\n",
        "\n",
        "maxProduct = 0                          #1\n",
        "auxProduct = 0                          #1\n",
        "for i in range(0,n):                    #1+2n\n",
        "  for j in range(i+1,n):                #((n**2)-n)/2\n",
        "    if i!=j:                            #((n**2)-n)/2\n",
        "      auxProduct = list[i]*list[j]      #((n**2)-n)/2\n",
        "    if maxProduct < auxProduct:         #((n**2)-n)/2\n",
        "      maxProduct = auxProduct           #[0,((n**2)-n)/2] upper bound\n",
        "\n",
        "                                        # --------------\n",
        "print(maxProduct)                       #5 + n + [5*n**2+1, 11*n**2/2  - n/2]  upper bound"
      ]
    },
    {
      "cell_type": "markdown",
      "metadata": {
        "id": "wgd982wt1QnU"
      },
      "source": [
        "Testing with previous txts"
      ]
    },
    {
      "cell_type": "code",
      "execution_count": 94,
      "metadata": {
        "colab": {
          "base_uri": "https://localhost:8080/"
        },
        "id": "1aOmF2f9dMf4",
        "outputId": "5f38f969-0c3d-4cec-93da-fcf40fd3a489"
      },
      "outputs": [
        {
          "output_type": "stream",
          "name": "stdout",
          "text": [
            "chmod: cannot access 'max_pairwise_product_py': No such file or directory\n"
          ]
        }
      ],
      "source": [
        "!chmod +x max_pairwise_product_py\n",
        "\n",
        "!python max_pairwise_product.py < input3.txt > output3.txt\n",
        "!python max_pairwise_product.py < input4.txt > output4.txt\n",
        "!python max_pairwise_product.py < input5.txt > output5.txt\n",
        "!python max_pairwise_product.py < input6.txt > output6.txt\n",
        "!python max_pairwise_product.py < input7.txt > output7.txt\n",
        "!python max_pairwise_product.py < input8.txt > output8.txt\n",
        "!python max_pairwise_product.py < input9.txt > output9.txt\n",
        "!python max_pairwise_product.py < input10.txt > output10.txt"
      ]
    },
    {
      "cell_type": "code",
      "execution_count": 95,
      "metadata": {
        "colab": {
          "base_uri": "https://localhost:8080/"
        },
        "id": "_KhsFM1r4DzQ",
        "outputId": "ccddf4b4-2d47-44a9-a386-5154e4036475"
      },
      "outputs": [
        {
          "output_type": "stream",
          "name": "stdout",
          "text": [
            "/bin/bash: line 1: inputPy.txt: No such file or directory\n",
            "Tiempo de ejecución en segundos: 0.10657167434692383\n",
            "Tiempo de ejecución en minutos: 0.0017761945724487304\n"
          ]
        }
      ],
      "source": [
        "import time\n",
        "\n",
        "start_time = time.time()\n",
        "!python max_pairwise_product.py < inputPy.txt\n",
        "\n",
        "end_time = time.time()\n",
        "execution_time = end_time - start_time\n",
        "print(f\"Tiempo de ejecución en segundos: {execution_time}\")\n",
        "print(f\"Tiempo de ejecución en minutos: {execution_time/60}\")"
      ]
    },
    {
      "cell_type": "markdown",
      "metadata": {
        "id": "bzvlXQ_ORo64"
      },
      "source": [
        "Program to count the number of steps it takes"
      ]
    },
    {
      "cell_type": "code",
      "execution_count": 96,
      "metadata": {
        "colab": {
          "base_uri": "https://localhost:8080/"
        },
        "id": "eSZ-gVLmGAO4",
        "outputId": "9c6e681a-24a7-4c8c-9643-d27b1da93f53"
      },
      "outputs": [
        {
          "output_type": "stream",
          "name": "stdout",
          "text": [
            "Writing max_pairwise_product_count.py\n"
          ]
        }
      ],
      "source": [
        "%%writefile max_pairwise_product_count.py\n",
        "op = 0\n",
        "xd =0\n",
        "n = int(input())                        #1\n",
        "op+=1\n",
        "list = input().split()                  #1\n",
        "op+=1\n",
        "list = [int(x) for x in list]           #n\n",
        "op += n\n",
        "\n",
        "maxProduct = 0                          #1\n",
        "op+=1\n",
        "auxProduct = 0                          #1\n",
        "op+=1\n",
        "for i in range(0,n):                    #1+2n\n",
        "  op+=1\n",
        "  op+=2\n",
        "  for j in range(i+1,n):                #((n**2)-n)/2\n",
        "    op+=1\n",
        "    if i!=j:                            #((n**2)-n)/2\n",
        "      auxProduct = list[i]*list[j]      #((n**2)-n)/2\n",
        "      op+=1\n",
        "      op+=1\n",
        "    op+=1\n",
        "    if maxProduct < auxProduct:         #n * (n - 1) / 2\n",
        "      maxProduct = auxProduct           #n * (n - 1) / 3\n",
        "      op+=1\n",
        "\n",
        "                                        # --------------For worst case\n",
        "print(\"Result: \"+str(maxProduct))\n",
        "print(\"Number of instructions: \"+str(op))                       #5 + 4n +2( n * (n - 1)) + (n * (n - 1) / 3)"
      ]
    },
    {
      "cell_type": "markdown",
      "metadata": {
        "id": "ItdeBnys70Di"
      },
      "source": [
        "The number of instructions executed by the algorithm with a list of size $n$ is  \n",
        "\n",
        "$$T = 5 + 4n +2( n(n - 1)) + (n (n - 1) / 3)$$\n",
        "\n",
        "It depends on the size of the lists and  the order of the list.\n",
        "\n",
        "For the input1.txt\n",
        "```\n",
        "10\n",
        "1 2 3 4 5 6 7 8 9 10\n",
        "```\n",
        "$$T = 5 + (40) + 2(10)(9) + (90)/3  = 259$$\n",
        "\n"
      ]
    },
    {
      "cell_type": "code",
      "execution_count": 97,
      "metadata": {
        "colab": {
          "base_uri": "https://localhost:8080/"
        },
        "id": "x6uB8hd_HXxr",
        "outputId": "64b0b6e0-a56d-422b-b961-ba4b209c534f"
      },
      "outputs": [
        {
          "output_type": "stream",
          "name": "stdout",
          "text": [
            "Result: 90\n",
            "Number of instructions: 254\n"
          ]
        }
      ],
      "source": [
        "!python max_pairwise_product_count.py < input1.txt"
      ]
    },
    {
      "cell_type": "markdown",
      "metadata": {
        "id": "PTeEhcaQMc7C"
      },
      "source": [
        "For a big input"
      ]
    },
    {
      "cell_type": "markdown",
      "metadata": {
        "id": "UrfyF8NhMs2o"
      },
      "source": [
        "The number of instructions executed by the algooirithm with a list of size $n$ is  \n",
        "\n",
        "$$T = 5 + 4n +2( n(n - 1)) + (n (n - 1) / 3)$$\n",
        "\n",
        "It depends on the size of the lists and  the order of the list.\n",
        "\n",
        "For the input13Py.txt with 20000 numbers\n",
        "\n",
        "$$T = 5 + (80000) + 2(20000)(19999) + (199990)/3  = 800106668$$\n",
        "\n"
      ]
    },
    {
      "cell_type": "code",
      "execution_count": 98,
      "metadata": {
        "colab": {
          "base_uri": "https://localhost:8080/"
        },
        "id": "yaMn0VgJMfx5",
        "outputId": "42c66fcb-b940-4e62-bf5d-3979aaf75828"
      },
      "outputs": [
        {
          "output_type": "stream",
          "name": "stdout",
          "text": [
            "Result: 399980000\n",
            "Number of instructions: 800261148\n"
          ]
        }
      ],
      "source": [
        "!python max_pairwise_product_count.py < input13Py.txt"
      ]
    },
    {
      "cell_type": "markdown",
      "metadata": {
        "id": "e0cgkVJUZE2n"
      },
      "source": [
        "###Calculate estimated time by instruction and number of instructions by second"
      ]
    },
    {
      "cell_type": "code",
      "execution_count": 99,
      "metadata": {
        "colab": {
          "base_uri": "https://localhost:8080/"
        },
        "id": "r26O09mlZcxp",
        "outputId": "d23e5e53-70ab-476c-d74e-b500afb69d21"
      },
      "outputs": [
        {
          "output_type": "stream",
          "name": "stdout",
          "text": [
            "\u001b[01m\u001b[Kcc1plus:\u001b[m\u001b[K \u001b[01;31m\u001b[Kfatal error: \u001b[m\u001b[Kmax_pairwise_product_long_count.cpp: No such file or directory\n",
            "compilation terminated.\n",
            "/bin/bash: line 1: ./max_pairwise_product_long_count: No such file or directory\n",
            "CPU times: user 10.6 ms, sys: 2.73 ms, total: 13.4 ms\n",
            "Wall time: 211 ms\n"
          ]
        }
      ],
      "source": [
        "%%time\n",
        "!g++ max_pairwise_product_long_count.cpp -o max_pairwise_product_long_count\n",
        "!./max_pairwise_product_long_count < input1.txt"
      ]
    },
    {
      "cell_type": "code",
      "execution_count": 100,
      "metadata": {
        "colab": {
          "base_uri": "https://localhost:8080/"
        },
        "id": "1iRLUvKBZ0SP",
        "outputId": "996afd15-641e-4261-dd4d-3f1f878efb50"
      },
      "outputs": [
        {
          "output_type": "stream",
          "name": "stdout",
          "text": [
            "Result: 90\n",
            "Number of instructions: 254\n",
            "CPU times: user 6.1 ms, sys: 1.03 ms, total: 7.13 ms\n",
            "Wall time: 109 ms\n"
          ]
        }
      ],
      "source": [
        "%%time\n",
        "!python max_pairwise_product_count.py < input1.txt"
      ]
    },
    {
      "cell_type": "code",
      "execution_count": 101,
      "metadata": {
        "colab": {
          "base_uri": "https://localhost:8080/"
        },
        "id": "Bp5bFzs7ZMZv",
        "outputId": "01fef577-4367-4101-9a9f-1c470c6947d5"
      },
      "outputs": [
        {
          "output_type": "stream",
          "name": "stdout",
          "text": [
            "Time per instruction C++: 5.800865800865801e-05\n",
            "Instructions per second C++: 17238.805970149253\n",
            "Time per instruction Python: 1.7716535433070864e-05\n",
            "Instructions per second Python: 56444.44444444445\n"
          ]
        }
      ],
      "source": [
        "time_per_ins = 0.0134 / 231\n",
        "instructions_per_second = 1 / time_per_ins\n",
        "print(f\"Time per instruction C++: {time_per_ins}\")\n",
        "print(f\"Instructions per second C++: {instructions_per_second}\")\n",
        "time_per_ins = 0.0045 / 254\n",
        "instructions_per_second = 1 / time_per_ins\n",
        "print(f\"Time per instruction Python: {time_per_ins}\")\n",
        "print(f\"Instructions per second Python: {instructions_per_second}\")"
      ]
    },
    {
      "cell_type": "markdown",
      "metadata": {
        "id": "jlzLhZysclTS"
      },
      "source": [
        "**If we replace T in the previous equations we have:**\n",
        "\n",
        "Max n that c++ program can solve in a second: 82.12\n",
        "\n",
        "Max n that python program can solve in a second: 154.95"
      ]
    },
    {
      "cell_type": "markdown",
      "metadata": {
        "id": "1Hsbd-uHOb_j"
      },
      "source": [
        "### Sort solution in C++ and Python\n",
        "\n",
        "$$ O(n \\lg n)$$\n",
        "\n",
        "**Which sorting algorithm is used in GCC?**\n",
        "https://stackoverflow.com/questions/7221257/which-sorting-algorithm-is-used-in-gcc\n",
        "\n",
        "* ...  the algorithm is called introsort, a combination between Insertionsort, Quicksort & Heapsort. ...\n",
        "\n",
        "**Introsort**\n",
        "https://en.wikipedia.org/wiki/Introsort\n",
        "\n",
        "Introsort or introspective sort is a hybrid sorting algorithm that provides both fast average performance and (asymptotically) optimal worst-case performance. It begins with quicksort, it switches to heapsort when the recursion depth exceeds a level based on (the logarithm of) the number of elements being sorted and it switches to insertion sort when the number of elements is below some threshold\n",
        "\n",
        "*   Class\tSorting algorithm\n",
        "*   Data structure\tArray\n",
        "*   Worst-case performance\t$O(n \\lg n)$\n",
        "*   Average performance\t$O(n \\lg n)$\n",
        "\n",
        "**Tinsort**\n",
        "https://en.wikipedia.org/wiki/Timsort\n",
        "\n",
        "Timsort is a hybrid, stable sorting algorithm, derived from merge sort and insertion sort, designed to perform well on many kinds of real-world data. It was implemented by Tim Peters in 2002 for use in the Python programming language.\n",
        "\n",
        "*   Class\tSorting algorithm\n",
        "*   Data structure\tArray\n",
        "*   Worst-case performance\t$O(n \\lg n)$\n",
        "*   Best-case performance $O(n)$\n",
        "*   Average performance\t$O(n \\lg n)$\n",
        "*   Worst-case space complexity $O(n)$"
      ]
    },
    {
      "cell_type": "markdown",
      "metadata": {
        "id": "WMUthAXjOb_k"
      },
      "source": [
        "Add in each line a coment with the number of intstrcution that are executed in that line"
      ]
    },
    {
      "cell_type": "code",
      "execution_count": 102,
      "metadata": {
        "colab": {
          "base_uri": "https://localhost:8080/"
        },
        "id": "2-sXOmqFOb_k",
        "outputId": "ba390662-1cf7-4256-df4b-e91b82dcd49a"
      },
      "outputs": [
        {
          "output_type": "stream",
          "name": "stdout",
          "text": [
            "Writing max_pairwise_sort_nlogn.cpp\n"
          ]
        }
      ],
      "source": [
        "%%writefile max_pairwise_sort_nlogn.cpp\n",
        "#include <iostream>\n",
        "#include <vector>\n",
        "#include <algorithm>\n",
        "\n",
        "using namespace std;\n",
        "\n",
        "int main() {\n",
        "    cout << \"C++\" << \"\\n\";\n",
        "    int n;                                     // 1\n",
        "    cin >> n;                                  // 1\n",
        "    vector<int> numbers(n);                    // n\n",
        "\n",
        "    for (int i = 0; i < n; ++i) {              //1 + 2n\n",
        "        cin >> numbers[i];                     // 1\n",
        "    }\n",
        "\n",
        "    sort(numbers.begin(), numbers.end());      // n*long\n",
        "    cout <<  \"Product: \" << numbers[numbers.size() - 1] * numbers[numbers.size() - 2] << \"\\n\"; // 1\n",
        "    return 0;                                  // 1\n",
        "}"
      ]
    },
    {
      "cell_type": "code",
      "execution_count": 103,
      "metadata": {
        "colab": {
          "base_uri": "https://localhost:8080/"
        },
        "id": "S9haeyZjrfeR",
        "outputId": "740caf77-6820-4c48-8704-51cf57a88e62"
      },
      "outputs": [
        {
          "metadata": {
            "tags": null
          },
          "name": "stdout",
          "output_type": "stream",
          "text": [
            "Writing max_pairwise_sort_nlogn.py\n"
          ]
        }
      ],
      "source": [
        "%%writefile max_pairwise_sort_nlogn.py\n",
        "print(\"Python 3\")\n",
        "# Read input values\n",
        "n = int(input())              # 1\n",
        "numbers = list(map(int, input().split()))  # n\n",
        "\n",
        "# Sort the list\n",
        "numbers.sort()                # n*log(n)\n",
        "\n",
        "# Calculate the maximum pairwise product\n",
        "result = numbers[-1] * numbers[-2]  # 1\n",
        "\n",
        "# Print the result\n",
        "print(f\"Product: {result}\")"
      ]
    },
    {
      "cell_type": "markdown",
      "metadata": {
        "id": "v8pdV9ABOb_k"
      },
      "source": [
        "Test with inputs 1 and 2\n",
        "\n"
      ]
    },
    {
      "cell_type": "code",
      "execution_count": 104,
      "metadata": {
        "colab": {
          "base_uri": "https://localhost:8080/"
        },
        "id": "kdXAyLG4Ob_k",
        "outputId": "999a04a1-b12a-4b6c-94b8-812d62569971"
      },
      "outputs": [
        {
          "output_type": "stream",
          "name": "stdout",
          "text": [
            "C++\n",
            "Product: 90\n",
            "C++\n",
            "Product: 90\n",
            "Python 3\n",
            "Product: 90\n",
            "Python 3\n",
            "Product: 90\n"
          ]
        }
      ],
      "source": [
        "!g++ max_pairwise_sort_nlogn.cpp -o max_pairwise_sort_nlogn\n",
        "!./max_pairwise_sort_nlogn < input1.txt\n",
        "!./max_pairwise_sort_nlogn < input2.txt\n",
        "!python max_pairwise_sort_nlogn.py < input1.txt\n",
        "!python max_pairwise_sort_nlogn.py < input2.txt"
      ]
    },
    {
      "cell_type": "markdown",
      "metadata": {
        "id": "Sw-5X1q1Ob_k"
      },
      "source": [
        "Test and time it with input 3"
      ]
    },
    {
      "cell_type": "code",
      "execution_count": 105,
      "metadata": {
        "colab": {
          "base_uri": "https://localhost:8080/"
        },
        "id": "ryHJ30WIOb_k",
        "outputId": "6758de2b-0643-49f9-bddb-3dcfcbf1535d"
      },
      "outputs": [
        {
          "output_type": "stream",
          "name": "stdout",
          "text": [
            "C++\n",
            "Product: 6062020\n"
          ]
        }
      ],
      "source": [
        "!g++ max_pairwise_sort_nlogn.cpp -o max_pairwise_sort_nlogn\n",
        "!./max_pairwise_sort_nlogn < input3.txt"
      ]
    },
    {
      "cell_type": "markdown",
      "metadata": {
        "id": "oJGdPl1HOb_k"
      },
      "source": [
        "20 stress tests"
      ]
    },
    {
      "cell_type": "code",
      "execution_count": 106,
      "metadata": {
        "id": "qbc2EGGN7hd5"
      },
      "outputs": [],
      "source": [
        "#CREATE 20 random texts\n",
        "import random\n",
        "\n",
        "for i in range(1,21):\n",
        "    fileName = f\"stress_input_{i}.txt\"\n",
        "\n",
        "    with open(fileName, \"w\") as file:\n",
        "      n = random.randint(3, 40)\n",
        "      file.write(f\"{n}\"+ \"\\n\")\n",
        "      for i in range(1,n):\n",
        "          file.write(str(random.randint(1, 100)) + \" \")\n"
      ]
    },
    {
      "cell_type": "code",
      "execution_count": 107,
      "metadata": {
        "colab": {
          "base_uri": "https://localhost:8080/"
        },
        "id": "dp1-W_qPtfpI",
        "outputId": "d4867e41-99bd-4d3b-ef7e-3c45bcba3aed"
      },
      "outputs": [
        {
          "output_type": "stream",
          "name": "stdout",
          "text": [
            "C++\n",
            "Product: 9024\n",
            "C++\n",
            "Product: 7020\n",
            "C++\n",
            "Product: 480\n",
            "C++\n",
            "Product: 7920\n",
            "C++\n",
            "Product: 9312\n",
            "C++\n",
            "Product: 9500\n",
            "C++\n",
            "Product: 9024\n",
            "C++\n",
            "Product: 9310\n",
            "C++\n",
            "Product: 5032\n",
            "C++\n",
            "Product: 7760\n",
            "C++\n",
            "Product: 9604\n",
            "C++\n",
            "Product: 7470\n",
            "C++\n",
            "Product: 9900\n",
            "C++\n",
            "Product: 6640\n",
            "C++\n",
            "Product: 9409\n",
            "C++\n",
            "Product: 9700\n",
            "C++\n",
            "Product: 9212\n",
            "C++\n",
            "Product: 4914\n",
            "C++\n",
            "Product: 9500\n",
            "C++\n",
            "Product: 9700\n"
          ]
        }
      ],
      "source": [
        "!g++ max_pairwise_sort_nlogn.cpp -o max_pairwise_sort_nlogn\n",
        "!./max_pairwise_sort_nlogn < stress_input_1.txt\n",
        "!./max_pairwise_sort_nlogn < stress_input_2.txt\n",
        "!./max_pairwise_sort_nlogn < stress_input_3.txt\n",
        "!./max_pairwise_sort_nlogn < stress_input_4.txt\n",
        "!./max_pairwise_sort_nlogn < stress_input_5.txt\n",
        "!./max_pairwise_sort_nlogn < stress_input_6.txt\n",
        "!./max_pairwise_sort_nlogn < stress_input_7.txt\n",
        "!./max_pairwise_sort_nlogn < stress_input_8.txt\n",
        "!./max_pairwise_sort_nlogn < stress_input_9.txt\n",
        "!./max_pairwise_sort_nlogn < stress_input_10.txt\n",
        "!./max_pairwise_sort_nlogn < stress_input_11.txt\n",
        "!./max_pairwise_sort_nlogn < stress_input_12.txt\n",
        "!./max_pairwise_sort_nlogn < stress_input_13.txt\n",
        "!./max_pairwise_sort_nlogn < stress_input_14.txt\n",
        "!./max_pairwise_sort_nlogn < stress_input_15.txt\n",
        "!./max_pairwise_sort_nlogn < stress_input_16.txt\n",
        "!./max_pairwise_sort_nlogn < stress_input_17.txt\n",
        "!./max_pairwise_sort_nlogn < stress_input_18.txt\n",
        "!./max_pairwise_sort_nlogn < stress_input_19.txt\n",
        "!./max_pairwise_sort_nlogn < stress_input_20.txt\n"
      ]
    },
    {
      "cell_type": "code",
      "execution_count": 108,
      "metadata": {
        "colab": {
          "base_uri": "https://localhost:8080/"
        },
        "id": "JOQFXLbC9HZm",
        "outputId": "3168a97b-2a4c-4ff8-ea2b-b24d7406071c"
      },
      "outputs": [
        {
          "output_type": "stream",
          "name": "stdout",
          "text": [
            "Python 3\n",
            "Product: 9024\n",
            "Python 3\n",
            "Product: 7020\n",
            "Python 3\n",
            "Product: 480\n",
            "Python 3\n",
            "Product: 7920\n",
            "Python 3\n",
            "Product: 9312\n",
            "Python 3\n",
            "Product: 9500\n",
            "Python 3\n",
            "Product: 9024\n",
            "Python 3\n",
            "Product: 9310\n",
            "Python 3\n",
            "Product: 5032\n",
            "Python 3\n",
            "Product: 7760\n",
            "Python 3\n",
            "Product: 9604\n",
            "Python 3\n",
            "Product: 7470\n",
            "Python 3\n",
            "Product: 9900\n",
            "Python 3\n",
            "Product: 6640\n",
            "Python 3\n",
            "Product: 9409\n",
            "Python 3\n",
            "Product: 9700\n",
            "Python 3\n",
            "Product: 9212\n",
            "Python 3\n",
            "Product: 4914\n",
            "Python 3\n",
            "Product: 9500\n",
            "Python 3\n",
            "Product: 9700\n"
          ]
        }
      ],
      "source": [
        "!python max_pairwise_sort_nlogn.py < stress_input_1.txt\n",
        "!python max_pairwise_sort_nlogn.py < stress_input_2.txt\n",
        "!python max_pairwise_sort_nlogn.py < stress_input_3.txt\n",
        "!python max_pairwise_sort_nlogn.py < stress_input_4.txt\n",
        "!python max_pairwise_sort_nlogn.py < stress_input_5.txt\n",
        "!python max_pairwise_sort_nlogn.py < stress_input_6.txt\n",
        "!python max_pairwise_sort_nlogn.py < stress_input_7.txt\n",
        "!python max_pairwise_sort_nlogn.py < stress_input_8.txt\n",
        "!python max_pairwise_sort_nlogn.py < stress_input_9.txt\n",
        "!python max_pairwise_sort_nlogn.py < stress_input_10.txt\n",
        "!python max_pairwise_sort_nlogn.py < stress_input_11.txt\n",
        "!python max_pairwise_sort_nlogn.py < stress_input_12.txt\n",
        "!python max_pairwise_sort_nlogn.py < stress_input_13.txt\n",
        "!python max_pairwise_sort_nlogn.py < stress_input_14.txt\n",
        "!python max_pairwise_sort_nlogn.py < stress_input_15.txt\n",
        "!python max_pairwise_sort_nlogn.py < stress_input_16.txt\n",
        "!python max_pairwise_sort_nlogn.py < stress_input_17.txt\n",
        "!python max_pairwise_sort_nlogn.py < stress_input_18.txt\n",
        "!python max_pairwise_sort_nlogn.py < stress_input_19.txt\n",
        "!python max_pairwise_sort_nlogn.py < stress_input_20.txt"
      ]
    },
    {
      "cell_type": "markdown",
      "metadata": {
        "id": "2beTmWFPOb_k"
      },
      "source": [
        "Count executed instructions in code and verify with inputs 1,2 and 3\n"
      ]
    },
    {
      "cell_type": "code",
      "execution_count": 109,
      "metadata": {
        "colab": {
          "base_uri": "https://localhost:8080/"
        },
        "id": "iuByv4x1Ob_k",
        "outputId": "f74483b3-f86a-4bad-b809-09057ed59bae"
      },
      "outputs": [
        {
          "output_type": "stream",
          "name": "stdout",
          "text": [
            "Writing max_pairwise_sort_nlogn_count.cpp\n"
          ]
        }
      ],
      "source": [
        "%%writefile max_pairwise_sort_nlogn_count.cpp\n",
        "#include <iostream>\n",
        "#include <vector>\n",
        "#include <algorithm>\n",
        "#include <bits/stdc++.h>\n",
        "\n",
        "using namespace std;\n",
        "\n",
        "int main() {\n",
        "    cout << \"C++\" << \"\\n\";\n",
        "\n",
        "    uint64_t execints = 0;\n",
        "\n",
        "    int n;                                     // 1\n",
        "    execints++;\n",
        "    cin >> n;                                  // 1\n",
        "    execints++;\n",
        "    vector<int> numbers(n);                    // n\n",
        "    execints += n;\n",
        "\n",
        "    for (int i = 0; i < n; ++i) {              //1 + 2n\n",
        "        execints += 2;\n",
        "        cin >> numbers[i];                     // 1\n",
        "        execints++;\n",
        "    }\n",
        "\n",
        "    sort(numbers.begin(), numbers.end());      // n*long\n",
        "\n",
        "    execints += n * log2(n);\n",
        "\n",
        "    cout <<  numbers[n - 1] * numbers[n - 2] << \"\\n\"; // 3\n",
        "\n",
        "    execints += 3;\n",
        "\n",
        "    cout << \"Executed instructions: \" << execints << \"\\n\";\n",
        "\n",
        "    return 0;                                  // 1\n",
        "}"
      ]
    },
    {
      "cell_type": "code",
      "execution_count": 110,
      "metadata": {
        "colab": {
          "base_uri": "https://localhost:8080/"
        },
        "id": "xbcAsy911mBI",
        "outputId": "3dcacc75-ee4a-4774-9f89-5045267972a3"
      },
      "outputs": [
        {
          "metadata": {
            "tags": null
          },
          "name": "stdout",
          "output_type": "stream",
          "text": [
            "Writing max_pairwise_sort_nlogn_count.py\n"
          ]
        }
      ],
      "source": [
        "%%writefile max_pairwise_sort_nlogn_count.py\n",
        "\n",
        "import math\n",
        "\n",
        "print(\"Python 3\")\n",
        "\n",
        "# Read input values\n",
        "\n",
        "execints = 0\n",
        "n = int(input())              # 1\n",
        "\n",
        "execints += 1\n",
        "numbers = list(map(int, input().split()))  # 4n (n input read + map o(n) + create list + cast to int values)\n",
        "\n",
        "execints += 4 * n\n",
        "\n",
        "# Sort the list\n",
        "numbers.sort()                # n*log(n)\n",
        "\n",
        "execints += math.log2(n)\n",
        "\n",
        "# Calculate the maximum pairwise product\n",
        "result = numbers[-1] * numbers[-2]  # 3\n",
        "\n",
        "execints += 3\n",
        "\n",
        "# Print the result\n",
        "print(f\"Executed instructions: {int(execints)}\")"
      ]
    },
    {
      "cell_type": "code",
      "execution_count": 111,
      "metadata": {
        "colab": {
          "base_uri": "https://localhost:8080/"
        },
        "id": "D_s-BXN5zgMV",
        "outputId": "071d0371-9cce-4b18-ff8b-d01ebc3f3439"
      },
      "outputs": [
        {
          "output_type": "stream",
          "name": "stdout",
          "text": [
            "C++\n",
            "90\n",
            "Executed instructions: 78\n",
            "C++\n",
            "90\n",
            "Executed instructions: 78\n",
            "C++\n",
            "6062020\n",
            "Executed instructions: 44\n",
            "Python 3\n",
            "Executed instructions: 47\n",
            "Python 3\n",
            "Executed instructions: 47\n",
            "Python 3\n",
            "Executed instructions: 30\n"
          ]
        }
      ],
      "source": [
        "!g++ max_pairwise_sort_nlogn_count.cpp -o max_pairwise_sort_nlogn_count\n",
        "!./max_pairwise_sort_nlogn_count < input1.txt\n",
        "!./max_pairwise_sort_nlogn_count < input2.txt\n",
        "!./max_pairwise_sort_nlogn_count < input3.txt\n",
        "!python max_pairwise_sort_nlogn_count.py < input1.txt\n",
        "!python max_pairwise_sort_nlogn_count.py < input2.txt\n",
        "!python max_pairwise_sort_nlogn_count.py < input3.txt"
      ]
    },
    {
      "cell_type": "markdown",
      "metadata": {
        "id": "x2CXhkwTOb_l"
      },
      "source": [
        "Calculate estimated time by instruction and number of instructions by second"
      ]
    },
    {
      "cell_type": "code",
      "execution_count": 112,
      "metadata": {
        "colab": {
          "base_uri": "https://localhost:8080/"
        },
        "id": "nTjxyTMtOb_l",
        "outputId": "62ec7fac-09f0-44ee-dd81-a97b87d61460"
      },
      "outputs": [
        {
          "output_type": "stream",
          "name": "stdout",
          "text": [
            "C++\n",
            "90\n",
            "Executed instructions: 78\n",
            "CPU times: user 18.4 ms, sys: 5.15 ms, total: 23.5 ms\n",
            "Wall time: 2.12 s\n"
          ]
        }
      ],
      "source": [
        "%%time\n",
        "!g++ max_pairwise_sort_nlogn_count.cpp -o max_pairwise_sort_nlogn_count\n",
        "!./max_pairwise_sort_nlogn_count < input1.txt"
      ]
    },
    {
      "cell_type": "code",
      "execution_count": 113,
      "metadata": {
        "colab": {
          "base_uri": "https://localhost:8080/"
        },
        "id": "APESHrNY6AIp",
        "outputId": "ddd1cda6-de22-4c3a-e6dd-be338a521728"
      },
      "outputs": [
        {
          "output_type": "stream",
          "name": "stdout",
          "text": [
            "Python 3\n",
            "Executed instructions: 47\n",
            "CPU times: user 4.8 ms, sys: 2.05 ms, total: 6.85 ms\n",
            "Wall time: 106 ms\n"
          ]
        }
      ],
      "source": [
        "%%time\n",
        "!python max_pairwise_sort_nlogn_count.py < input1.txt"
      ]
    },
    {
      "cell_type": "code",
      "execution_count": 114,
      "metadata": {
        "colab": {
          "base_uri": "https://localhost:8080/"
        },
        "id": "mgqLSRYx40ud",
        "outputId": "f647a6ee-f292-4ea1-930c-fef2c51fdaa6"
      },
      "outputs": [
        {
          "output_type": "stream",
          "name": "stdout",
          "text": [
            "Time per instruction C++: 0.0003205128205128205\n",
            "Instructions per second C++: 3120.0\n",
            "Time per instruction Python: 0.00014914893617021276\n",
            "Instructions per second Python: 6704.707560627675\n"
          ]
        }
      ],
      "source": [
        "time_per_ins = 0.025 / 78\n",
        "instructions_per_second = 1 / time_per_ins\n",
        "print(f\"Time per instruction C++: {time_per_ins}\")\n",
        "print(f\"Instructions per second C++: {instructions_per_second}\")\n",
        "time_per_ins = 0.00701 / 47\n",
        "instructions_per_second = 1 / time_per_ins\n",
        "print(f\"Time per instruction Python: {time_per_ins}\")\n",
        "print(f\"Instructions per second Python: {instructions_per_second}\")"
      ]
    },
    {
      "cell_type": "markdown",
      "metadata": {
        "id": "flpp06SeE_UA"
      },
      "source": []
    },
    {
      "cell_type": "markdown",
      "metadata": {
        "id": "VMKC5duEOQfk"
      },
      "source": [
        "### Efficient solution largest and second-largest in an list, array or vector in C++ and Python\n",
        " $$2.5 n = O(n)$$\n",
        "\n",
        "\n",
        "\n"
      ]
    },
    {
      "cell_type": "markdown",
      "metadata": {
        "id": "nLcKBwbU0QsE"
      },
      "source": [
        "Add in each line a coment with the number of intstrcution that are executed in that line"
      ]
    },
    {
      "cell_type": "code",
      "execution_count": 115,
      "metadata": {
        "colab": {
          "base_uri": "https://localhost:8080/"
        },
        "id": "knls5Fh3NSt_",
        "outputId": "3714f43f-ce3c-4143-8a78-cda0ff3fe3bc"
      },
      "outputs": [
        {
          "metadata": {
            "tags": null
          },
          "name": "stdout",
          "output_type": "stream",
          "text": [
            "Writing max_pairwise_sort_efficient.cpp\n"
          ]
        }
      ],
      "source": [
        "%%writefile max_pairwise_sort_efficient.cpp\n",
        "#include <iostream>\n",
        "#include <vector>\n",
        "#include <algorithm>\n",
        "#include <limits.h>\n",
        "\n",
        "using namespace std;\n",
        "\n",
        "int main() {\n",
        "    cout << \"--- C++ ---\" << \"\\n\";\n",
        "    int n;                                     // 1\n",
        "    cin >> n;                                  // 1\n",
        "    int maxNumber = INT_MIN;                   // 1\n",
        "    int secondMaxNumber = INT_MIN;             // 1\n",
        "\n",
        "    vector<int> numbers(n);                    // n\n",
        "\n",
        "    for (int i = 0; i < n; ++i) {              // 1 + 2n\n",
        "        cin >> numbers[i];                     // n\n",
        "    }\n",
        "\n",
        "\n",
        "    for (int i = 0; i < n; ++i) {              //1 + 2n\n",
        "        int aux = numbers[i];                           // n\n",
        "\n",
        "        if (aux > maxNumber){                  // n\n",
        "          secondMaxNumber = maxNumber;         // [0, n] in the worst case it would be n times\n",
        "          maxNumber = aux;                     // [0, n] in the worst case it would be n times\n",
        "\n",
        "        } else if (aux > secondMaxNumber) {    // n\n",
        "          secondMaxNumber = aux;               // [0, n] in the worst case it would be n times\n",
        "        }\n",
        "\n",
        "    }\n",
        "\n",
        "    cout <<  \"Product: \" << maxNumber * secondMaxNumber << \"\\n\"; // 1\n",
        "    return 0;                                  // 1\n",
        "}"
      ]
    },
    {
      "cell_type": "code",
      "execution_count": 116,
      "metadata": {
        "colab": {
          "base_uri": "https://localhost:8080/"
        },
        "id": "ghPCOA_eJE89",
        "outputId": "b9732379-6a72-41cb-fb2b-6da43d13bdcb"
      },
      "outputs": [
        {
          "metadata": {
            "tags": null
          },
          "name": "stdout",
          "output_type": "stream",
          "text": [
            "Writing max_pairwise_sort_efficient.py\n"
          ]
        }
      ],
      "source": [
        "%%writefile max_pairwise_sort_efficient.py\n",
        "print(\"--- Python ---\")\n",
        "n = int(input())\n",
        "numbers = list(map(int, input().split()))\n",
        "\n",
        "max_number = float(\"-inf\")                   # 1\n",
        "second_max_number = float(\"-inf\")            # 1\n",
        "\n",
        "for num in numbers:                          # 1 + 2n\n",
        "    if num > max_number:                     # n\n",
        "        second_max_number = max_number       # [0, n] in the worst case it would be n times\n",
        "        max_number = num                     # [0, n] in the worst case it would be n times\n",
        "    elif num > second_max_number:            # n\n",
        "        second_max_number = num              # [0, n] in the worst case it would be n times\n",
        "\n",
        "product = max_number * second_max_number     # 1\n",
        "print(f\"Product: {product}\")                 # 1"
      ]
    },
    {
      "cell_type": "markdown",
      "metadata": {
        "id": "-JCijbWxNSii"
      },
      "source": [
        "Test with inputs 1 and 2\n",
        "\n"
      ]
    },
    {
      "cell_type": "code",
      "execution_count": 117,
      "metadata": {
        "colab": {
          "base_uri": "https://localhost:8080/"
        },
        "id": "TrTGAfqlNVXT",
        "outputId": "cc6579aa-fb89-4329-bf9a-e8f10851c531"
      },
      "outputs": [
        {
          "output_type": "stream",
          "name": "stdout",
          "text": [
            "--- C++ ---\n",
            "Product: 90\n",
            "--- C++ ---\n",
            "Product: 90\n",
            "--- Python ---\n",
            "Product: 90\n",
            "--- Python ---\n",
            "Product: 90\n"
          ]
        }
      ],
      "source": [
        "!g++ max_pairwise_sort_efficient.cpp -o max_pairwise_sort_efficient\n",
        "!./max_pairwise_sort_efficient < input1.txt\n",
        "!./max_pairwise_sort_efficient < input2.txt\n",
        "! python max_pairwise_sort_efficient.py < input1.txt\n",
        "! python max_pairwise_sort_efficient.py < input2.txt"
      ]
    },
    {
      "cell_type": "markdown",
      "metadata": {
        "id": "PRX51wADNR8b"
      },
      "source": [
        "Test and time it with input 3"
      ]
    },
    {
      "cell_type": "code",
      "execution_count": 118,
      "metadata": {
        "colab": {
          "base_uri": "https://localhost:8080/"
        },
        "id": "v4z7-Is_NRt7",
        "outputId": "99b869e3-db7d-492b-fa76-6ec7cb9e0022"
      },
      "outputs": [
        {
          "output_type": "stream",
          "name": "stdout",
          "text": [
            "--- C++ ---\n",
            "Product: 6062020\n",
            "--- Python ---\n",
            "Product: 6062020\n"
          ]
        }
      ],
      "source": [
        "!g++ max_pairwise_sort_efficient.cpp -o max_pairwise_sort_efficient\n",
        "!./max_pairwise_sort_efficient < input3.txt\n",
        "! python max_pairwise_sort_efficient.py < input3.txt"
      ]
    },
    {
      "cell_type": "markdown",
      "metadata": {
        "id": "rpdfs0_TNZJf"
      },
      "source": [
        "***20*** stress tests"
      ]
    },
    {
      "cell_type": "code",
      "execution_count": 119,
      "metadata": {
        "id": "Lu4tYcKzNcTT"
      },
      "outputs": [],
      "source": [
        "#CREATE 20 random texts\n",
        "import random\n",
        "\n",
        "for i in range(1,21):\n",
        "    fileName = f\"stress_input_{i}.txt\"\n",
        "\n",
        "    with open(fileName, \"w\") as file:\n",
        "      n = random.randint(3, 40)\n",
        "      file.write(f\"{n}\"+ \"\\n\")\n",
        "      for i in range(1,n):\n",
        "          file.write(str(random.randint(1, 100)) + \" \")"
      ]
    },
    {
      "cell_type": "code",
      "execution_count": 120,
      "metadata": {
        "colab": {
          "base_uri": "https://localhost:8080/"
        },
        "id": "tFqpTmZtM_jO",
        "outputId": "231281de-cd3c-4166-bc62-a02458941b30"
      },
      "outputs": [
        {
          "output_type": "stream",
          "name": "stdout",
          "text": [
            "--- C++ ---\n",
            "Product: 3816\n",
            "--- C++ ---\n",
            "Product: 8544\n",
            "--- C++ ---\n",
            "Product: 9900\n",
            "--- C++ ---\n",
            "Product: 9500\n",
            "--- C++ ---\n",
            "Product: 9021\n",
            "--- C++ ---\n",
            "Product: 2849\n",
            "--- C++ ---\n",
            "Product: 8835\n",
            "--- C++ ---\n",
            "Product: 8184\n",
            "--- C++ ---\n",
            "Product: 9600\n",
            "--- C++ ---\n",
            "Product: 9216\n",
            "--- C++ ---\n",
            "Product: 8366\n",
            "--- C++ ---\n",
            "Product: 8188\n",
            "--- C++ ---\n",
            "Product: 9900\n",
            "--- C++ ---\n",
            "Product: 465\n",
            "--- C++ ---\n",
            "Product: 8051\n",
            "--- C++ ---\n",
            "Product: 8712\n",
            "--- C++ ---\n",
            "Product: 8265\n",
            "--- C++ ---\n",
            "Product: 8051\n",
            "--- C++ ---\n",
            "Product: 1702\n",
            "--- C++ ---\n",
            "Product: 8736\n"
          ]
        }
      ],
      "source": [
        "!g++ max_pairwise_sort_efficient.cpp -o max_pairwise_sort_efficient\n",
        "!./max_pairwise_sort_efficient < stress_input_1.txt\n",
        "!./max_pairwise_sort_efficient < stress_input_2.txt\n",
        "!./max_pairwise_sort_efficient < stress_input_3.txt\n",
        "!./max_pairwise_sort_efficient < stress_input_4.txt\n",
        "!./max_pairwise_sort_efficient < stress_input_5.txt\n",
        "!./max_pairwise_sort_efficient < stress_input_6.txt\n",
        "!./max_pairwise_sort_efficient < stress_input_7.txt\n",
        "!./max_pairwise_sort_efficient < stress_input_8.txt\n",
        "!./max_pairwise_sort_efficient < stress_input_9.txt\n",
        "!./max_pairwise_sort_efficient < stress_input_10.txt\n",
        "!./max_pairwise_sort_efficient < stress_input_11.txt\n",
        "!./max_pairwise_sort_efficient < stress_input_12.txt\n",
        "!./max_pairwise_sort_efficient < stress_input_13.txt\n",
        "!./max_pairwise_sort_efficient < stress_input_14.txt\n",
        "!./max_pairwise_sort_efficient < stress_input_15.txt\n",
        "!./max_pairwise_sort_efficient < stress_input_16.txt\n",
        "!./max_pairwise_sort_efficient < stress_input_17.txt\n",
        "!./max_pairwise_sort_efficient < stress_input_18.txt\n",
        "!./max_pairwise_sort_efficient < stress_input_19.txt\n",
        "!./max_pairwise_sort_efficient < stress_input_20.txt"
      ]
    },
    {
      "cell_type": "code",
      "execution_count": 121,
      "metadata": {
        "colab": {
          "base_uri": "https://localhost:8080/"
        },
        "id": "JfxYg4ySNQa7",
        "outputId": "419d13ed-4e80-4e4b-8be2-011fc9c82b30"
      },
      "outputs": [
        {
          "output_type": "stream",
          "name": "stdout",
          "text": [
            "--- Python ---\n",
            "Product: 3816\n",
            "--- Python ---\n",
            "Product: 8544\n",
            "--- Python ---\n",
            "Product: 9900\n",
            "--- Python ---\n",
            "Product: 9500\n",
            "--- Python ---\n",
            "Product: 9021\n",
            "--- Python ---\n",
            "Product: 2849\n",
            "--- Python ---\n",
            "Product: 8835\n",
            "--- Python ---\n",
            "Product: 8184\n",
            "--- Python ---\n",
            "Product: 9600\n",
            "--- Python ---\n",
            "Product: 9216\n",
            "--- Python ---\n",
            "Product: 8366\n",
            "--- Python ---\n",
            "Product: 8188\n",
            "--- Python ---\n",
            "Product: 9900\n",
            "--- Python ---\n",
            "Product: 465\n",
            "--- Python ---\n",
            "Product: 8051\n",
            "--- Python ---\n",
            "Product: 8712\n",
            "--- Python ---\n",
            "Product: 8265\n",
            "--- Python ---\n",
            "Product: 8051\n",
            "--- Python ---\n",
            "Product: 1702\n",
            "--- Python ---\n",
            "Product: 8736\n"
          ]
        }
      ],
      "source": [
        "! python max_pairwise_sort_efficient.py < stress_input_1.txt\n",
        "! python max_pairwise_sort_efficient.py < stress_input_2.txt\n",
        "! python max_pairwise_sort_efficient.py < stress_input_3.txt\n",
        "! python max_pairwise_sort_efficient.py < stress_input_4.txt\n",
        "! python max_pairwise_sort_efficient.py < stress_input_5.txt\n",
        "! python max_pairwise_sort_efficient.py < stress_input_6.txt\n",
        "! python max_pairwise_sort_efficient.py < stress_input_7.txt\n",
        "! python max_pairwise_sort_efficient.py < stress_input_8.txt\n",
        "! python max_pairwise_sort_efficient.py < stress_input_9.txt\n",
        "! python max_pairwise_sort_efficient.py < stress_input_10.txt\n",
        "! python max_pairwise_sort_efficient.py < stress_input_11.txt\n",
        "! python max_pairwise_sort_efficient.py < stress_input_12.txt\n",
        "! python max_pairwise_sort_efficient.py < stress_input_13.txt\n",
        "! python max_pairwise_sort_efficient.py < stress_input_14.txt\n",
        "! python max_pairwise_sort_efficient.py < stress_input_15.txt\n",
        "! python max_pairwise_sort_efficient.py < stress_input_16.txt\n",
        "! python max_pairwise_sort_efficient.py < stress_input_17.txt\n",
        "! python max_pairwise_sort_efficient.py < stress_input_18.txt\n",
        "! python max_pairwise_sort_efficient.py < stress_input_19.txt\n",
        "! python max_pairwise_sort_efficient.py < stress_input_20.txt"
      ]
    },
    {
      "cell_type": "markdown",
      "metadata": {
        "id": "L8U4151JNbxk"
      },
      "source": [
        "Count executed instructions in code and verify with inputs 1,2 and 3\n"
      ]
    },
    {
      "cell_type": "code",
      "execution_count": 122,
      "metadata": {
        "colab": {
          "base_uri": "https://localhost:8080/"
        },
        "id": "dh85RM8vNhFz",
        "outputId": "e9be1196-59eb-4b1d-c0a4-42c8fafb79a6"
      },
      "outputs": [
        {
          "output_type": "stream",
          "name": "stdout",
          "text": [
            "Writing max_pairwise_sort_efficient_count.cpp\n"
          ]
        }
      ],
      "source": [
        "%%writefile max_pairwise_sort_efficient_count.cpp\n",
        "#include <iostream>\n",
        "#include <vector>\n",
        "#include <algorithm>\n",
        "#include <limits.h>\n",
        "\n",
        "using namespace std;\n",
        "\n",
        "int main() {\n",
        "    cout << \"--- C++ ---\" << \"\\n\";\n",
        "    int exexins = 0;\n",
        "    int n;                                     // 1\n",
        "    exexins++;\n",
        "    cin >> n;                                  // 1\n",
        "    exexins++;\n",
        "    int maxNumber = INT_MIN;                   // 1\n",
        "    exexins++;\n",
        "    int secondMaxNumber = INT_MIN;             // 1\n",
        "    exexins++;\n",
        "\n",
        "    vector<int> numbers(n);                    // n\n",
        "\n",
        "    exexins += n;\n",
        "\n",
        "    for (int i = 0; i < n; ++i) {              // 1 + 2n\n",
        "        cin >> numbers[i];                     // n\n",
        "        exexins++;\n",
        "    }\n",
        "\n",
        "\n",
        "    exexins++;\n",
        "    for (int i = 0; i < n; ++i) {              //1 + 2n\n",
        "        exexins += 2;\n",
        "\n",
        "        int aux = numbers[i];                           // n\n",
        "        exexins++;\n",
        "\n",
        "\n",
        "        exexins++; // if\n",
        "        exexins++; // else if\n",
        "        if (aux > maxNumber){                  // n\n",
        "          secondMaxNumber = maxNumber;         // [0, n] in the worst case it would be n times\n",
        "          exexins++;\n",
        "          maxNumber = aux;                     // [0, n] in the worst case it would be n times\n",
        "          exexins++;\n",
        "        } else if (aux > secondMaxNumber) {    // n\n",
        "          secondMaxNumber = aux;               // [0, n] in the worst case it would be n times\n",
        "          exexins++;\n",
        "        }\n",
        "\n",
        "    }\n",
        "\n",
        "    cout <<  \"Executed instructions: \" << exexins << \" n: \"<< n << \" Product: \" << maxNumber * secondMaxNumber << \"\\n\"; // 1\n",
        "    return 0;                                  // 1\n",
        "}"
      ]
    },
    {
      "cell_type": "code",
      "execution_count": 123,
      "metadata": {
        "colab": {
          "base_uri": "https://localhost:8080/"
        },
        "id": "vMf0yeHLObSB",
        "outputId": "351e0be5-9e9b-4233-fb64-6a0ba29180ef"
      },
      "outputs": [
        {
          "output_type": "stream",
          "name": "stdout",
          "text": [
            "--- C++ ---\n",
            "Executed instructions: 95 n: 10 Product: 90\n",
            "--- C++ ---\n",
            "Executed instructions: 78 n: 10 Product: 90\n",
            "--- C++ ---\n",
            "Executed instructions: 52 n: 6 Product: 6062020\n"
          ]
        }
      ],
      "source": [
        "!g++ max_pairwise_sort_efficient_count.cpp -o max_pairwise_sort_efficient_count\n",
        "!./max_pairwise_sort_efficient_count < input1.txt\n",
        "!./max_pairwise_sort_efficient_count < input2.txt\n",
        "!./max_pairwise_sort_efficient_count < input3.txt"
      ]
    },
    {
      "cell_type": "code",
      "execution_count": 124,
      "metadata": {
        "colab": {
          "base_uri": "https://localhost:8080/"
        },
        "id": "7v_YWJR6PMVv",
        "outputId": "409eb45b-6623-4e3a-d025-48a82ca94297"
      },
      "outputs": [
        {
          "output_type": "stream",
          "name": "stdout",
          "text": [
            "Writing max_pairwise_sort_efficient_count.py\n"
          ]
        }
      ],
      "source": [
        "%%writefile max_pairwise_sort_efficient_count.py\n",
        "print(\"--- Python ---\")\n",
        "exexins = 0\n",
        "n = int(input())                             # 1\n",
        "exexins += 1\n",
        "numbers = list(map(int, input().split()))    # 4n (n input read + map o(n) + create list + cast to int values)\n",
        "exexins = 4 * n\n",
        "\n",
        "max_number = float(\"-inf\")                   # 1\n",
        "exexins += 1\n",
        "second_max_number = float(\"-inf\")            # 1\n",
        "exexins += 1\n",
        "\n",
        "exexins += 1\n",
        "for num in numbers:                          # 1 + 2n\n",
        "    exexins += 2\n",
        "\n",
        "    exexins += 1 # if\n",
        "    exexins += 1 # elif\n",
        "    if num > max_number:                     # n\n",
        "        second_max_number = max_number       # [0, n] in the worst case it would be n times\n",
        "        exexins += 1\n",
        "        max_number = num                     # [0, n] in the worst case it would be n times\n",
        "        exexins += 1\n",
        "    elif num > second_max_number:            # n\n",
        "        second_max_number = num              # [0, n] in the worst case it would be n times\n",
        "        exexins += 1\n",
        "\n",
        "product = max_number * second_max_number     # 1\n",
        "exexins += 1\n",
        "print(f\"Executed instructions: {exexins} n: {n} Product: {product}\")                 # 1\n"
      ]
    },
    {
      "cell_type": "code",
      "execution_count": 125,
      "metadata": {
        "colab": {
          "base_uri": "https://localhost:8080/"
        },
        "id": "K9SQsiKaP3hO",
        "outputId": "c35eaa84-c310-42b7-d76e-77f0d8eff49b"
      },
      "outputs": [
        {
          "output_type": "stream",
          "name": "stdout",
          "text": [
            "--- Python ---\n",
            "Executed instructions: 104 n: 10 Product: 90\n",
            "--- Python ---\n",
            "Executed instructions: 87 n: 10 Product: 90\n",
            "--- Python ---\n",
            "Executed instructions: 57 n: 6 Product: 6062020\n"
          ]
        }
      ],
      "source": [
        "!python max_pairwise_sort_efficient_count.py < input1.txt\n",
        "!python max_pairwise_sort_efficient_count.py < input2.txt\n",
        "!python max_pairwise_sort_efficient_count.py < input3.txt"
      ]
    },
    {
      "cell_type": "markdown",
      "metadata": {
        "id": "K6ybgCmpNygr"
      },
      "source": [
        "Calculate estimated time by instruction and number of instructions by second"
      ]
    },
    {
      "cell_type": "code",
      "execution_count": 126,
      "metadata": {
        "colab": {
          "base_uri": "https://localhost:8080/"
        },
        "id": "kwe3G1O3Nz1w",
        "outputId": "e4fe25c6-e2b9-483a-ddd0-ec1cfd10231b"
      },
      "outputs": [
        {
          "output_type": "stream",
          "name": "stdout",
          "text": [
            "--- C++ ---\n",
            "Executed instructions: 95 n: 10 Product: 90\n",
            "CPU times: user 14.1 ms, sys: 2.8 ms, total: 16.9 ms\n",
            "Wall time: 817 ms\n"
          ]
        }
      ],
      "source": [
        "%%time\n",
        "!g++ max_pairwise_sort_efficient_count.cpp -o max_pairwise_sort_efficient_count\n",
        "!./max_pairwise_sort_efficient_count < input1.txt"
      ]
    },
    {
      "cell_type": "code",
      "execution_count": 127,
      "metadata": {
        "colab": {
          "base_uri": "https://localhost:8080/"
        },
        "id": "5_D5lKqnRH1Y",
        "outputId": "2c9c17ff-f1a6-49e6-a26f-c05fe41a93d1"
      },
      "outputs": [
        {
          "output_type": "stream",
          "name": "stdout",
          "text": [
            "--- Python ---\n",
            "Executed instructions: 104 n: 10 Product: 90\n",
            "CPU times: user 3.83 ms, sys: 3.82 ms, total: 7.66 ms\n",
            "Wall time: 107 ms\n"
          ]
        }
      ],
      "source": [
        "%%time\n",
        "!python max_pairwise_sort_efficient_count.py < input1.txt"
      ]
    },
    {
      "cell_type": "code",
      "execution_count": 128,
      "metadata": {
        "colab": {
          "base_uri": "https://localhost:8080/"
        },
        "id": "LRVfUSpGRTwd",
        "outputId": "0c14053c-642f-4e75-e2c2-a2df6f3d1b9a"
      },
      "outputs": [
        {
          "output_type": "stream",
          "name": "stdout",
          "text": [
            "Time per instruction C++: 0.0001352941176470588\n",
            "Instructions per second C++: 7391.304347826088\n",
            "Time per instruction Python: 8.134615384615385e-05\n",
            "Instructions per second Python: 12293.144208037824\n"
          ]
        }
      ],
      "source": [
        "time_per_ins = 0.0115 / 85\n",
        "instructions_per_second = 1 / time_per_ins\n",
        "print(f\"Time per instruction C++: {time_per_ins}\")\n",
        "print(f\"Instructions per second C++: {instructions_per_second}\")\n",
        "time_per_ins = 0.00846 / 104\n",
        "instructions_per_second = 1 / time_per_ins\n",
        "print(f\"Time per instruction Python: {time_per_ins}\")\n",
        "print(f\"Instructions per second Python: {instructions_per_second}\")"
      ]
    },
    {
      "cell_type": "markdown",
      "metadata": {
        "id": "sUpIWcykOGpT"
      },
      "source": [
        "### Super efficient solution IN C++ AND PYTHON (both)\n",
        "\n",
        "Whitout storing the list in memory, only stpring the largest and second largest and whitout calling a function, add in each line a coment with the number of instructions that are executed in that line\n",
        "\n",
        "in C++ and Python\n",
        " $$2 n = O(n)$$"
      ]
    },
    {
      "cell_type": "code",
      "execution_count": 129,
      "metadata": {
        "colab": {
          "base_uri": "https://localhost:8080/"
        },
        "id": "hBLt_xBQLy8E",
        "outputId": "370c677e-e650-44ef-b958-435c969c981e"
      },
      "outputs": [
        {
          "output_type": "stream",
          "name": "stdout",
          "text": [
            "Writing max_pairwise_sort_super_efficient.cpp\n"
          ]
        }
      ],
      "source": [
        "%%writefile max_pairwise_sort_super_efficient.cpp\n",
        "#include <iostream>\n",
        "#include <vector>\n",
        "#include <algorithm>\n",
        "#include <limits.h>\n",
        "\n",
        "using namespace std;\n",
        "\n",
        "int main() {\n",
        "    cout << \"--- C++ ---\" << \"\\n\";\n",
        "    int n;                                     // 1\n",
        "    cin >> n;                                  // 1\n",
        "    int maxNumber = INT_MIN;                   // 1\n",
        "    int secondMaxNumber = INT_MIN;             // 1\n",
        "\n",
        "\n",
        "    for (int i = 0; i < n; ++i) {              //1 + 2n\n",
        "        int aux = 0;                           // n\n",
        "        cin >> aux;                            // n\n",
        "\n",
        "        if (aux > maxNumber){                  // n\n",
        "          secondMaxNumber = maxNumber;         // [0, n] in the worst case it would be n times\n",
        "          maxNumber = aux;                     // [0, n] in the worst case it would be n times\n",
        "\n",
        "        } else if (aux > secondMaxNumber) {    // n\n",
        "          secondMaxNumber = aux;               // [0, n] in the worst case it would be n times\n",
        "        }\n",
        "\n",
        "    }\n",
        "\n",
        "    cout <<  \"Product: \" << maxNumber * secondMaxNumber << \"\\n\"; // 1\n",
        "    return 0;                                  // 1\n",
        "}"
      ]
    },
    {
      "cell_type": "code",
      "execution_count": 130,
      "metadata": {
        "colab": {
          "base_uri": "https://localhost:8080/"
        },
        "id": "rUxTKUJwSl0a",
        "outputId": "d0b13f28-fb97-43d8-d72f-71c8eada4cd1"
      },
      "outputs": [
        {
          "metadata": {
            "tags": null
          },
          "name": "stdout",
          "output_type": "stream",
          "text": [
            "Writing max_pairwise_sort_super_efficient.py\n"
          ]
        }
      ],
      "source": [
        "%%writefile max_pairwise_sort_super_efficient.py\n",
        "print(\"--- Python ---\")\n",
        "n = int(input())                            # 1\n",
        "max_number = float(\"-inf\")                  # 1\n",
        "second_max_number = float(\"-inf\")           # 1\n",
        "\n",
        "for num in input().split():                 # 3 + 2n\n",
        "\n",
        "    num = int(num)                          # n\n",
        "\n",
        "    if num > max_number:                    # n\n",
        "        second_max_number = max_number      # [0, n] in the worst case it would be n times\n",
        "        max_number = num                    # [0, n] in the worst case it would be n times\n",
        "    elif num > second_max_number:           # n\n",
        "        second_max_number = num             # [0, n] in the worst case it would be n times\n",
        "\n",
        "print(f\"Product: {max_number * second_max_number}\")"
      ]
    },
    {
      "cell_type": "markdown",
      "metadata": {
        "id": "683gc3roHqzb"
      },
      "source": [
        "Test with inputs 1 and 2\n",
        "\n",
        "\n"
      ]
    },
    {
      "cell_type": "code",
      "execution_count": 131,
      "metadata": {
        "colab": {
          "base_uri": "https://localhost:8080/"
        },
        "id": "b7d4LA8OIc2_",
        "outputId": "57221e43-23f9-415c-f95e-f78386dea3d8"
      },
      "outputs": [
        {
          "output_type": "stream",
          "name": "stdout",
          "text": [
            "--- C++ ---\n",
            "Product: 90\n",
            "--- C++ ---\n",
            "Product: 90\n",
            "--- Python ---\n",
            "Product: 90\n",
            "--- Python ---\n",
            "Product: 90\n"
          ]
        }
      ],
      "source": [
        "!g++ max_pairwise_sort_super_efficient.cpp -o max_pairwise_sort_super_efficient\n",
        "!./max_pairwise_sort_super_efficient < input1.txt\n",
        "!./max_pairwise_sort_super_efficient < input2.txt\n",
        "!python max_pairwise_sort_super_efficient.py < input1.txt\n",
        "!python max_pairwise_sort_super_efficient.py < input2.txt"
      ]
    },
    {
      "cell_type": "markdown",
      "metadata": {
        "id": "36Ugn1odIeJz"
      },
      "source": [
        "Test and time it with input 3"
      ]
    },
    {
      "cell_type": "code",
      "execution_count": 132,
      "metadata": {
        "colab": {
          "base_uri": "https://localhost:8080/"
        },
        "id": "jDyMbCnxHqSN",
        "outputId": "d1758003-4d99-43bc-b64c-4051e4fea615"
      },
      "outputs": [
        {
          "output_type": "stream",
          "name": "stdout",
          "text": [
            "--- C++ ---\n",
            "Product: 6062020\n",
            "--- Python ---\n",
            "Product: 6062020\n"
          ]
        }
      ],
      "source": [
        "!g++ max_pairwise_sort_super_efficient.cpp -o max_pairwise_sort_super_efficient\n",
        "!./max_pairwise_sort_super_efficient < input3.txt\n",
        "!python max_pairwise_sort_super_efficient.py < input3.txt"
      ]
    },
    {
      "cell_type": "markdown",
      "metadata": {
        "id": "bhqiKQG6fjKM"
      },
      "source": [
        "20 stress tests"
      ]
    },
    {
      "cell_type": "code",
      "execution_count": 133,
      "metadata": {
        "id": "2KsiXKhALzwm"
      },
      "outputs": [],
      "source": [
        "#CREATE 20 random texts\n",
        "import random\n",
        "\n",
        "for i in range(1,21):\n",
        "    fileName = f\"stress_input_{i}.txt\"\n",
        "\n",
        "    with open(fileName, \"w\") as file:\n",
        "      n = random.randint(3, 40)\n",
        "      file.write(f\"{n}\"+ \"\\n\")\n",
        "      for i in range(1,n):\n",
        "          file.write(str(random.randint(1, 100)) + \" \")"
      ]
    },
    {
      "cell_type": "code",
      "execution_count": 134,
      "metadata": {
        "colab": {
          "base_uri": "https://localhost:8080/"
        },
        "id": "cg1qOdBFay3S",
        "outputId": "54a523bb-5dce-4327-cac6-c3c5aab4664a"
      },
      "outputs": [
        {
          "output_type": "stream",
          "name": "stdout",
          "text": [
            "--- C++ ---\n",
            "Product: 1020\n",
            "--- C++ ---\n",
            "Product: 7225\n",
            "--- C++ ---\n",
            "Product: 8900\n",
            "--- C++ ---\n",
            "Product: 9800\n",
            "--- C++ ---\n",
            "Product: 8036\n",
            "--- C++ ---\n",
            "Product: 9700\n",
            "--- C++ ---\n",
            "Product: 9108\n",
            "--- C++ ---\n",
            "Product: 9800\n",
            "--- C++ ---\n",
            "Product: 9215\n",
            "--- C++ ---\n",
            "Product: 8836\n",
            "--- C++ ---\n",
            "Product: 9800\n",
            "--- C++ ---\n",
            "Product: 9312\n",
            "--- C++ ---\n",
            "Product: 9408\n",
            "--- C++ ---\n",
            "Product: 9310\n",
            "--- C++ ---\n",
            "Product: 2340\n",
            "--- C++ ---\n",
            "Product: 8924\n",
            "--- C++ ---\n",
            "Product: 8500\n",
            "--- C++ ---\n",
            "Product: 9405\n",
            "--- C++ ---\n",
            "Product: 8742\n",
            "--- C++ ---\n",
            "Product: 9024\n"
          ]
        }
      ],
      "source": [
        "!g++ max_pairwise_sort_super_efficient.cpp -o max_pairwise_sort_super_efficient\n",
        "!./max_pairwise_sort_super_efficient < stress_input_1.txt\n",
        "!./max_pairwise_sort_super_efficient < stress_input_2.txt\n",
        "!./max_pairwise_sort_super_efficient < stress_input_3.txt\n",
        "!./max_pairwise_sort_super_efficient < stress_input_4.txt\n",
        "!./max_pairwise_sort_super_efficient < stress_input_5.txt\n",
        "!./max_pairwise_sort_super_efficient < stress_input_6.txt\n",
        "!./max_pairwise_sort_super_efficient < stress_input_7.txt\n",
        "!./max_pairwise_sort_super_efficient < stress_input_8.txt\n",
        "!./max_pairwise_sort_super_efficient < stress_input_9.txt\n",
        "!./max_pairwise_sort_super_efficient < stress_input_10.txt\n",
        "!./max_pairwise_sort_super_efficient < stress_input_11.txt\n",
        "!./max_pairwise_sort_super_efficient < stress_input_12.txt\n",
        "!./max_pairwise_sort_super_efficient < stress_input_13.txt\n",
        "!./max_pairwise_sort_super_efficient < stress_input_14.txt\n",
        "!./max_pairwise_sort_super_efficient < stress_input_15.txt\n",
        "!./max_pairwise_sort_super_efficient < stress_input_16.txt\n",
        "!./max_pairwise_sort_super_efficient < stress_input_17.txt\n",
        "!./max_pairwise_sort_super_efficient < stress_input_18.txt\n",
        "!./max_pairwise_sort_super_efficient < stress_input_19.txt\n",
        "!./max_pairwise_sort_super_efficient < stress_input_20.txt"
      ]
    },
    {
      "cell_type": "code",
      "execution_count": 135,
      "metadata": {
        "colab": {
          "base_uri": "https://localhost:8080/"
        },
        "id": "LR5JDCq8bBhz",
        "outputId": "1ef47cdb-e7a0-4ccd-a19e-4c266bb7bedd"
      },
      "outputs": [
        {
          "output_type": "stream",
          "name": "stdout",
          "text": [
            "--- Python ---\n",
            "Product: 1020\n",
            "--- Python ---\n",
            "Product: 7225\n",
            "--- Python ---\n",
            "Product: 8900\n",
            "--- Python ---\n",
            "Product: 9800\n",
            "--- Python ---\n",
            "Product: 8036\n",
            "--- Python ---\n",
            "Product: 9700\n",
            "--- Python ---\n",
            "Product: 9108\n",
            "--- Python ---\n",
            "Product: 9800\n",
            "--- Python ---\n",
            "Product: 9215\n",
            "--- Python ---\n",
            "Product: 8836\n",
            "--- Python ---\n",
            "Product: 9800\n",
            "--- Python ---\n",
            "Product: 9312\n",
            "--- Python ---\n",
            "Product: 9408\n",
            "--- Python ---\n",
            "Product: 9310\n",
            "--- Python ---\n",
            "Product: 2340\n",
            "--- Python ---\n",
            "Product: 8924\n",
            "--- Python ---\n",
            "Product: 8500\n",
            "--- Python ---\n",
            "Product: 9405\n",
            "--- Python ---\n",
            "Product: 8742\n",
            "--- Python ---\n",
            "Product: 9024\n"
          ]
        }
      ],
      "source": [
        "!python max_pairwise_sort_super_efficient.py < stress_input_1.txt\n",
        "!python max_pairwise_sort_super_efficient.py < stress_input_2.txt\n",
        "!python max_pairwise_sort_super_efficient.py < stress_input_3.txt\n",
        "!python max_pairwise_sort_super_efficient.py < stress_input_4.txt\n",
        "!python max_pairwise_sort_super_efficient.py < stress_input_5.txt\n",
        "!python max_pairwise_sort_super_efficient.py < stress_input_6.txt\n",
        "!python max_pairwise_sort_super_efficient.py < stress_input_7.txt\n",
        "!python max_pairwise_sort_super_efficient.py < stress_input_8.txt\n",
        "!python max_pairwise_sort_super_efficient.py < stress_input_9.txt\n",
        "!python max_pairwise_sort_super_efficient.py < stress_input_10.txt\n",
        "!python max_pairwise_sort_super_efficient.py < stress_input_11.txt\n",
        "!python max_pairwise_sort_super_efficient.py < stress_input_12.txt\n",
        "!python max_pairwise_sort_super_efficient.py < stress_input_13.txt\n",
        "!python max_pairwise_sort_super_efficient.py < stress_input_14.txt\n",
        "!python max_pairwise_sort_super_efficient.py < stress_input_15.txt\n",
        "!python max_pairwise_sort_super_efficient.py < stress_input_16.txt\n",
        "!python max_pairwise_sort_super_efficient.py < stress_input_17.txt\n",
        "!python max_pairwise_sort_super_efficient.py < stress_input_18.txt\n",
        "!python max_pairwise_sort_super_efficient.py < stress_input_19.txt\n",
        "!python max_pairwise_sort_super_efficient.py < stress_input_20.txt"
      ]
    },
    {
      "cell_type": "markdown",
      "metadata": {
        "id": "fEXj8GHJH5p1"
      },
      "source": [
        "Count executed instructions in code and verify with inputs 1,2 and 3"
      ]
    },
    {
      "cell_type": "code",
      "execution_count": 136,
      "metadata": {
        "colab": {
          "base_uri": "https://localhost:8080/"
        },
        "id": "LF1DHjKXIAsF",
        "outputId": "672e2edd-3526-44fe-c29b-d7ec9ff9de79"
      },
      "outputs": [
        {
          "output_type": "stream",
          "name": "stdout",
          "text": [
            "Writing max_pairwise_sort_super_efficient_count.cpp\n"
          ]
        }
      ],
      "source": [
        "%%writefile max_pairwise_sort_super_efficient_count.cpp\n",
        "#include <iostream>\n",
        "#include <vector>\n",
        "#include <algorithm>\n",
        "#include <limits.h>\n",
        "\n",
        "using namespace std;\n",
        "\n",
        "int main() {\n",
        "    cout << \"--- C++ ---\" << \"\\n\";\n",
        "    int exexins = 0;\n",
        "    int n;                                     // 1\n",
        "    exexins++;\n",
        "    cin >> n;                                  // 1\n",
        "    exexins++;\n",
        "    int maxNumber = INT_MIN;                   // 1\n",
        "    exexins++;\n",
        "    int secondMaxNumber = INT_MIN;             // 1\n",
        "    exexins++;\n",
        "\n",
        "\n",
        "    exexins++;\n",
        "    for (int i = 0; i < n; ++i) {              //1 + 2n\n",
        "        exexins += 2;\n",
        "        int aux = 0;                           // n\n",
        "        exexins++;\n",
        "\n",
        "        cin>> aux;                            // n\n",
        "        exexins++;\n",
        "\n",
        "\n",
        "        exexins++; // if\n",
        "        exexins++; // else if\n",
        "        if (aux > maxNumber){                  // n\n",
        "          secondMaxNumber = maxNumber;         // [0, n] in the worst case it would be n times\n",
        "          exexins++;\n",
        "          maxNumber = aux;                     // [0, n] in the worst case it would be n times\n",
        "          exexins++;\n",
        "        } else if (aux > secondMaxNumber) {    // n\n",
        "          secondMaxNumber = aux;               // [0, n] in the worst case it would be n times\n",
        "          exexins++;\n",
        "        }\n",
        "\n",
        "    }\n",
        "\n",
        "    cout <<  \"Executed instructions: \" << exexins << \" n: \"<< n << \" Product: \" << maxNumber * secondMaxNumber << \"\\n\"; // 1\n",
        "    return 0;                                  // 1\n",
        "}"
      ]
    },
    {
      "cell_type": "code",
      "execution_count": 137,
      "metadata": {
        "colab": {
          "base_uri": "https://localhost:8080/"
        },
        "id": "Hv_HouQYb9UX",
        "outputId": "da134c81-2b1e-4923-9c7a-885cab77f1b6"
      },
      "outputs": [
        {
          "output_type": "stream",
          "name": "stdout",
          "text": [
            "Writing max_pairwise_sort_super_efficient_count.py\n"
          ]
        }
      ],
      "source": [
        "%%writefile max_pairwise_sort_super_efficient_count.py\n",
        "print(\"--- Python ---\")\n",
        "exexins = 0\n",
        "n = int(input())                            # 1\n",
        "exexins += 1\n",
        "max_number = float(\"-inf\")                  # 1\n",
        "exexins += 1\n",
        "second_max_number = float(\"-inf\")           # 1\n",
        "exexins += 1\n",
        "\n",
        "exexins += 3\n",
        "for num in input().split():                 # 3 + 2n\n",
        "    exexins += 2\n",
        "    num = int(num)                          # n\n",
        "    exexins += 1\n",
        "\n",
        "    exexins += 1 # if\n",
        "    exexins += 1 # elif\n",
        "    if num > max_number:                    # n\n",
        "        second_max_number = max_number      # [0, n] in the worst case it would be n times\n",
        "        exexins += 1\n",
        "        max_number = num                    # [0, n] in the worst case it would be n times\n",
        "        exexins += 1\n",
        "    elif num > second_max_number:           # n\n",
        "        second_max_number = num             # [0, n] in the worst case it would be n times\n",
        "        exexins += 1\n",
        "\n",
        "print(f\"Executed instructions: {exexins} n: {n} Product: {max_number * second_max_number}\")"
      ]
    },
    {
      "cell_type": "code",
      "execution_count": 138,
      "metadata": {
        "colab": {
          "base_uri": "https://localhost:8080/"
        },
        "id": "AAFsPmeebdXl",
        "outputId": "546f7300-5475-4f73-f2a2-71a7773e8b22"
      },
      "outputs": [
        {
          "output_type": "stream",
          "name": "stdout",
          "text": [
            "--- C++ ---\n",
            "Executed instructions: 85 n: 10 Product: 90\n",
            "--- C++ ---\n",
            "Executed instructions: 68 n: 10 Product: 90\n",
            "--- C++ ---\n",
            "Executed instructions: 46 n: 6 Product: 6062020\n",
            "--- Python ---\n",
            "Executed instructions: 76 n: 10 Product: 90\n",
            "--- Python ---\n",
            "Executed instructions: 59 n: 10 Product: 90\n",
            "--- Python ---\n",
            "Executed instructions: 41 n: 6 Product: 6062020\n"
          ]
        }
      ],
      "source": [
        "!g++ max_pairwise_sort_super_efficient_count.cpp -o max_pairwise_sort_super_efficient_count\n",
        "!./max_pairwise_sort_super_efficient_count < input1.txt\n",
        "!./max_pairwise_sort_super_efficient_count < input2.txt\n",
        "!./max_pairwise_sort_super_efficient_count < input3.txt\n",
        "!python max_pairwise_sort_super_efficient_count.py < input1.txt\n",
        "!python max_pairwise_sort_super_efficient_count.py < input2.txt\n",
        "!python max_pairwise_sort_super_efficient_count.py < input3.txt"
      ]
    },
    {
      "cell_type": "markdown",
      "metadata": {
        "id": "yae7sSm2IG9U"
      },
      "source": [
        "Calculate estimated time by instruction and number of instructions by second"
      ]
    },
    {
      "cell_type": "code",
      "execution_count": 139,
      "metadata": {
        "colab": {
          "base_uri": "https://localhost:8080/"
        },
        "id": "rm1wP6dBdrj2",
        "outputId": "4eeda7f5-567c-48fd-b1ae-aaf9e48177b9"
      },
      "outputs": [
        {
          "output_type": "stream",
          "name": "stdout",
          "text": [
            "--- C++ ---\n",
            "Executed instructions: 85 n: 10 Product: 90\n",
            "CPU times: user 11.8 ms, sys: 3.33 ms, total: 15.2 ms\n",
            "Wall time: 815 ms\n"
          ]
        }
      ],
      "source": [
        "%%time\n",
        "!g++ max_pairwise_sort_super_efficient_count.cpp -o max_pairwise_sort_super_efficient_count\n",
        "!./max_pairwise_sort_super_efficient_count < input1.txt"
      ]
    },
    {
      "cell_type": "code",
      "execution_count": 140,
      "metadata": {
        "colab": {
          "base_uri": "https://localhost:8080/"
        },
        "id": "1lVeXQEZdrj3",
        "outputId": "9e73988e-eac0-4f18-faf3-96120e5358f1"
      },
      "outputs": [
        {
          "output_type": "stream",
          "name": "stdout",
          "text": [
            "--- Python ---\n",
            "Executed instructions: 76 n: 10 Product: 90\n",
            "CPU times: user 8.96 ms, sys: 0 ns, total: 8.96 ms\n",
            "Wall time: 106 ms\n"
          ]
        }
      ],
      "source": [
        "%%time\n",
        "!python max_pairwise_sort_super_efficient_count.py < input1.txt"
      ]
    },
    {
      "cell_type": "code",
      "execution_count": 141,
      "metadata": {
        "colab": {
          "base_uri": "https://localhost:8080/"
        },
        "id": "RoHTkLytdrj4",
        "outputId": "5b21a2c3-7abb-4920-8b5d-1272834bac7f"
      },
      "outputs": [
        {
          "output_type": "stream",
          "name": "stdout",
          "text": [
            "Time per instruction C++: 0.00012941176470588234\n",
            "Instructions per second C++: 7727.272727272728\n",
            "Time per instruction Python: 4.7499999999999996e-05\n",
            "Instructions per second Python: 21052.63157894737\n"
          ]
        }
      ],
      "source": [
        "time_per_ins = 0.011 / 85\n",
        "instructions_per_second = 1 / time_per_ins\n",
        "print(f\"Time per instruction C++: {time_per_ins}\")\n",
        "print(f\"Instructions per second C++: {instructions_per_second}\")\n",
        "time_per_ins = 0.00361 / 76\n",
        "instructions_per_second = 1 / time_per_ins\n",
        "print(f\"Time per instruction Python: {time_per_ins}\")\n",
        "print(f\"Instructions per second Python: {instructions_per_second}\")"
      ]
    },
    {
      "cell_type": "markdown",
      "metadata": {
        "id": "4w9y2O25zGNx"
      },
      "source": [
        "# Perform 100 randomized automated tests in C++ and Python between the super efficient solution  (𝑇(𝑛)<10𝑛=𝑂(𝑛))  against the sorting solution  (𝑇(𝑛)=𝑂(𝑛𝑙𝑛𝑔)) ."
      ]
    },
    {
      "cell_type": "code",
      "execution_count": 142,
      "metadata": {
        "id": "uZ0Cz5x4zJlY"
      },
      "outputs": [],
      "source": [
        "#CREATE 100 random texts\n",
        "import random\n",
        "\n",
        "for i in range(1,101):\n",
        "    fileName = f\"stress_input_{i}.txt\"\n",
        "\n",
        "    with open(fileName, \"w\") as file:\n",
        "      n = random.randint(3, 40)\n",
        "      file.write(f\"{n}\"+ \"\\n\")\n",
        "      for i in range(1,n):\n",
        "          file.write(str(random.randint(1, 100)) + \" \")"
      ]
    },
    {
      "cell_type": "markdown",
      "metadata": {
        "id": "m2Hi5NPyzhRx"
      },
      "source": [
        "# C++"
      ]
    },
    {
      "cell_type": "markdown",
      "metadata": {
        "id": "Xb9dPeDFz5IG"
      },
      "source": [
        "## Super efficient solution (𝑇(𝑛)<10𝑛=𝑂(𝑛))"
      ]
    },
    {
      "cell_type": "code",
      "execution_count": 143,
      "metadata": {
        "colab": {
          "base_uri": "https://localhost:8080/"
        },
        "id": "u7_Zd0yjzJON",
        "outputId": "a9045ff9-4f14-4a93-9c12-d05f5eaac23b"
      },
      "outputs": [
        {
          "metadata": {
            "tags": null
          },
          "name": "stdout",
          "output_type": "stream",
          "text": [
            "Overwriting max_pairwise_sort_super_efficient.cpp\n"
          ]
        }
      ],
      "source": [
        "%%writefile max_pairwise_sort_super_efficient.cpp\n",
        "#include <iostream>\n",
        "#include <vector>\n",
        "#include <algorithm>\n",
        "#include <limits.h>\n",
        "\n",
        "using namespace std;\n",
        "\n",
        "int main() {\n",
        "    int n;                                     // 1\n",
        "    cin >> n;                                  // 1\n",
        "    int maxNumber = INT_MIN;                   // 1\n",
        "    int secondMaxNumber = INT_MIN;             // 1\n",
        "\n",
        "\n",
        "    for (int i = 0; i < n; ++i) {              //1 + 2n\n",
        "        int aux = 0;                           // n\n",
        "        cin >> aux;                            // n\n",
        "\n",
        "        if (aux > maxNumber){                  // n\n",
        "          secondMaxNumber = maxNumber;         // [0, n] in the worst case it would be n times\n",
        "          maxNumber = aux;                     // [0, n] in the worst case it would be n times\n",
        "\n",
        "        } else if (aux > secondMaxNumber) {    // n\n",
        "          secondMaxNumber = aux;               // [0, n] in the worst case it would be n times\n",
        "        }\n",
        "\n",
        "    }\n",
        "\n",
        "    cout <<  \"n: \" << n << \" Product: \" << maxNumber * secondMaxNumber << \"\\n\"; // 1\n",
        "    return 0;                                  // 1\n",
        "}"
      ]
    },
    {
      "cell_type": "code",
      "execution_count": 144,
      "metadata": {
        "colab": {
          "base_uri": "https://localhost:8080/"
        },
        "id": "dNefwBtmz4mH",
        "outputId": "e0a69512-aa17-41f5-f005-90348ce148eb"
      },
      "outputs": [
        {
          "output_type": "stream",
          "name": "stdout",
          "text": [
            "n: 16 Product: 9025\n",
            "n: 38 Product: 9024\n",
            "n: 10 Product: 7728\n",
            "n: 40 Product: 9300\n",
            "n: 18 Product: 8366\n",
            "n: 27 Product: 7920\n",
            "n: 5 Product: 5160\n",
            "n: 32 Product: 9312\n",
            "n: 39 Product: 8835\n",
            "n: 21 Product: 8740\n",
            "n: 12 Product: 9215\n",
            "n: 4 Product: 7990\n",
            "n: 25 Product: 9800\n",
            "n: 16 Product: 8190\n",
            "n: 33 Product: 9409\n",
            "n: 28 Product: 9504\n",
            "n: 40 Product: 9603\n",
            "n: 21 Product: 7031\n",
            "n: 29 Product: 8099\n",
            "n: 13 Product: 8051\n",
            "n: 20 Product: 5508\n",
            "n: 4 Product: 735\n",
            "n: 22 Product: 9801\n",
            "n: 29 Product: 9900\n",
            "n: 36 Product: 9603\n",
            "n: 4 Product: 1566\n",
            "n: 36 Product: 9408\n",
            "n: 25 Product: 9306\n",
            "n: 32 Product: 8918\n",
            "n: 9 Product: 7857\n",
            "n: 17 Product: 8556\n",
            "n: 34 Product: 10000\n",
            "n: 19 Product: 7921\n",
            "n: 3 Product: 2508\n",
            "n: 29 Product: 8184\n",
            "n: 8 Product: 8245\n",
            "n: 14 Product: 8148\n",
            "n: 17 Product: 7743\n",
            "n: 10 Product: 8463\n",
            "n: 12 Product: 7568\n",
            "n: 10 Product: 4050\n",
            "n: 38 Product: 9408\n",
            "n: 12 Product: 6016\n",
            "n: 13 Product: 8272\n",
            "n: 8 Product: 7920\n",
            "n: 28 Product: 8930\n",
            "n: 32 Product: 9603\n",
            "n: 26 Product: 8256\n",
            "n: 30 Product: 8134\n",
            "n: 9 Product: 5832\n",
            "n: 13 Product: 7347\n",
            "n: 7 Product: 8526\n",
            "n: 24 Product: 8924\n",
            "n: 24 Product: 9800\n",
            "n: 36 Product: 9016\n",
            "n: 37 Product: 9506\n",
            "n: 36 Product: 9600\n",
            "n: 34 Product: 8280\n",
            "n: 37 Product: 8930\n",
            "n: 21 Product: 8554\n",
            "n: 22 Product: 8178\n",
            "n: 32 Product: 9100\n",
            "n: 39 Product: 8930\n",
            "n: 8 Product: 2016\n",
            "n: 34 Product: 9016\n",
            "n: 11 Product: 8010\n",
            "n: 6 Product: 6900\n",
            "n: 37 Product: 9312\n",
            "n: 39 Product: 9506\n",
            "n: 8 Product: 7056\n",
            "n: 32 Product: 6006\n",
            "n: 36 Product: 9300\n",
            "n: 32 Product: 9800\n",
            "n: 29 Product: 10000\n",
            "n: 7 Product: 9900\n",
            "n: 30 Product: 9215\n",
            "n: 35 Product: 9800\n",
            "n: 17 Product: 9114\n",
            "n: 12 Product: 6603\n",
            "n: 22 Product: 9900\n",
            "n: 32 Product: 9408\n",
            "n: 39 Product: 9504\n",
            "n: 33 Product: 9900\n",
            "n: 16 Product: 7565\n",
            "n: 37 Product: 9900\n",
            "n: 19 Product: 6216\n",
            "n: 25 Product: 8004\n",
            "n: 15 Product: 7560\n",
            "n: 30 Product: 9212\n",
            "n: 20 Product: 9312\n",
            "n: 32 Product: 9108\n",
            "n: 18 Product: 7469\n",
            "n: 21 Product: 8928\n",
            "n: 25 Product: 9016\n",
            "n: 14 Product: 6314\n",
            "n: 39 Product: 9702\n",
            "n: 38 Product: 9408\n",
            "n: 32 Product: 9603\n",
            "n: 31 Product: 9108\n",
            "n: 36 Product: 9900\n",
            "CPU times: user 551 ms, sys: 97.9 ms, total: 649 ms\n",
            "Wall time: 11.2 s\n"
          ]
        }
      ],
      "source": [
        "%%time\n",
        "!g++ max_pairwise_sort_super_efficient.cpp -o max_pairwise_sort_super_efficient\n",
        "!./max_pairwise_sort_super_efficient < stress_input_1.txt\n",
        "!./max_pairwise_sort_super_efficient < stress_input_2.txt\n",
        "!./max_pairwise_sort_super_efficient < stress_input_3.txt\n",
        "!./max_pairwise_sort_super_efficient < stress_input_4.txt\n",
        "!./max_pairwise_sort_super_efficient < stress_input_5.txt\n",
        "!./max_pairwise_sort_super_efficient < stress_input_6.txt\n",
        "!./max_pairwise_sort_super_efficient < stress_input_7.txt\n",
        "!./max_pairwise_sort_super_efficient < stress_input_8.txt\n",
        "!./max_pairwise_sort_super_efficient < stress_input_9.txt\n",
        "!./max_pairwise_sort_super_efficient < stress_input_10.txt\n",
        "\n",
        "!./max_pairwise_sort_super_efficient < stress_input_11.txt\n",
        "!./max_pairwise_sort_super_efficient < stress_input_12.txt\n",
        "!./max_pairwise_sort_super_efficient < stress_input_13.txt\n",
        "!./max_pairwise_sort_super_efficient < stress_input_14.txt\n",
        "!./max_pairwise_sort_super_efficient < stress_input_15.txt\n",
        "!./max_pairwise_sort_super_efficient < stress_input_16.txt\n",
        "!./max_pairwise_sort_super_efficient < stress_input_17.txt\n",
        "!./max_pairwise_sort_super_efficient < stress_input_18.txt\n",
        "!./max_pairwise_sort_super_efficient < stress_input_19.txt\n",
        "!./max_pairwise_sort_super_efficient < stress_input_20.txt\n",
        "\n",
        "!./max_pairwise_sort_super_efficient < stress_input_21.txt\n",
        "!./max_pairwise_sort_super_efficient < stress_input_22.txt\n",
        "!./max_pairwise_sort_super_efficient < stress_input_23.txt\n",
        "!./max_pairwise_sort_super_efficient < stress_input_24.txt\n",
        "!./max_pairwise_sort_super_efficient < stress_input_25.txt\n",
        "!./max_pairwise_sort_super_efficient < stress_input_26.txt\n",
        "!./max_pairwise_sort_super_efficient < stress_input_27.txt\n",
        "!./max_pairwise_sort_super_efficient < stress_input_28.txt\n",
        "!./max_pairwise_sort_super_efficient < stress_input_29.txt\n",
        "!./max_pairwise_sort_super_efficient < stress_input_30.txt\n",
        "\n",
        "!./max_pairwise_sort_super_efficient < stress_input_31.txt\n",
        "!./max_pairwise_sort_super_efficient < stress_input_32.txt\n",
        "!./max_pairwise_sort_super_efficient < stress_input_33.txt\n",
        "!./max_pairwise_sort_super_efficient < stress_input_34.txt\n",
        "!./max_pairwise_sort_super_efficient < stress_input_35.txt\n",
        "!./max_pairwise_sort_super_efficient < stress_input_36.txt\n",
        "!./max_pairwise_sort_super_efficient < stress_input_37.txt\n",
        "!./max_pairwise_sort_super_efficient < stress_input_38.txt\n",
        "!./max_pairwise_sort_super_efficient < stress_input_39.txt\n",
        "!./max_pairwise_sort_super_efficient < stress_input_40.txt\n",
        "\n",
        "!./max_pairwise_sort_super_efficient < stress_input_41.txt\n",
        "!./max_pairwise_sort_super_efficient < stress_input_42.txt\n",
        "!./max_pairwise_sort_super_efficient < stress_input_43.txt\n",
        "!./max_pairwise_sort_super_efficient < stress_input_44.txt\n",
        "!./max_pairwise_sort_super_efficient < stress_input_45.txt\n",
        "!./max_pairwise_sort_super_efficient < stress_input_46.txt\n",
        "!./max_pairwise_sort_super_efficient < stress_input_47.txt\n",
        "!./max_pairwise_sort_super_efficient < stress_input_48.txt\n",
        "!./max_pairwise_sort_super_efficient < stress_input_49.txt\n",
        "!./max_pairwise_sort_super_efficient < stress_input_50.txt\n",
        "\n",
        "!./max_pairwise_sort_super_efficient < stress_input_51.txt\n",
        "!./max_pairwise_sort_super_efficient < stress_input_52.txt\n",
        "!./max_pairwise_sort_super_efficient < stress_input_53.txt\n",
        "!./max_pairwise_sort_super_efficient < stress_input_54.txt\n",
        "!./max_pairwise_sort_super_efficient < stress_input_55.txt\n",
        "!./max_pairwise_sort_super_efficient < stress_input_56.txt\n",
        "!./max_pairwise_sort_super_efficient < stress_input_57.txt\n",
        "!./max_pairwise_sort_super_efficient < stress_input_58.txt\n",
        "!./max_pairwise_sort_super_efficient < stress_input_59.txt\n",
        "!./max_pairwise_sort_super_efficient < stress_input_60.txt\n",
        "\n",
        "!./max_pairwise_sort_super_efficient < stress_input_61.txt\n",
        "!./max_pairwise_sort_super_efficient < stress_input_62.txt\n",
        "!./max_pairwise_sort_super_efficient < stress_input_63.txt\n",
        "!./max_pairwise_sort_super_efficient < stress_input_64.txt\n",
        "!./max_pairwise_sort_super_efficient < stress_input_65.txt\n",
        "!./max_pairwise_sort_super_efficient < stress_input_66.txt\n",
        "!./max_pairwise_sort_super_efficient < stress_input_67.txt\n",
        "!./max_pairwise_sort_super_efficient < stress_input_68.txt\n",
        "!./max_pairwise_sort_super_efficient < stress_input_69.txt\n",
        "!./max_pairwise_sort_super_efficient < stress_input_70.txt\n",
        "\n",
        "!./max_pairwise_sort_super_efficient < stress_input_71.txt\n",
        "!./max_pairwise_sort_super_efficient < stress_input_72.txt\n",
        "!./max_pairwise_sort_super_efficient < stress_input_73.txt\n",
        "!./max_pairwise_sort_super_efficient < stress_input_74.txt\n",
        "!./max_pairwise_sort_super_efficient < stress_input_75.txt\n",
        "!./max_pairwise_sort_super_efficient < stress_input_76.txt\n",
        "!./max_pairwise_sort_super_efficient < stress_input_77.txt\n",
        "!./max_pairwise_sort_super_efficient < stress_input_78.txt\n",
        "!./max_pairwise_sort_super_efficient < stress_input_79.txt\n",
        "!./max_pairwise_sort_super_efficient < stress_input_80.txt\n",
        "\n",
        "!./max_pairwise_sort_super_efficient < stress_input_81.txt\n",
        "!./max_pairwise_sort_super_efficient < stress_input_82.txt\n",
        "!./max_pairwise_sort_super_efficient < stress_input_83.txt\n",
        "!./max_pairwise_sort_super_efficient < stress_input_84.txt\n",
        "!./max_pairwise_sort_super_efficient < stress_input_85.txt\n",
        "!./max_pairwise_sort_super_efficient < stress_input_86.txt\n",
        "!./max_pairwise_sort_super_efficient < stress_input_87.txt\n",
        "!./max_pairwise_sort_super_efficient < stress_input_88.txt\n",
        "!./max_pairwise_sort_super_efficient < stress_input_89.txt\n",
        "!./max_pairwise_sort_super_efficient < stress_input_90.txt\n",
        "\n",
        "!./max_pairwise_sort_super_efficient < stress_input_91.txt\n",
        "!./max_pairwise_sort_super_efficient < stress_input_92.txt\n",
        "!./max_pairwise_sort_super_efficient < stress_input_93.txt\n",
        "!./max_pairwise_sort_super_efficient < stress_input_94.txt\n",
        "!./max_pairwise_sort_super_efficient < stress_input_95.txt\n",
        "!./max_pairwise_sort_super_efficient < stress_input_96.txt\n",
        "!./max_pairwise_sort_super_efficient < stress_input_97.txt\n",
        "!./max_pairwise_sort_super_efficient < stress_input_98.txt\n",
        "!./max_pairwise_sort_super_efficient < stress_input_99.txt\n",
        "!./max_pairwise_sort_super_efficient < stress_input_100.txt\n"
      ]
    },
    {
      "cell_type": "markdown",
      "metadata": {
        "id": "JBigjCGQzj_3"
      },
      "source": [
        "## Sortin solution (𝑇(𝑛)=𝑂(𝑛𝑙𝑛𝑔))"
      ]
    },
    {
      "cell_type": "code",
      "execution_count": 145,
      "metadata": {
        "colab": {
          "base_uri": "https://localhost:8080/"
        },
        "id": "0kzVsZPzzkAG",
        "outputId": "42a3b539-a9ee-497e-e178-231df94361b4"
      },
      "outputs": [
        {
          "output_type": "stream",
          "name": "stdout",
          "text": [
            "Overwriting max_pairwise_sort_nlogn.cpp\n"
          ]
        }
      ],
      "source": [
        "%%writefile max_pairwise_sort_nlogn.cpp\n",
        "#include <iostream>\n",
        "#include <vector>\n",
        "#include <algorithm>\n",
        "\n",
        "using namespace std;\n",
        "\n",
        "int main() {\n",
        "    int n;                                     // 1\n",
        "    cin >> n;                                  // 1\n",
        "    vector<int> numbers(n);                    // n\n",
        "\n",
        "    for (int i = 0; i < n; ++i) {              //1 + 2n\n",
        "        cin >> numbers[i];                     // 1\n",
        "    }\n",
        "\n",
        "    sort(numbers.begin(), numbers.end());      // n*long\n",
        "    cout <<  \"n: \" << n << \" Product: \" << numbers[numbers.size() - 1] * numbers[numbers.size() - 2] << \"\\n\"; // 1\n",
        "    return 0;                                  // 1\n",
        "}"
      ]
    },
    {
      "cell_type": "code",
      "execution_count": 146,
      "metadata": {
        "colab": {
          "base_uri": "https://localhost:8080/"
        },
        "id": "11KSmpUpzkAG",
        "outputId": "dda49e1c-2d05-4e1e-8c22-df0d0889470d"
      },
      "outputs": [
        {
          "output_type": "stream",
          "name": "stdout",
          "text": [
            "n: 16 Product: 9025\n",
            "n: 38 Product: 9024\n",
            "n: 10 Product: 7728\n",
            "n: 40 Product: 9300\n",
            "n: 18 Product: 8366\n",
            "n: 27 Product: 7920\n",
            "n: 5 Product: 5160\n",
            "n: 32 Product: 9312\n",
            "n: 39 Product: 8835\n",
            "n: 21 Product: 8740\n",
            "n: 12 Product: 9215\n",
            "n: 4 Product: 7990\n",
            "n: 25 Product: 9800\n",
            "n: 16 Product: 8190\n",
            "n: 33 Product: 9409\n",
            "n: 28 Product: 9504\n",
            "n: 40 Product: 9603\n",
            "n: 21 Product: 7031\n",
            "n: 29 Product: 8099\n",
            "n: 13 Product: 8051\n",
            "n: 20 Product: 5508\n",
            "n: 4 Product: 735\n",
            "n: 22 Product: 9801\n",
            "n: 29 Product: 9900\n",
            "n: 36 Product: 9603\n",
            "n: 4 Product: 1566\n",
            "n: 36 Product: 9408\n",
            "n: 25 Product: 9306\n",
            "n: 32 Product: 8918\n",
            "n: 9 Product: 7857\n",
            "n: 17 Product: 8556\n",
            "n: 34 Product: 10000\n",
            "n: 19 Product: 7921\n",
            "n: 3 Product: 2508\n",
            "n: 29 Product: 8184\n",
            "n: 8 Product: 8245\n",
            "n: 14 Product: 8148\n",
            "n: 17 Product: 7743\n",
            "n: 10 Product: 8463\n",
            "n: 12 Product: 7568\n",
            "n: 10 Product: 4050\n",
            "n: 38 Product: 9408\n",
            "n: 12 Product: 6016\n",
            "n: 13 Product: 8272\n",
            "n: 8 Product: 7920\n",
            "n: 28 Product: 8930\n",
            "n: 32 Product: 9603\n",
            "n: 26 Product: 8256\n",
            "n: 30 Product: 8134\n",
            "n: 9 Product: 5832\n",
            "n: 13 Product: 7347\n",
            "n: 7 Product: 8526\n",
            "n: 24 Product: 8924\n",
            "n: 24 Product: 9800\n",
            "n: 36 Product: 9016\n",
            "n: 37 Product: 9506\n",
            "n: 36 Product: 9600\n",
            "n: 34 Product: 8280\n",
            "n: 37 Product: 8930\n",
            "n: 21 Product: 8554\n",
            "n: 22 Product: 8178\n",
            "n: 32 Product: 9100\n",
            "n: 39 Product: 8930\n",
            "n: 8 Product: 2016\n",
            "n: 34 Product: 9016\n",
            "n: 11 Product: 8010\n",
            "n: 6 Product: 6900\n",
            "n: 37 Product: 9312\n",
            "n: 39 Product: 9506\n",
            "n: 8 Product: 7056\n",
            "n: 32 Product: 6006\n",
            "n: 36 Product: 9300\n",
            "n: 32 Product: 9800\n",
            "n: 29 Product: 10000\n",
            "n: 7 Product: 9900\n",
            "n: 30 Product: 9215\n",
            "n: 35 Product: 9800\n",
            "n: 17 Product: 9114\n",
            "n: 12 Product: 6603\n",
            "n: 22 Product: 9900\n",
            "n: 32 Product: 9408\n",
            "n: 39 Product: 9504\n",
            "n: 33 Product: 9900\n",
            "n: 16 Product: 7565\n",
            "n: 37 Product: 9900\n",
            "n: 19 Product: 6216\n",
            "n: 25 Product: 8004\n",
            "n: 15 Product: 7560\n",
            "n: 30 Product: 9212\n",
            "n: 20 Product: 9312\n",
            "n: 32 Product: 9108\n",
            "n: 18 Product: 7469\n",
            "n: 21 Product: 8928\n",
            "n: 25 Product: 9016\n",
            "n: 14 Product: 6314\n",
            "n: 39 Product: 9702\n",
            "n: 38 Product: 9408\n",
            "n: 32 Product: 9603\n",
            "n: 31 Product: 9108\n",
            "n: 36 Product: 9900\n",
            "CPU times: user 534 ms, sys: 99 ms, total: 633 ms\n",
            "Wall time: 11.2 s\n"
          ]
        }
      ],
      "source": [
        "%%time\n",
        "!g++ max_pairwise_sort_nlogn.cpp -o max_pairwise_sort_nlogn\n",
        "!./max_pairwise_sort_nlogn < stress_input_1.txt\n",
        "!./max_pairwise_sort_nlogn < stress_input_2.txt\n",
        "!./max_pairwise_sort_nlogn < stress_input_3.txt\n",
        "!./max_pairwise_sort_nlogn < stress_input_4.txt\n",
        "!./max_pairwise_sort_nlogn < stress_input_5.txt\n",
        "!./max_pairwise_sort_nlogn < stress_input_6.txt\n",
        "!./max_pairwise_sort_nlogn < stress_input_7.txt\n",
        "!./max_pairwise_sort_nlogn < stress_input_8.txt\n",
        "!./max_pairwise_sort_nlogn < stress_input_9.txt\n",
        "!./max_pairwise_sort_nlogn < stress_input_10.txt\n",
        "\n",
        "!./max_pairwise_sort_nlogn < stress_input_11.txt\n",
        "!./max_pairwise_sort_nlogn < stress_input_12.txt\n",
        "!./max_pairwise_sort_nlogn < stress_input_13.txt\n",
        "!./max_pairwise_sort_nlogn < stress_input_14.txt\n",
        "!./max_pairwise_sort_nlogn < stress_input_15.txt\n",
        "!./max_pairwise_sort_nlogn < stress_input_16.txt\n",
        "!./max_pairwise_sort_nlogn < stress_input_17.txt\n",
        "!./max_pairwise_sort_nlogn < stress_input_18.txt\n",
        "!./max_pairwise_sort_nlogn < stress_input_19.txt\n",
        "!./max_pairwise_sort_nlogn < stress_input_20.txt\n",
        "\n",
        "!./max_pairwise_sort_nlogn < stress_input_21.txt\n",
        "!./max_pairwise_sort_nlogn < stress_input_22.txt\n",
        "!./max_pairwise_sort_nlogn < stress_input_23.txt\n",
        "!./max_pairwise_sort_nlogn < stress_input_24.txt\n",
        "!./max_pairwise_sort_nlogn < stress_input_25.txt\n",
        "!./max_pairwise_sort_nlogn < stress_input_26.txt\n",
        "!./max_pairwise_sort_nlogn < stress_input_27.txt\n",
        "!./max_pairwise_sort_nlogn < stress_input_28.txt\n",
        "!./max_pairwise_sort_nlogn < stress_input_29.txt\n",
        "!./max_pairwise_sort_nlogn < stress_input_30.txt\n",
        "\n",
        "!./max_pairwise_sort_nlogn < stress_input_31.txt\n",
        "!./max_pairwise_sort_nlogn < stress_input_32.txt\n",
        "!./max_pairwise_sort_nlogn < stress_input_33.txt\n",
        "!./max_pairwise_sort_nlogn < stress_input_34.txt\n",
        "!./max_pairwise_sort_nlogn < stress_input_35.txt\n",
        "!./max_pairwise_sort_nlogn < stress_input_36.txt\n",
        "!./max_pairwise_sort_nlogn < stress_input_37.txt\n",
        "!./max_pairwise_sort_nlogn < stress_input_38.txt\n",
        "!./max_pairwise_sort_nlogn < stress_input_39.txt\n",
        "!./max_pairwise_sort_nlogn < stress_input_40.txt\n",
        "\n",
        "!./max_pairwise_sort_nlogn < stress_input_41.txt\n",
        "!./max_pairwise_sort_nlogn < stress_input_42.txt\n",
        "!./max_pairwise_sort_nlogn < stress_input_43.txt\n",
        "!./max_pairwise_sort_nlogn < stress_input_44.txt\n",
        "!./max_pairwise_sort_nlogn < stress_input_45.txt\n",
        "!./max_pairwise_sort_nlogn < stress_input_46.txt\n",
        "!./max_pairwise_sort_nlogn < stress_input_47.txt\n",
        "!./max_pairwise_sort_nlogn < stress_input_48.txt\n",
        "!./max_pairwise_sort_nlogn < stress_input_49.txt\n",
        "!./max_pairwise_sort_nlogn < stress_input_50.txt\n",
        "\n",
        "!./max_pairwise_sort_nlogn < stress_input_51.txt\n",
        "!./max_pairwise_sort_nlogn < stress_input_52.txt\n",
        "!./max_pairwise_sort_nlogn < stress_input_53.txt\n",
        "!./max_pairwise_sort_nlogn < stress_input_54.txt\n",
        "!./max_pairwise_sort_nlogn < stress_input_55.txt\n",
        "!./max_pairwise_sort_nlogn < stress_input_56.txt\n",
        "!./max_pairwise_sort_nlogn < stress_input_57.txt\n",
        "!./max_pairwise_sort_nlogn < stress_input_58.txt\n",
        "!./max_pairwise_sort_nlogn < stress_input_59.txt\n",
        "!./max_pairwise_sort_nlogn < stress_input_60.txt\n",
        "\n",
        "!./max_pairwise_sort_nlogn < stress_input_61.txt\n",
        "!./max_pairwise_sort_nlogn < stress_input_62.txt\n",
        "!./max_pairwise_sort_nlogn < stress_input_63.txt\n",
        "!./max_pairwise_sort_nlogn < stress_input_64.txt\n",
        "!./max_pairwise_sort_nlogn < stress_input_65.txt\n",
        "!./max_pairwise_sort_nlogn < stress_input_66.txt\n",
        "!./max_pairwise_sort_nlogn < stress_input_67.txt\n",
        "!./max_pairwise_sort_nlogn < stress_input_68.txt\n",
        "!./max_pairwise_sort_nlogn < stress_input_69.txt\n",
        "!./max_pairwise_sort_nlogn < stress_input_70.txt\n",
        "\n",
        "!./max_pairwise_sort_nlogn < stress_input_71.txt\n",
        "!./max_pairwise_sort_nlogn < stress_input_72.txt\n",
        "!./max_pairwise_sort_nlogn < stress_input_73.txt\n",
        "!./max_pairwise_sort_nlogn < stress_input_74.txt\n",
        "!./max_pairwise_sort_nlogn < stress_input_75.txt\n",
        "!./max_pairwise_sort_nlogn < stress_input_76.txt\n",
        "!./max_pairwise_sort_nlogn < stress_input_77.txt\n",
        "!./max_pairwise_sort_nlogn < stress_input_78.txt\n",
        "!./max_pairwise_sort_nlogn < stress_input_79.txt\n",
        "!./max_pairwise_sort_nlogn < stress_input_80.txt\n",
        "\n",
        "!./max_pairwise_sort_nlogn < stress_input_81.txt\n",
        "!./max_pairwise_sort_nlogn < stress_input_82.txt\n",
        "!./max_pairwise_sort_nlogn < stress_input_83.txt\n",
        "!./max_pairwise_sort_nlogn < stress_input_84.txt\n",
        "!./max_pairwise_sort_nlogn < stress_input_85.txt\n",
        "!./max_pairwise_sort_nlogn < stress_input_86.txt\n",
        "!./max_pairwise_sort_nlogn < stress_input_87.txt\n",
        "!./max_pairwise_sort_nlogn < stress_input_88.txt\n",
        "!./max_pairwise_sort_nlogn < stress_input_89.txt\n",
        "!./max_pairwise_sort_nlogn < stress_input_90.txt\n",
        "\n",
        "!./max_pairwise_sort_nlogn < stress_input_91.txt\n",
        "!./max_pairwise_sort_nlogn < stress_input_92.txt\n",
        "!./max_pairwise_sort_nlogn < stress_input_93.txt\n",
        "!./max_pairwise_sort_nlogn < stress_input_94.txt\n",
        "!./max_pairwise_sort_nlogn < stress_input_95.txt\n",
        "!./max_pairwise_sort_nlogn < stress_input_96.txt\n",
        "!./max_pairwise_sort_nlogn < stress_input_97.txt\n",
        "!./max_pairwise_sort_nlogn < stress_input_98.txt\n",
        "!./max_pairwise_sort_nlogn < stress_input_99.txt\n",
        "!./max_pairwise_sort_nlogn < stress_input_100.txt\n"
      ]
    },
    {
      "cell_type": "markdown",
      "metadata": {
        "id": "HctdtCK_zkAG"
      },
      "source": []
    },
    {
      "cell_type": "markdown",
      "metadata": {
        "id": "UynvmzS00LvZ"
      },
      "source": [
        "# Python"
      ]
    },
    {
      "cell_type": "markdown",
      "metadata": {
        "id": "QonQgSfW0Lva"
      },
      "source": [
        "## Super efficient solution (𝑇(𝑛)<10𝑛=𝑂(𝑛))"
      ]
    },
    {
      "cell_type": "code",
      "execution_count": 147,
      "metadata": {
        "colab": {
          "base_uri": "https://localhost:8080/"
        },
        "id": "bvw_eZws0Lva",
        "outputId": "1c3e0817-1a73-40e6-bdbb-dde29700794b"
      },
      "outputs": [
        {
          "output_type": "stream",
          "name": "stdout",
          "text": [
            "Overwriting max_pairwise_sort_super_efficient.py\n"
          ]
        }
      ],
      "source": [
        "%%writefile max_pairwise_sort_super_efficient.py\n",
        "n = int(input())                            # 1\n",
        "max_number = float(\"-inf\")                  # 1\n",
        "second_max_number = float(\"-inf\")           # 1\n",
        "\n",
        "for num in input().split():                 # 3 + 2n\n",
        "\n",
        "    num = int(num)                          # n\n",
        "\n",
        "    if num > max_number:                    # n\n",
        "        second_max_number = max_number      # [0, n] in the worst case it would be n times\n",
        "        max_number = num                    # [0, n] in the worst case it would be n times\n",
        "    elif num > second_max_number:           # n\n",
        "        second_max_number = num             # [0, n] in the worst case it would be n times\n",
        "\n",
        "print(f\"n: {n} Product: {max_number * second_max_number}\")"
      ]
    },
    {
      "cell_type": "code",
      "execution_count": 148,
      "metadata": {
        "colab": {
          "base_uri": "https://localhost:8080/"
        },
        "id": "klFyKRSB0Lvb",
        "outputId": "fbd200d0-30a8-491f-ce20-3fbd997b7978"
      },
      "outputs": [
        {
          "output_type": "stream",
          "name": "stdout",
          "text": [
            "n: 16 Product: 9025\n",
            "n: 38 Product: 9024\n",
            "n: 10 Product: 7728\n",
            "n: 40 Product: 9300\n",
            "n: 18 Product: 8366\n",
            "n: 27 Product: 7920\n",
            "n: 5 Product: 5160\n",
            "n: 32 Product: 9312\n",
            "n: 39 Product: 8835\n",
            "n: 21 Product: 8740\n",
            "n: 12 Product: 9215\n",
            "n: 4 Product: 7990\n",
            "n: 25 Product: 9800\n",
            "n: 16 Product: 8190\n",
            "n: 33 Product: 9409\n",
            "n: 28 Product: 9504\n",
            "n: 40 Product: 9603\n",
            "n: 21 Product: 7031\n",
            "n: 29 Product: 8099\n",
            "n: 13 Product: 8051\n",
            "n: 20 Product: 5508\n",
            "n: 4 Product: 735\n",
            "n: 22 Product: 9801\n",
            "n: 29 Product: 9900\n",
            "n: 36 Product: 9603\n",
            "n: 4 Product: 1566\n",
            "n: 36 Product: 9408\n",
            "n: 25 Product: 9306\n",
            "n: 32 Product: 8918\n",
            "n: 9 Product: 7857\n",
            "n: 17 Product: 8556\n",
            "n: 34 Product: 10000\n",
            "n: 19 Product: 7921\n",
            "n: 3 Product: 2508\n",
            "n: 29 Product: 8184\n",
            "n: 8 Product: 8245\n",
            "n: 14 Product: 8148\n",
            "n: 17 Product: 7743\n",
            "n: 10 Product: 8463\n",
            "n: 12 Product: 7568\n",
            "n: 10 Product: 4050\n",
            "n: 38 Product: 9408\n",
            "n: 12 Product: 6016\n",
            "n: 13 Product: 8272\n",
            "n: 8 Product: 7920\n",
            "n: 28 Product: 8930\n",
            "n: 32 Product: 9603\n",
            "n: 26 Product: 8256\n",
            "n: 30 Product: 8134\n",
            "n: 9 Product: 5832\n",
            "n: 13 Product: 7347\n",
            "n: 7 Product: 8526\n",
            "n: 24 Product: 8924\n",
            "n: 24 Product: 9800\n",
            "n: 36 Product: 9016\n",
            "n: 37 Product: 9506\n",
            "n: 36 Product: 9600\n",
            "n: 34 Product: 8280\n",
            "n: 37 Product: 8930\n",
            "n: 21 Product: 8554\n",
            "n: 22 Product: 8178\n",
            "n: 32 Product: 9100\n",
            "n: 39 Product: 8930\n",
            "n: 8 Product: 2016\n",
            "n: 34 Product: 9016\n",
            "n: 11 Product: 8010\n",
            "n: 6 Product: 6900\n",
            "n: 37 Product: 9312\n",
            "n: 39 Product: 9506\n",
            "n: 8 Product: 7056\n",
            "n: 32 Product: 6006\n",
            "n: 36 Product: 9300\n",
            "n: 32 Product: 9800\n",
            "n: 29 Product: 10000\n",
            "n: 7 Product: 9900\n",
            "n: 30 Product: 9215\n",
            "n: 35 Product: 9800\n",
            "n: 17 Product: 9114\n",
            "n: 12 Product: 6603\n",
            "n: 22 Product: 9900\n",
            "n: 32 Product: 9408\n",
            "n: 39 Product: 9504\n",
            "n: 33 Product: 9900\n",
            "n: 16 Product: 7565\n",
            "n: 37 Product: 9900\n",
            "n: 19 Product: 6216\n",
            "n: 25 Product: 8004\n",
            "n: 15 Product: 7560\n",
            "n: 30 Product: 9212\n",
            "n: 20 Product: 9312\n",
            "n: 32 Product: 9108\n",
            "n: 18 Product: 7469\n",
            "n: 21 Product: 8928\n",
            "n: 25 Product: 9016\n",
            "n: 14 Product: 6314\n",
            "n: 39 Product: 9702\n",
            "n: 38 Product: 9408\n",
            "n: 32 Product: 9603\n",
            "n: 31 Product: 9108\n",
            "n: 36 Product: 9900\n",
            "CPU times: user 541 ms, sys: 98.5 ms, total: 639 ms\n",
            "Wall time: 10.6 s\n"
          ]
        }
      ],
      "source": [
        "%%time\n",
        "!python max_pairwise_sort_super_efficient.py < stress_input_1.txt\n",
        "!python max_pairwise_sort_super_efficient.py < stress_input_2.txt\n",
        "!python max_pairwise_sort_super_efficient.py < stress_input_3.txt\n",
        "!python max_pairwise_sort_super_efficient.py < stress_input_4.txt\n",
        "!python max_pairwise_sort_super_efficient.py < stress_input_5.txt\n",
        "!python max_pairwise_sort_super_efficient.py < stress_input_6.txt\n",
        "!python max_pairwise_sort_super_efficient.py < stress_input_7.txt\n",
        "!python max_pairwise_sort_super_efficient.py < stress_input_8.txt\n",
        "!python max_pairwise_sort_super_efficient.py < stress_input_9.txt\n",
        "!python max_pairwise_sort_super_efficient.py < stress_input_10.txt\n",
        "\n",
        "!python max_pairwise_sort_super_efficient.py < stress_input_11.txt\n",
        "!python max_pairwise_sort_super_efficient.py < stress_input_12.txt\n",
        "!python max_pairwise_sort_super_efficient.py < stress_input_13.txt\n",
        "!python max_pairwise_sort_super_efficient.py < stress_input_14.txt\n",
        "!python max_pairwise_sort_super_efficient.py < stress_input_15.txt\n",
        "!python max_pairwise_sort_super_efficient.py < stress_input_16.txt\n",
        "!python max_pairwise_sort_super_efficient.py < stress_input_17.txt\n",
        "!python max_pairwise_sort_super_efficient.py < stress_input_18.txt\n",
        "!python max_pairwise_sort_super_efficient.py < stress_input_19.txt\n",
        "!python max_pairwise_sort_super_efficient.py < stress_input_20.txt\n",
        "\n",
        "!python max_pairwise_sort_super_efficient.py < stress_input_21.txt\n",
        "!python max_pairwise_sort_super_efficient.py < stress_input_22.txt\n",
        "!python max_pairwise_sort_super_efficient.py < stress_input_23.txt\n",
        "!python max_pairwise_sort_super_efficient.py < stress_input_24.txt\n",
        "!python max_pairwise_sort_super_efficient.py < stress_input_25.txt\n",
        "!python max_pairwise_sort_super_efficient.py < stress_input_26.txt\n",
        "!python max_pairwise_sort_super_efficient.py < stress_input_27.txt\n",
        "!python max_pairwise_sort_super_efficient.py < stress_input_28.txt\n",
        "!python max_pairwise_sort_super_efficient.py < stress_input_29.txt\n",
        "!python max_pairwise_sort_super_efficient.py < stress_input_30.txt\n",
        "\n",
        "!python max_pairwise_sort_super_efficient.py < stress_input_31.txt\n",
        "!python max_pairwise_sort_super_efficient.py < stress_input_32.txt\n",
        "!python max_pairwise_sort_super_efficient.py < stress_input_33.txt\n",
        "!python max_pairwise_sort_super_efficient.py < stress_input_34.txt\n",
        "!python max_pairwise_sort_super_efficient.py < stress_input_35.txt\n",
        "!python max_pairwise_sort_super_efficient.py < stress_input_36.txt\n",
        "!python max_pairwise_sort_super_efficient.py < stress_input_37.txt\n",
        "!python max_pairwise_sort_super_efficient.py < stress_input_38.txt\n",
        "!python max_pairwise_sort_super_efficient.py < stress_input_39.txt\n",
        "!python max_pairwise_sort_super_efficient.py < stress_input_40.txt\n",
        "\n",
        "!python max_pairwise_sort_super_efficient.py < stress_input_41.txt\n",
        "!python max_pairwise_sort_super_efficient.py < stress_input_42.txt\n",
        "!python max_pairwise_sort_super_efficient.py < stress_input_43.txt\n",
        "!python max_pairwise_sort_super_efficient.py < stress_input_44.txt\n",
        "!python max_pairwise_sort_super_efficient.py < stress_input_45.txt\n",
        "!python max_pairwise_sort_super_efficient.py < stress_input_46.txt\n",
        "!python max_pairwise_sort_super_efficient.py < stress_input_47.txt\n",
        "!python max_pairwise_sort_super_efficient.py < stress_input_48.txt\n",
        "!python max_pairwise_sort_super_efficient.py < stress_input_49.txt\n",
        "!python max_pairwise_sort_super_efficient.py < stress_input_50.txt\n",
        "\n",
        "!python max_pairwise_sort_super_efficient.py < stress_input_51.txt\n",
        "!python max_pairwise_sort_super_efficient.py < stress_input_52.txt\n",
        "!python max_pairwise_sort_super_efficient.py < stress_input_53.txt\n",
        "!python max_pairwise_sort_super_efficient.py < stress_input_54.txt\n",
        "!python max_pairwise_sort_super_efficient.py < stress_input_55.txt\n",
        "!python max_pairwise_sort_super_efficient.py < stress_input_56.txt\n",
        "!python max_pairwise_sort_super_efficient.py < stress_input_57.txt\n",
        "!python max_pairwise_sort_super_efficient.py < stress_input_58.txt\n",
        "!python max_pairwise_sort_super_efficient.py < stress_input_59.txt\n",
        "!python max_pairwise_sort_super_efficient.py < stress_input_60.txt\n",
        "\n",
        "!python max_pairwise_sort_super_efficient.py < stress_input_61.txt\n",
        "!python max_pairwise_sort_super_efficient.py < stress_input_62.txt\n",
        "!python max_pairwise_sort_super_efficient.py < stress_input_63.txt\n",
        "!python max_pairwise_sort_super_efficient.py < stress_input_64.txt\n",
        "!python max_pairwise_sort_super_efficient.py < stress_input_65.txt\n",
        "!python max_pairwise_sort_super_efficient.py < stress_input_66.txt\n",
        "!python max_pairwise_sort_super_efficient.py < stress_input_67.txt\n",
        "!python max_pairwise_sort_super_efficient.py < stress_input_68.txt\n",
        "!python max_pairwise_sort_super_efficient.py < stress_input_69.txt\n",
        "!python max_pairwise_sort_super_efficient.py < stress_input_70.txt\n",
        "\n",
        "!python max_pairwise_sort_super_efficient.py < stress_input_71.txt\n",
        "!python max_pairwise_sort_super_efficient.py < stress_input_72.txt\n",
        "!python max_pairwise_sort_super_efficient.py < stress_input_73.txt\n",
        "!python max_pairwise_sort_super_efficient.py < stress_input_74.txt\n",
        "!python max_pairwise_sort_super_efficient.py < stress_input_75.txt\n",
        "!python max_pairwise_sort_super_efficient.py < stress_input_76.txt\n",
        "!python max_pairwise_sort_super_efficient.py < stress_input_77.txt\n",
        "!python max_pairwise_sort_super_efficient.py < stress_input_78.txt\n",
        "!python max_pairwise_sort_super_efficient.py < stress_input_79.txt\n",
        "!python max_pairwise_sort_super_efficient.py < stress_input_80.txt\n",
        "\n",
        "!python max_pairwise_sort_super_efficient.py < stress_input_81.txt\n",
        "!python max_pairwise_sort_super_efficient.py < stress_input_82.txt\n",
        "!python max_pairwise_sort_super_efficient.py < stress_input_83.txt\n",
        "!python max_pairwise_sort_super_efficient.py < stress_input_84.txt\n",
        "!python max_pairwise_sort_super_efficient.py < stress_input_85.txt\n",
        "!python max_pairwise_sort_super_efficient.py < stress_input_86.txt\n",
        "!python max_pairwise_sort_super_efficient.py < stress_input_87.txt\n",
        "!python max_pairwise_sort_super_efficient.py < stress_input_88.txt\n",
        "!python max_pairwise_sort_super_efficient.py < stress_input_89.txt\n",
        "!python max_pairwise_sort_super_efficient.py < stress_input_90.txt\n",
        "\n",
        "!python max_pairwise_sort_super_efficient.py < stress_input_91.txt\n",
        "!python max_pairwise_sort_super_efficient.py < stress_input_92.txt\n",
        "!python max_pairwise_sort_super_efficient.py < stress_input_93.txt\n",
        "!python max_pairwise_sort_super_efficient.py < stress_input_94.txt\n",
        "!python max_pairwise_sort_super_efficient.py < stress_input_95.txt\n",
        "!python max_pairwise_sort_super_efficient.py < stress_input_96.txt\n",
        "!python max_pairwise_sort_super_efficient.py < stress_input_97.txt\n",
        "!python max_pairwise_sort_super_efficient.py < stress_input_98.txt\n",
        "!python max_pairwise_sort_super_efficient.py < stress_input_99.txt\n",
        "!python max_pairwise_sort_super_efficient.py < stress_input_100.txt\n"
      ]
    },
    {
      "cell_type": "markdown",
      "metadata": {
        "id": "vvskSkkR0Lvb"
      },
      "source": [
        "## Sort solution (𝑇(𝑛)=𝑂(𝑛𝑙𝑛𝑔))"
      ]
    },
    {
      "cell_type": "code",
      "execution_count": 149,
      "metadata": {
        "colab": {
          "base_uri": "https://localhost:8080/"
        },
        "id": "zq_FEgs00Lvb",
        "outputId": "dfc59e1a-b95c-4204-f753-d893f89c0abf"
      },
      "outputs": [
        {
          "output_type": "stream",
          "name": "stdout",
          "text": [
            "Overwriting max_pairwise_sort_nlogn.py\n"
          ]
        }
      ],
      "source": [
        "%%writefile max_pairwise_sort_nlogn.py\n",
        "# Read input values\n",
        "n = int(input())              # 1\n",
        "numbers = list(map(int, input().split()))  # n\n",
        "\n",
        "# Sort the list\n",
        "numbers.sort()                # n*log(n)\n",
        "\n",
        "# Calculate the maximum pairwise product\n",
        "result = numbers[-1] * numbers[-2]  # 1\n",
        "\n",
        "# Print the result\n",
        "print(f\"n: {n} Product: {result}\")"
      ]
    },
    {
      "cell_type": "code",
      "execution_count": 150,
      "metadata": {
        "colab": {
          "base_uri": "https://localhost:8080/"
        },
        "id": "MRCwUqwT0Lvc",
        "outputId": "7a8694b9-ee75-45cd-b07a-762be9a6d4bd"
      },
      "outputs": [
        {
          "output_type": "stream",
          "name": "stdout",
          "text": [
            "n: 16 Product: 9025\n",
            "n: 38 Product: 9024\n",
            "n: 10 Product: 7728\n",
            "n: 40 Product: 9300\n",
            "n: 18 Product: 8366\n",
            "n: 27 Product: 7920\n",
            "n: 5 Product: 5160\n",
            "n: 32 Product: 9312\n",
            "n: 39 Product: 8835\n",
            "n: 21 Product: 8740\n",
            "n: 12 Product: 9215\n",
            "n: 4 Product: 7990\n",
            "n: 25 Product: 9800\n",
            "n: 16 Product: 8190\n",
            "n: 33 Product: 9409\n",
            "n: 28 Product: 9504\n",
            "n: 40 Product: 9603\n",
            "n: 21 Product: 7031\n",
            "n: 29 Product: 8099\n",
            "n: 13 Product: 8051\n",
            "n: 20 Product: 5508\n",
            "n: 4 Product: 735\n",
            "n: 22 Product: 9801\n",
            "n: 29 Product: 9900\n",
            "n: 36 Product: 9603\n",
            "n: 4 Product: 1566\n",
            "n: 36 Product: 9408\n",
            "n: 25 Product: 9306\n",
            "n: 32 Product: 8918\n",
            "n: 9 Product: 7857\n",
            "n: 17 Product: 8556\n",
            "n: 34 Product: 10000\n",
            "n: 19 Product: 7921\n",
            "n: 3 Product: 2508\n",
            "n: 29 Product: 8184\n",
            "n: 8 Product: 8245\n",
            "n: 14 Product: 8148\n",
            "n: 17 Product: 7743\n",
            "n: 10 Product: 8463\n",
            "n: 12 Product: 7568\n",
            "n: 10 Product: 4050\n",
            "n: 38 Product: 9408\n",
            "n: 12 Product: 6016\n",
            "n: 13 Product: 8272\n",
            "n: 8 Product: 7920\n",
            "n: 28 Product: 8930\n",
            "n: 32 Product: 9603\n",
            "n: 26 Product: 8256\n",
            "n: 30 Product: 8134\n",
            "n: 9 Product: 5832\n",
            "n: 13 Product: 7347\n",
            "n: 7 Product: 8526\n",
            "n: 24 Product: 8924\n",
            "n: 24 Product: 9800\n",
            "n: 36 Product: 9016\n",
            "n: 37 Product: 9506\n",
            "n: 36 Product: 9600\n",
            "n: 34 Product: 8280\n",
            "n: 37 Product: 8930\n",
            "n: 21 Product: 8554\n",
            "n: 22 Product: 8178\n",
            "n: 32 Product: 9100\n",
            "n: 39 Product: 8930\n",
            "n: 8 Product: 2016\n",
            "n: 34 Product: 9016\n",
            "n: 11 Product: 8010\n",
            "n: 6 Product: 6900\n",
            "n: 37 Product: 9312\n",
            "n: 39 Product: 9506\n",
            "n: 8 Product: 7056\n",
            "n: 32 Product: 6006\n",
            "n: 36 Product: 9300\n",
            "n: 32 Product: 9800\n",
            "n: 29 Product: 10000\n",
            "n: 7 Product: 9900\n",
            "n: 30 Product: 9215\n",
            "n: 35 Product: 9800\n",
            "n: 17 Product: 9114\n",
            "n: 12 Product: 6603\n",
            "n: 22 Product: 9900\n",
            "n: 32 Product: 9408\n",
            "n: 39 Product: 9504\n",
            "n: 33 Product: 9900\n",
            "n: 16 Product: 7565\n",
            "n: 37 Product: 9900\n",
            "n: 19 Product: 6216\n",
            "n: 25 Product: 8004\n",
            "n: 15 Product: 7560\n",
            "n: 30 Product: 9212\n",
            "n: 20 Product: 9312\n",
            "n: 32 Product: 9108\n",
            "n: 18 Product: 7469\n",
            "n: 21 Product: 8928\n",
            "n: 25 Product: 9016\n",
            "n: 14 Product: 6314\n",
            "n: 39 Product: 9702\n",
            "n: 38 Product: 9408\n",
            "n: 32 Product: 9603\n",
            "n: 31 Product: 9108\n",
            "n: 36 Product: 9900\n",
            "CPU times: user 526 ms, sys: 97.1 ms, total: 623 ms\n",
            "Wall time: 10.6 s\n"
          ]
        }
      ],
      "source": [
        "%%time\n",
        "!python max_pairwise_sort_nlogn.py < stress_input_1.txt\n",
        "!python max_pairwise_sort_nlogn.py < stress_input_2.txt\n",
        "!python max_pairwise_sort_nlogn.py < stress_input_3.txt\n",
        "!python max_pairwise_sort_nlogn.py < stress_input_4.txt\n",
        "!python max_pairwise_sort_nlogn.py < stress_input_5.txt\n",
        "!python max_pairwise_sort_nlogn.py < stress_input_6.txt\n",
        "!python max_pairwise_sort_nlogn.py < stress_input_7.txt\n",
        "!python max_pairwise_sort_nlogn.py < stress_input_8.txt\n",
        "!python max_pairwise_sort_nlogn.py < stress_input_9.txt\n",
        "!python max_pairwise_sort_nlogn.py < stress_input_10.txt\n",
        "\n",
        "!python max_pairwise_sort_nlogn.py < stress_input_11.txt\n",
        "!python max_pairwise_sort_nlogn.py < stress_input_12.txt\n",
        "!python max_pairwise_sort_nlogn.py < stress_input_13.txt\n",
        "!python max_pairwise_sort_nlogn.py < stress_input_14.txt\n",
        "!python max_pairwise_sort_nlogn.py < stress_input_15.txt\n",
        "!python max_pairwise_sort_nlogn.py < stress_input_16.txt\n",
        "!python max_pairwise_sort_nlogn.py < stress_input_17.txt\n",
        "!python max_pairwise_sort_nlogn.py < stress_input_18.txt\n",
        "!python max_pairwise_sort_nlogn.py < stress_input_19.txt\n",
        "!python max_pairwise_sort_nlogn.py < stress_input_20.txt\n",
        "\n",
        "!python max_pairwise_sort_nlogn.py < stress_input_21.txt\n",
        "!python max_pairwise_sort_nlogn.py < stress_input_22.txt\n",
        "!python max_pairwise_sort_nlogn.py < stress_input_23.txt\n",
        "!python max_pairwise_sort_nlogn.py < stress_input_24.txt\n",
        "!python max_pairwise_sort_nlogn.py < stress_input_25.txt\n",
        "!python max_pairwise_sort_nlogn.py < stress_input_26.txt\n",
        "!python max_pairwise_sort_nlogn.py < stress_input_27.txt\n",
        "!python max_pairwise_sort_nlogn.py < stress_input_28.txt\n",
        "!python max_pairwise_sort_nlogn.py < stress_input_29.txt\n",
        "!python max_pairwise_sort_nlogn.py < stress_input_30.txt\n",
        "\n",
        "!python max_pairwise_sort_nlogn.py < stress_input_31.txt\n",
        "!python max_pairwise_sort_nlogn.py < stress_input_32.txt\n",
        "!python max_pairwise_sort_nlogn.py < stress_input_33.txt\n",
        "!python max_pairwise_sort_nlogn.py < stress_input_34.txt\n",
        "!python max_pairwise_sort_nlogn.py < stress_input_35.txt\n",
        "!python max_pairwise_sort_nlogn.py < stress_input_36.txt\n",
        "!python max_pairwise_sort_nlogn.py < stress_input_37.txt\n",
        "!python max_pairwise_sort_nlogn.py < stress_input_38.txt\n",
        "!python max_pairwise_sort_nlogn.py < stress_input_39.txt\n",
        "!python max_pairwise_sort_nlogn.py < stress_input_40.txt\n",
        "\n",
        "!python max_pairwise_sort_nlogn.py < stress_input_41.txt\n",
        "!python max_pairwise_sort_nlogn.py < stress_input_42.txt\n",
        "!python max_pairwise_sort_nlogn.py < stress_input_43.txt\n",
        "!python max_pairwise_sort_nlogn.py < stress_input_44.txt\n",
        "!python max_pairwise_sort_nlogn.py < stress_input_45.txt\n",
        "!python max_pairwise_sort_nlogn.py < stress_input_46.txt\n",
        "!python max_pairwise_sort_nlogn.py < stress_input_47.txt\n",
        "!python max_pairwise_sort_nlogn.py < stress_input_48.txt\n",
        "!python max_pairwise_sort_nlogn.py < stress_input_49.txt\n",
        "!python max_pairwise_sort_nlogn.py < stress_input_50.txt\n",
        "\n",
        "!python max_pairwise_sort_nlogn.py < stress_input_51.txt\n",
        "!python max_pairwise_sort_nlogn.py < stress_input_52.txt\n",
        "!python max_pairwise_sort_nlogn.py < stress_input_53.txt\n",
        "!python max_pairwise_sort_nlogn.py < stress_input_54.txt\n",
        "!python max_pairwise_sort_nlogn.py < stress_input_55.txt\n",
        "!python max_pairwise_sort_nlogn.py < stress_input_56.txt\n",
        "!python max_pairwise_sort_nlogn.py < stress_input_57.txt\n",
        "!python max_pairwise_sort_nlogn.py < stress_input_58.txt\n",
        "!python max_pairwise_sort_nlogn.py < stress_input_59.txt\n",
        "!python max_pairwise_sort_nlogn.py < stress_input_60.txt\n",
        "\n",
        "!python max_pairwise_sort_nlogn.py < stress_input_61.txt\n",
        "!python max_pairwise_sort_nlogn.py < stress_input_62.txt\n",
        "!python max_pairwise_sort_nlogn.py < stress_input_63.txt\n",
        "!python max_pairwise_sort_nlogn.py < stress_input_64.txt\n",
        "!python max_pairwise_sort_nlogn.py < stress_input_65.txt\n",
        "!python max_pairwise_sort_nlogn.py < stress_input_66.txt\n",
        "!python max_pairwise_sort_nlogn.py < stress_input_67.txt\n",
        "!python max_pairwise_sort_nlogn.py < stress_input_68.txt\n",
        "!python max_pairwise_sort_nlogn.py < stress_input_69.txt\n",
        "!python max_pairwise_sort_nlogn.py < stress_input_70.txt\n",
        "\n",
        "!python max_pairwise_sort_nlogn.py < stress_input_71.txt\n",
        "!python max_pairwise_sort_nlogn.py < stress_input_72.txt\n",
        "!python max_pairwise_sort_nlogn.py < stress_input_73.txt\n",
        "!python max_pairwise_sort_nlogn.py < stress_input_74.txt\n",
        "!python max_pairwise_sort_nlogn.py < stress_input_75.txt\n",
        "!python max_pairwise_sort_nlogn.py < stress_input_76.txt\n",
        "!python max_pairwise_sort_nlogn.py < stress_input_77.txt\n",
        "!python max_pairwise_sort_nlogn.py < stress_input_78.txt\n",
        "!python max_pairwise_sort_nlogn.py < stress_input_79.txt\n",
        "!python max_pairwise_sort_nlogn.py < stress_input_80.txt\n",
        "\n",
        "!python max_pairwise_sort_nlogn.py < stress_input_81.txt\n",
        "!python max_pairwise_sort_nlogn.py < stress_input_82.txt\n",
        "!python max_pairwise_sort_nlogn.py < stress_input_83.txt\n",
        "!python max_pairwise_sort_nlogn.py < stress_input_84.txt\n",
        "!python max_pairwise_sort_nlogn.py < stress_input_85.txt\n",
        "!python max_pairwise_sort_nlogn.py < stress_input_86.txt\n",
        "!python max_pairwise_sort_nlogn.py < stress_input_87.txt\n",
        "!python max_pairwise_sort_nlogn.py < stress_input_88.txt\n",
        "!python max_pairwise_sort_nlogn.py < stress_input_89.txt\n",
        "!python max_pairwise_sort_nlogn.py < stress_input_90.txt\n",
        "\n",
        "!python max_pairwise_sort_nlogn.py < stress_input_91.txt\n",
        "!python max_pairwise_sort_nlogn.py < stress_input_92.txt\n",
        "!python max_pairwise_sort_nlogn.py < stress_input_93.txt\n",
        "!python max_pairwise_sort_nlogn.py < stress_input_94.txt\n",
        "!python max_pairwise_sort_nlogn.py < stress_input_95.txt\n",
        "!python max_pairwise_sort_nlogn.py < stress_input_96.txt\n",
        "!python max_pairwise_sort_nlogn.py < stress_input_97.txt\n",
        "!python max_pairwise_sort_nlogn.py < stress_input_98.txt\n",
        "!python max_pairwise_sort_nlogn.py < stress_input_99.txt\n",
        "!python max_pairwise_sort_nlogn.py < stress_input_100.txt\n"
      ]
    },
    {
      "cell_type": "markdown",
      "metadata": {
        "id": "70Qr7X4O2CQ1"
      },
      "source": [
        "# Resultados"
      ]
    },
    {
      "cell_type": "code",
      "execution_count": 151,
      "metadata": {
        "colab": {
          "base_uri": "https://localhost:8080/",
          "height": 125
        },
        "id": "UvDLVZV62GEY",
        "outputId": "1d16b717-9d85-4595-c5e8-d40c14d82e02"
      },
      "outputs": [
        {
          "output_type": "display_data",
          "data": {
            "text/plain": [
              "  Language  Super effienct (ms)  Sort solution (ms)\n",
              "0      C++                  539                 542\n",
              "1   Python                  516                 485"
            ],
            "text/html": [
              "\n",
              "  <div id=\"df-329c12c3-3041-4539-afd1-8d7c481b4c51\" class=\"colab-df-container\">\n",
              "    <div>\n",
              "<style scoped>\n",
              "    .dataframe tbody tr th:only-of-type {\n",
              "        vertical-align: middle;\n",
              "    }\n",
              "\n",
              "    .dataframe tbody tr th {\n",
              "        vertical-align: top;\n",
              "    }\n",
              "\n",
              "    .dataframe thead th {\n",
              "        text-align: right;\n",
              "    }\n",
              "</style>\n",
              "<table border=\"1\" class=\"dataframe\">\n",
              "  <thead>\n",
              "    <tr style=\"text-align: right;\">\n",
              "      <th></th>\n",
              "      <th>Language</th>\n",
              "      <th>Super effienct (ms)</th>\n",
              "      <th>Sort solution (ms)</th>\n",
              "    </tr>\n",
              "  </thead>\n",
              "  <tbody>\n",
              "    <tr>\n",
              "      <th>0</th>\n",
              "      <td>C++</td>\n",
              "      <td>539</td>\n",
              "      <td>542</td>\n",
              "    </tr>\n",
              "    <tr>\n",
              "      <th>1</th>\n",
              "      <td>Python</td>\n",
              "      <td>516</td>\n",
              "      <td>485</td>\n",
              "    </tr>\n",
              "  </tbody>\n",
              "</table>\n",
              "</div>\n",
              "    <div class=\"colab-df-buttons\">\n",
              "\n",
              "  <div class=\"colab-df-container\">\n",
              "    <button class=\"colab-df-convert\" onclick=\"convertToInteractive('df-329c12c3-3041-4539-afd1-8d7c481b4c51')\"\n",
              "            title=\"Convert this dataframe to an interactive table.\"\n",
              "            style=\"display:none;\">\n",
              "\n",
              "  <svg xmlns=\"http://www.w3.org/2000/svg\" height=\"24px\" viewBox=\"0 -960 960 960\">\n",
              "    <path d=\"M120-120v-720h720v720H120Zm60-500h600v-160H180v160Zm220 220h160v-160H400v160Zm0 220h160v-160H400v160ZM180-400h160v-160H180v160Zm440 0h160v-160H620v160ZM180-180h160v-160H180v160Zm440 0h160v-160H620v160Z\"/>\n",
              "  </svg>\n",
              "    </button>\n",
              "\n",
              "  <style>\n",
              "    .colab-df-container {\n",
              "      display:flex;\n",
              "      gap: 12px;\n",
              "    }\n",
              "\n",
              "    .colab-df-convert {\n",
              "      background-color: #E8F0FE;\n",
              "      border: none;\n",
              "      border-radius: 50%;\n",
              "      cursor: pointer;\n",
              "      display: none;\n",
              "      fill: #1967D2;\n",
              "      height: 32px;\n",
              "      padding: 0 0 0 0;\n",
              "      width: 32px;\n",
              "    }\n",
              "\n",
              "    .colab-df-convert:hover {\n",
              "      background-color: #E2EBFA;\n",
              "      box-shadow: 0px 1px 2px rgba(60, 64, 67, 0.3), 0px 1px 3px 1px rgba(60, 64, 67, 0.15);\n",
              "      fill: #174EA6;\n",
              "    }\n",
              "\n",
              "    .colab-df-buttons div {\n",
              "      margin-bottom: 4px;\n",
              "    }\n",
              "\n",
              "    [theme=dark] .colab-df-convert {\n",
              "      background-color: #3B4455;\n",
              "      fill: #D2E3FC;\n",
              "    }\n",
              "\n",
              "    [theme=dark] .colab-df-convert:hover {\n",
              "      background-color: #434B5C;\n",
              "      box-shadow: 0px 1px 3px 1px rgba(0, 0, 0, 0.15);\n",
              "      filter: drop-shadow(0px 1px 2px rgba(0, 0, 0, 0.3));\n",
              "      fill: #FFFFFF;\n",
              "    }\n",
              "  </style>\n",
              "\n",
              "    <script>\n",
              "      const buttonEl =\n",
              "        document.querySelector('#df-329c12c3-3041-4539-afd1-8d7c481b4c51 button.colab-df-convert');\n",
              "      buttonEl.style.display =\n",
              "        google.colab.kernel.accessAllowed ? 'block' : 'none';\n",
              "\n",
              "      async function convertToInteractive(key) {\n",
              "        const element = document.querySelector('#df-329c12c3-3041-4539-afd1-8d7c481b4c51');\n",
              "        const dataTable =\n",
              "          await google.colab.kernel.invokeFunction('convertToInteractive',\n",
              "                                                    [key], {});\n",
              "        if (!dataTable) return;\n",
              "\n",
              "        const docLinkHtml = 'Like what you see? Visit the ' +\n",
              "          '<a target=\"_blank\" href=https://colab.research.google.com/notebooks/data_table.ipynb>data table notebook</a>'\n",
              "          + ' to learn more about interactive tables.';\n",
              "        element.innerHTML = '';\n",
              "        dataTable['output_type'] = 'display_data';\n",
              "        await google.colab.output.renderOutput(dataTable, element);\n",
              "        const docLink = document.createElement('div');\n",
              "        docLink.innerHTML = docLinkHtml;\n",
              "        element.appendChild(docLink);\n",
              "      }\n",
              "    </script>\n",
              "  </div>\n",
              "\n",
              "\n",
              "<div id=\"df-919c6e9f-2f72-4f4b-a07a-3c2fd45338b1\">\n",
              "  <button class=\"colab-df-quickchart\" onclick=\"quickchart('df-919c6e9f-2f72-4f4b-a07a-3c2fd45338b1')\"\n",
              "            title=\"Suggest charts\"\n",
              "            style=\"display:none;\">\n",
              "\n",
              "<svg xmlns=\"http://www.w3.org/2000/svg\" height=\"24px\"viewBox=\"0 0 24 24\"\n",
              "     width=\"24px\">\n",
              "    <g>\n",
              "        <path d=\"M19 3H5c-1.1 0-2 .9-2 2v14c0 1.1.9 2 2 2h14c1.1 0 2-.9 2-2V5c0-1.1-.9-2-2-2zM9 17H7v-7h2v7zm4 0h-2V7h2v10zm4 0h-2v-4h2v4z\"/>\n",
              "    </g>\n",
              "</svg>\n",
              "  </button>\n",
              "\n",
              "<style>\n",
              "  .colab-df-quickchart {\n",
              "      --bg-color: #E8F0FE;\n",
              "      --fill-color: #1967D2;\n",
              "      --hover-bg-color: #E2EBFA;\n",
              "      --hover-fill-color: #174EA6;\n",
              "      --disabled-fill-color: #AAA;\n",
              "      --disabled-bg-color: #DDD;\n",
              "  }\n",
              "\n",
              "  [theme=dark] .colab-df-quickchart {\n",
              "      --bg-color: #3B4455;\n",
              "      --fill-color: #D2E3FC;\n",
              "      --hover-bg-color: #434B5C;\n",
              "      --hover-fill-color: #FFFFFF;\n",
              "      --disabled-bg-color: #3B4455;\n",
              "      --disabled-fill-color: #666;\n",
              "  }\n",
              "\n",
              "  .colab-df-quickchart {\n",
              "    background-color: var(--bg-color);\n",
              "    border: none;\n",
              "    border-radius: 50%;\n",
              "    cursor: pointer;\n",
              "    display: none;\n",
              "    fill: var(--fill-color);\n",
              "    height: 32px;\n",
              "    padding: 0;\n",
              "    width: 32px;\n",
              "  }\n",
              "\n",
              "  .colab-df-quickchart:hover {\n",
              "    background-color: var(--hover-bg-color);\n",
              "    box-shadow: 0 1px 2px rgba(60, 64, 67, 0.3), 0 1px 3px 1px rgba(60, 64, 67, 0.15);\n",
              "    fill: var(--button-hover-fill-color);\n",
              "  }\n",
              "\n",
              "  .colab-df-quickchart-complete:disabled,\n",
              "  .colab-df-quickchart-complete:disabled:hover {\n",
              "    background-color: var(--disabled-bg-color);\n",
              "    fill: var(--disabled-fill-color);\n",
              "    box-shadow: none;\n",
              "  }\n",
              "\n",
              "  .colab-df-spinner {\n",
              "    border: 2px solid var(--fill-color);\n",
              "    border-color: transparent;\n",
              "    border-bottom-color: var(--fill-color);\n",
              "    animation:\n",
              "      spin 1s steps(1) infinite;\n",
              "  }\n",
              "\n",
              "  @keyframes spin {\n",
              "    0% {\n",
              "      border-color: transparent;\n",
              "      border-bottom-color: var(--fill-color);\n",
              "      border-left-color: var(--fill-color);\n",
              "    }\n",
              "    20% {\n",
              "      border-color: transparent;\n",
              "      border-left-color: var(--fill-color);\n",
              "      border-top-color: var(--fill-color);\n",
              "    }\n",
              "    30% {\n",
              "      border-color: transparent;\n",
              "      border-left-color: var(--fill-color);\n",
              "      border-top-color: var(--fill-color);\n",
              "      border-right-color: var(--fill-color);\n",
              "    }\n",
              "    40% {\n",
              "      border-color: transparent;\n",
              "      border-right-color: var(--fill-color);\n",
              "      border-top-color: var(--fill-color);\n",
              "    }\n",
              "    60% {\n",
              "      border-color: transparent;\n",
              "      border-right-color: var(--fill-color);\n",
              "    }\n",
              "    80% {\n",
              "      border-color: transparent;\n",
              "      border-right-color: var(--fill-color);\n",
              "      border-bottom-color: var(--fill-color);\n",
              "    }\n",
              "    90% {\n",
              "      border-color: transparent;\n",
              "      border-bottom-color: var(--fill-color);\n",
              "    }\n",
              "  }\n",
              "</style>\n",
              "\n",
              "  <script>\n",
              "    async function quickchart(key) {\n",
              "      const quickchartButtonEl =\n",
              "        document.querySelector('#' + key + ' button');\n",
              "      quickchartButtonEl.disabled = true;  // To prevent multiple clicks.\n",
              "      quickchartButtonEl.classList.add('colab-df-spinner');\n",
              "      try {\n",
              "        const charts = await google.colab.kernel.invokeFunction(\n",
              "            'suggestCharts', [key], {});\n",
              "      } catch (error) {\n",
              "        console.error('Error during call to suggestCharts:', error);\n",
              "      }\n",
              "      quickchartButtonEl.classList.remove('colab-df-spinner');\n",
              "      quickchartButtonEl.classList.add('colab-df-quickchart-complete');\n",
              "    }\n",
              "    (() => {\n",
              "      let quickchartButtonEl =\n",
              "        document.querySelector('#df-919c6e9f-2f72-4f4b-a07a-3c2fd45338b1 button');\n",
              "      quickchartButtonEl.style.display =\n",
              "        google.colab.kernel.accessAllowed ? 'block' : 'none';\n",
              "    })();\n",
              "  </script>\n",
              "</div>\n",
              "\n",
              "  <div id=\"id_988436e3-0d49-4b18-b1e8-ed820f1da300\">\n",
              "    <style>\n",
              "      .colab-df-generate {\n",
              "        background-color: #E8F0FE;\n",
              "        border: none;\n",
              "        border-radius: 50%;\n",
              "        cursor: pointer;\n",
              "        display: none;\n",
              "        fill: #1967D2;\n",
              "        height: 32px;\n",
              "        padding: 0 0 0 0;\n",
              "        width: 32px;\n",
              "      }\n",
              "\n",
              "      .colab-df-generate:hover {\n",
              "        background-color: #E2EBFA;\n",
              "        box-shadow: 0px 1px 2px rgba(60, 64, 67, 0.3), 0px 1px 3px 1px rgba(60, 64, 67, 0.15);\n",
              "        fill: #174EA6;\n",
              "      }\n",
              "\n",
              "      [theme=dark] .colab-df-generate {\n",
              "        background-color: #3B4455;\n",
              "        fill: #D2E3FC;\n",
              "      }\n",
              "\n",
              "      [theme=dark] .colab-df-generate:hover {\n",
              "        background-color: #434B5C;\n",
              "        box-shadow: 0px 1px 3px 1px rgba(0, 0, 0, 0.15);\n",
              "        filter: drop-shadow(0px 1px 2px rgba(0, 0, 0, 0.3));\n",
              "        fill: #FFFFFF;\n",
              "      }\n",
              "    </style>\n",
              "    <button class=\"colab-df-generate\" onclick=\"generateWithVariable('df')\"\n",
              "            title=\"Generate code using this dataframe.\"\n",
              "            style=\"display:none;\">\n",
              "\n",
              "  <svg xmlns=\"http://www.w3.org/2000/svg\" height=\"24px\"viewBox=\"0 0 24 24\"\n",
              "       width=\"24px\">\n",
              "    <path d=\"M7,19H8.4L18.45,9,17,7.55,7,17.6ZM5,21V16.75L18.45,3.32a2,2,0,0,1,2.83,0l1.4,1.43a1.91,1.91,0,0,1,.58,1.4,1.91,1.91,0,0,1-.58,1.4L9.25,21ZM18.45,9,17,7.55Zm-12,3A5.31,5.31,0,0,0,4.9,8.1,5.31,5.31,0,0,0,1,6.5,5.31,5.31,0,0,0,4.9,4.9,5.31,5.31,0,0,0,6.5,1,5.31,5.31,0,0,0,8.1,4.9,5.31,5.31,0,0,0,12,6.5,5.46,5.46,0,0,0,6.5,12Z\"/>\n",
              "  </svg>\n",
              "    </button>\n",
              "    <script>\n",
              "      (() => {\n",
              "      const buttonEl =\n",
              "        document.querySelector('#id_988436e3-0d49-4b18-b1e8-ed820f1da300 button.colab-df-generate');\n",
              "      buttonEl.style.display =\n",
              "        google.colab.kernel.accessAllowed ? 'block' : 'none';\n",
              "\n",
              "      buttonEl.onclick = () => {\n",
              "        google.colab.notebook.generateWithVariable('df');\n",
              "      }\n",
              "      })();\n",
              "    </script>\n",
              "  </div>\n",
              "\n",
              "    </div>\n",
              "  </div>\n"
            ],
            "application/vnd.google.colaboratory.intrinsic+json": {
              "type": "dataframe",
              "variable_name": "df",
              "summary": "{\n  \"name\": \"df\",\n  \"rows\": 2,\n  \"fields\": [\n    {\n      \"column\": \"Language\",\n      \"properties\": {\n        \"dtype\": \"string\",\n        \"num_unique_values\": 2,\n        \"samples\": [\n          \"Python\",\n          \"C++\"\n        ],\n        \"semantic_type\": \"\",\n        \"description\": \"\"\n      }\n    },\n    {\n      \"column\": \"Super effienct (ms)\",\n      \"properties\": {\n        \"dtype\": \"number\",\n        \"std\": 16,\n        \"min\": 516,\n        \"max\": 539,\n        \"num_unique_values\": 2,\n        \"samples\": [\n          516,\n          539\n        ],\n        \"semantic_type\": \"\",\n        \"description\": \"\"\n      }\n    },\n    {\n      \"column\": \"Sort solution (ms)\",\n      \"properties\": {\n        \"dtype\": \"number\",\n        \"std\": 40,\n        \"min\": 485,\n        \"max\": 542,\n        \"num_unique_values\": 2,\n        \"samples\": [\n          485,\n          542\n        ],\n        \"semantic_type\": \"\",\n        \"description\": \"\"\n      }\n    }\n  ]\n}"
            }
          },
          "metadata": {}
        }
      ],
      "source": [
        "# Import the Pandas library\n",
        "import pandas as pd\n",
        "\n",
        "# Create a sample DataFrame\n",
        "data = {'Language': ['C++', 'Python'],\n",
        "        'Super effienct (ms)': [539, 516],\n",
        "        'Sort solution (ms)': [542, 485]}\n",
        "\n",
        "df = pd.DataFrame(data)\n",
        "\n",
        "# Display the table\n",
        "display(df)"
      ]
    }
  ],
  "metadata": {
    "colab": {
      "provenance": [],
      "include_colab_link": true
    },
    "kernelspec": {
      "display_name": "Python 3",
      "name": "python3"
    },
    "language_info": {
      "name": "python"
    }
  },
  "nbformat": 4,
  "nbformat_minor": 0
}